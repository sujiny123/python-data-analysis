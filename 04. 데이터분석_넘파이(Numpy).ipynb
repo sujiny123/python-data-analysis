{
 "cells": [
  {
   "cell_type": "markdown",
   "id": "e0de6731",
   "metadata": {},
   "source": [
    "# Numpy : Numerical Python의 줄임말\n",
    " - 벡터 및 행렬 연산에 특화된 라이브러리\n",
    " - array 단위로 데이터를 관리함\n",
    " - 행렬(matrix)와 비슷함\n",
    " - 리스트(list), 튜플(tuple), 사전(dictionary)에서 변환 가능\n",
    " - pandas와 함께 데이터분석에 주로 사용됨"
   ]
  },
  {
   "cell_type": "markdown",
   "id": "b0ab2087",
   "metadata": {},
   "source": [
    "# 실습예제"
   ]
  },
  {
   "cell_type": "markdown",
   "id": "92ddd228",
   "metadata": {},
   "source": [
    "## numpy 모듈 불러오기"
   ]
  },
  {
   "cell_type": "code",
   "execution_count": 3,
   "id": "6bf2036d",
   "metadata": {
    "ExecuteTime": {
     "end_time": "2023-09-25T05:14:24.504323Z",
     "start_time": "2023-09-25T05:14:24.413332Z"
    }
   },
   "outputs": [],
   "source": [
    "import numpy as np"
   ]
  },
  {
   "cell_type": "markdown",
   "id": "4cfaf9a0",
   "metadata": {},
   "source": [
    "## Array 정의 및 사용하기\n",
    " - 넘파이 배열이라는 표현으로 주로 사용한다.\n",
    " - 자료구조 : ndarray 객체(Ndarray)"
   ]
  },
  {
   "cell_type": "code",
   "execution_count": 4,
   "id": "3da740cf",
   "metadata": {
    "ExecuteTime": {
     "end_time": "2023-09-25T02:10:52.234602Z",
     "start_time": "2023-09-25T02:10:52.226524Z"
    }
   },
   "outputs": [
    {
     "name": "stdout",
     "output_type": "stream",
     "text": [
      "[1 2 3 4 5]\n",
      "<class 'list'>\n",
      "<class 'numpy.ndarray'>\n"
     ]
    }
   ],
   "source": [
    "# 리스트\n",
    "data1 = [1, 2, 3, 4, 5]\n",
    "arr1 = np.array(data1)\n",
    "print(arr1)\n",
    "print(type(data1))\n",
    "print(type(arr1))"
   ]
  },
  {
   "cell_type": "code",
   "execution_count": 5,
   "id": "9cd07490",
   "metadata": {
    "ExecuteTime": {
     "end_time": "2023-09-25T02:11:51.698755Z",
     "start_time": "2023-09-25T02:11:51.689263Z"
    }
   },
   "outputs": [
    {
     "data": {
      "text/plain": [
       "(5,)"
      ]
     },
     "execution_count": 5,
     "metadata": {},
     "output_type": "execute_result"
    }
   ],
   "source": [
    "# 넘파이 배열의 형태(차원)\n",
    "arr1.shape"
   ]
  },
  {
   "cell_type": "code",
   "execution_count": 7,
   "id": "a7858490",
   "metadata": {
    "ExecuteTime": {
     "end_time": "2023-09-25T02:13:14.925948Z",
     "start_time": "2023-09-25T02:13:14.915849Z"
    }
   },
   "outputs": [
    {
     "name": "stdout",
     "output_type": "stream",
     "text": [
      "[[1 2 3]\n",
      " [4 5 6]]\n",
      "(2, 3)\n"
     ]
    }
   ],
   "source": [
    "# 2차원 리스트\n",
    "data2=[[1, 2, 3], [4, 5, 6]]\n",
    "#리스트를 넘파이배열로생성\n",
    "arr2 = np.array(data2)\n",
    "print(arr2)\n",
    "print(arr2.shape)"
   ]
  },
  {
   "cell_type": "code",
   "execution_count": 12,
   "id": "2903f340",
   "metadata": {
    "ExecuteTime": {
     "end_time": "2023-09-25T02:16:24.839538Z",
     "start_time": "2023-09-25T02:16:24.831555Z"
    }
   },
   "outputs": [
    {
     "data": {
      "text/plain": [
       "array([[0.14285714, 0.25      , 0.33333333],\n",
       "       [0.4       , 0.45454545, 0.5       ]])"
      ]
     },
     "execution_count": 12,
     "metadata": {},
     "output_type": "execute_result"
    }
   ],
   "source": [
    "arr1 = np.array([[1, 2 ,3],[4, 5, 6]])\n",
    "arr2 = np.array([[7, 8, 9],[10, 11, 12]])\n",
    "#벡터화연산 : 배열의 구성요소의 같은위치끼리 연산을 수행\n",
    "arr1*arr2\n",
    "arr1-arr2\n",
    "arr1/arr2"
   ]
  },
  {
   "cell_type": "code",
   "execution_count": 13,
   "id": "89bde4c2",
   "metadata": {
    "ExecuteTime": {
     "end_time": "2023-09-25T02:17:04.666110Z",
     "start_time": "2023-09-25T02:17:04.652294Z"
    }
   },
   "outputs": [
    {
     "data": {
      "text/plain": [
       "array([[ 1,  4,  9],\n",
       "       [16, 25, 36]])"
      ]
     },
     "execution_count": 13,
     "metadata": {},
     "output_type": "execute_result"
    }
   ],
   "source": [
    "arr1 **2"
   ]
  },
  {
   "cell_type": "code",
   "execution_count": 14,
   "id": "c2fe38c0",
   "metadata": {
    "ExecuteTime": {
     "end_time": "2023-09-25T02:17:59.800331Z",
     "start_time": "2023-09-25T02:17:59.789062Z"
    }
   },
   "outputs": [
    {
     "data": {
      "text/plain": [
       "dtype('int32')"
      ]
     },
     "execution_count": 14,
     "metadata": {},
     "output_type": "execute_result"
    }
   ],
   "source": [
    "arr1.dtype"
   ]
  },
  {
   "cell_type": "markdown",
   "id": "b0825701",
   "metadata": {},
   "source": [
    "numpy 자료형\n",
    "- 부호가 있는 정수 int(8, 16, 32, 64)\n",
    "- 부호가 없는 정수 uint(8, 16, 32, 64)\n",
    "- 실수 float(16, 32, 64, 128)\n",
    "- 복소수 complex(64, 128, 256)\n",
    "- 블리언 bool(True, False)\n",
    "- 문자열 string\n",
    "- 파이썬 오브젝트(객체) object\n",
    "- 유니코드 unicode_"
   ]
  },
  {
   "cell_type": "code",
   "execution_count": 21,
   "id": "a8cb2a76",
   "metadata": {
    "ExecuteTime": {
     "end_time": "2023-09-25T02:23:19.918712Z",
     "start_time": "2023-09-25T02:23:19.910064Z"
    }
   },
   "outputs": [
    {
     "name": "stdout",
     "output_type": "stream",
     "text": [
      "<class 'numpy.ndarray'>\n",
      "['홍길동' '장보고' '이순신' '김유신' '유관순']\n",
      "홍길동\n",
      "['hon' '장보고' '이순신' '김유신' '유관순']\n",
      "['kim' 'kim' 'kim' 'kim' '유관순']\n"
     ]
    }
   ],
   "source": [
    "names = np.array(['홍길동', '장보고', '이순신', '김유신', '유관순'])\n",
    "print(type(names))\n",
    "print(names)\n",
    "print(names[0])\n",
    "names[0] = 'hong'\n",
    "print(names)\n",
    "names[0:4] = 'kim'\n",
    "print(names)"
   ]
  },
  {
   "cell_type": "markdown",
   "id": "2230530a",
   "metadata": {},
   "source": [
    "**numpy 단순 배열 생성**\n",
    "- zeros, ones\n",
    "- zeros_like, ones_like\n",
    "- empty\n",
    "- arange : python의 range()와 동일\n",
    "- linspace, logspace"
   ]
  },
  {
   "cell_type": "code",
   "execution_count": 22,
   "id": "69c216b0",
   "metadata": {
    "ExecuteTime": {
     "end_time": "2023-09-25T02:26:29.709885Z",
     "start_time": "2023-09-25T02:26:29.689440Z"
    }
   },
   "outputs": [
    {
     "data": {
      "text/plain": [
       "array([0., 0., 0., 0., 0., 0., 0., 0., 0., 0.])"
      ]
     },
     "execution_count": 22,
     "metadata": {},
     "output_type": "execute_result"
    }
   ],
   "source": [
    "# 크기가 정해져 있고, 모든 요소의 값이 0인 배열을 생성 zeros\n",
    "np.zeros(10)"
   ]
  },
  {
   "cell_type": "code",
   "execution_count": 23,
   "id": "187f91da",
   "metadata": {
    "ExecuteTime": {
     "end_time": "2023-09-25T02:27:06.013851Z",
     "start_time": "2023-09-25T02:27:06.000524Z"
    }
   },
   "outputs": [
    {
     "data": {
      "text/plain": [
       "array([[0., 0., 0., 0., 0.],\n",
       "       [0., 0., 0., 0., 0.],\n",
       "       [0., 0., 0., 0., 0.]])"
      ]
     },
     "execution_count": 23,
     "metadata": {},
     "output_type": "execute_result"
    }
   ],
   "source": [
    "np.zeros((3,5))"
   ]
  },
  {
   "cell_type": "code",
   "execution_count": 24,
   "id": "7756a187",
   "metadata": {
    "ExecuteTime": {
     "end_time": "2023-09-25T02:27:49.334555Z",
     "start_time": "2023-09-25T02:27:49.319623Z"
    }
   },
   "outputs": [
    {
     "data": {
      "text/plain": [
       "array([1., 1., 1., 1., 1., 1., 1., 1., 1.])"
      ]
     },
     "execution_count": 24,
     "metadata": {},
     "output_type": "execute_result"
    }
   ],
   "source": [
    "# np.ones() 함수는 매개변수로 배열의 크기, 모든요소의 값이 1인 배열이 생성\n",
    "np.ones(9)"
   ]
  },
  {
   "cell_type": "code",
   "execution_count": 26,
   "id": "665ca8c8",
   "metadata": {
    "ExecuteTime": {
     "end_time": "2023-09-25T02:28:23.733048Z",
     "start_time": "2023-09-25T02:28:23.728446Z"
    }
   },
   "outputs": [
    {
     "data": {
      "text/plain": [
       "array([[1., 1., 1., 1., 1., 1., 1., 1., 1., 1.],\n",
       "       [1., 1., 1., 1., 1., 1., 1., 1., 1., 1.]])"
      ]
     },
     "execution_count": 26,
     "metadata": {},
     "output_type": "execute_result"
    }
   ],
   "source": [
    "np.ones((2,10))"
   ]
  },
  {
   "cell_type": "code",
   "execution_count": 27,
   "id": "28c35b10",
   "metadata": {
    "ExecuteTime": {
     "end_time": "2023-09-25T02:30:02.741756Z",
     "start_time": "2023-09-25T02:30:02.721812Z"
    }
   },
   "outputs": [
    {
     "data": {
      "text/plain": [
       "array([0, 1, 2, 3, 4, 5, 6, 7, 8, 9])"
      ]
     },
     "execution_count": 27,
     "metadata": {},
     "output_type": "execute_result"
    }
   ],
   "source": [
    "# np.arange() 순열\n",
    "np.arange(10)"
   ]
  },
  {
   "cell_type": "code",
   "execution_count": 28,
   "id": "bb73037f",
   "metadata": {
    "ExecuteTime": {
     "end_time": "2023-09-25T02:30:20.624278Z",
     "start_time": "2023-09-25T02:30:20.613226Z"
    }
   },
   "outputs": [
    {
     "data": {
      "text/plain": [
       "array([3, 4, 5, 6, 7, 8, 9])"
      ]
     },
     "execution_count": 28,
     "metadata": {},
     "output_type": "execute_result"
    }
   ],
   "source": [
    "np.arange(3,10)"
   ]
  },
  {
   "cell_type": "markdown",
   "id": "eb53439b",
   "metadata": {},
   "source": [
    "**Array연산**\n",
    "- 벡터화 연산 : 배열을 구성하는 각 요소들의 같은 위치끼리 개별연산을 수행하는 기능\n",
    "- 브로드캐스팅 : 배열의 크기가 서로 다른 배열 연산시 작은크기의 배열이 큰 크기의 배열의 수에 맞춰 계산을 수행하는 기능"
   ]
  },
  {
   "cell_type": "code",
   "execution_count": 29,
   "id": "4841d85d",
   "metadata": {
    "ExecuteTime": {
     "end_time": "2023-09-25T02:35:22.263441Z",
     "start_time": "2023-09-25T02:35:22.247618Z"
    }
   },
   "outputs": [
    {
     "data": {
      "text/plain": [
       "array([[1, 2, 3],\n",
       "       [4, 5, 6]])"
      ]
     },
     "execution_count": 29,
     "metadata": {},
     "output_type": "execute_result"
    }
   ],
   "source": [
    "arr1 = np.array([[1, 2, 3],[4, 5, 6]])\n",
    "arr1"
   ]
  },
  {
   "cell_type": "code",
   "execution_count": 30,
   "id": "d1f435fb",
   "metadata": {
    "ExecuteTime": {
     "end_time": "2023-09-25T02:36:30.014039Z",
     "start_time": "2023-09-25T02:36:30.000269Z"
    }
   },
   "outputs": [
    {
     "data": {
      "text/plain": [
       "(2, 3)"
      ]
     },
     "execution_count": 30,
     "metadata": {},
     "output_type": "execute_result"
    }
   ],
   "source": [
    "arr2 = np.array([[10, 11, 12],[13, 14, 15]])\n",
    "arr2.shape"
   ]
  },
  {
   "cell_type": "code",
   "execution_count": 31,
   "id": "527c3d58",
   "metadata": {
    "ExecuteTime": {
     "end_time": "2023-09-25T02:36:42.513855Z",
     "start_time": "2023-09-25T02:36:42.497056Z"
    }
   },
   "outputs": [
    {
     "data": {
      "text/plain": [
       "array([[11, 13, 15],\n",
       "       [17, 19, 21]])"
      ]
     },
     "execution_count": 31,
     "metadata": {},
     "output_type": "execute_result"
    }
   ],
   "source": [
    "#array 덧셈\n",
    "arr1+arr2"
   ]
  },
  {
   "cell_type": "code",
   "execution_count": 32,
   "id": "d288deb7",
   "metadata": {
    "ExecuteTime": {
     "end_time": "2023-09-25T02:36:49.068457Z",
     "start_time": "2023-09-25T02:36:49.056071Z"
    }
   },
   "outputs": [
    {
     "data": {
      "text/plain": [
       "array([[-9, -9, -9],\n",
       "       [-9, -9, -9]])"
      ]
     },
     "execution_count": 32,
     "metadata": {},
     "output_type": "execute_result"
    }
   ],
   "source": [
    "arr1-arr2"
   ]
  },
  {
   "cell_type": "code",
   "execution_count": 33,
   "id": "829c98ed",
   "metadata": {
    "ExecuteTime": {
     "end_time": "2023-09-25T02:37:09.848185Z",
     "start_time": "2023-09-25T02:37:09.828837Z"
    }
   },
   "outputs": [
    {
     "data": {
      "text/plain": [
       "array([[10, 22, 36],\n",
       "       [52, 70, 90]])"
      ]
     },
     "execution_count": 33,
     "metadata": {},
     "output_type": "execute_result"
    }
   ],
   "source": [
    "arr1 * arr2"
   ]
  },
  {
   "cell_type": "code",
   "execution_count": 38,
   "id": "b15798b1",
   "metadata": {
    "ExecuteTime": {
     "end_time": "2023-09-25T02:41:21.336590Z",
     "start_time": "2023-09-25T02:41:21.331552Z"
    }
   },
   "outputs": [
    {
     "data": {
      "text/plain": [
       "array([[ 7, 10],\n",
       "       [15, 22]])"
      ]
     },
     "execution_count": 38,
     "metadata": {},
     "output_type": "execute_result"
    }
   ],
   "source": [
    "# 행렬곱 : a*b 와 c*d b=c\n",
    "a1 = np.array([[1,2],[3,4]])\n",
    "a2 = np.array([[1,2],[3,4]])\n",
    "np.dot(a1,a2)"
   ]
  },
  {
   "cell_type": "code",
   "execution_count": 40,
   "id": "53a2cad3",
   "metadata": {
    "ExecuteTime": {
     "end_time": "2023-09-25T02:42:22.952872Z",
     "start_time": "2023-09-25T02:42:22.942144Z"
    }
   },
   "outputs": [
    {
     "data": {
      "text/plain": [
       "(2, 3)"
      ]
     },
     "execution_count": 40,
     "metadata": {},
     "output_type": "execute_result"
    }
   ],
   "source": [
    "arr1.shape"
   ]
  },
  {
   "cell_type": "code",
   "execution_count": 41,
   "id": "e569f596",
   "metadata": {
    "ExecuteTime": {
     "end_time": "2023-09-25T02:42:40.599822Z",
     "start_time": "2023-09-25T02:42:40.581857Z"
    }
   },
   "outputs": [
    {
     "data": {
      "text/plain": [
       "array([10, 11, 12])"
      ]
     },
     "execution_count": 41,
     "metadata": {},
     "output_type": "execute_result"
    }
   ],
   "source": [
    "arr3=np.array([10,11,12])\n",
    "arr3"
   ]
  },
  {
   "cell_type": "code",
   "execution_count": 42,
   "id": "5a7e3b4e",
   "metadata": {
    "ExecuteTime": {
     "end_time": "2023-09-25T02:42:46.846955Z",
     "start_time": "2023-09-25T02:42:46.834080Z"
    }
   },
   "outputs": [
    {
     "data": {
      "text/plain": [
       "(3,)"
      ]
     },
     "execution_count": 42,
     "metadata": {},
     "output_type": "execute_result"
    }
   ],
   "source": [
    "arr3.shape"
   ]
  },
  {
   "cell_type": "code",
   "execution_count": 43,
   "id": "70853fcc",
   "metadata": {
    "ExecuteTime": {
     "end_time": "2023-09-25T02:42:57.118863Z",
     "start_time": "2023-09-25T02:42:57.113337Z"
    }
   },
   "outputs": [
    {
     "data": {
      "text/plain": [
       "array([[11, 13, 15],\n",
       "       [14, 16, 18]])"
      ]
     },
     "execution_count": 43,
     "metadata": {},
     "output_type": "execute_result"
    }
   ],
   "source": [
    "arr1 + arr3"
   ]
  },
  {
   "cell_type": "code",
   "execution_count": 44,
   "id": "bc4cef50",
   "metadata": {
    "ExecuteTime": {
     "end_time": "2023-09-25T02:43:36.370950Z",
     "start_time": "2023-09-25T02:43:36.366696Z"
    }
   },
   "outputs": [
    {
     "data": {
      "text/plain": [
       "array([[10, 20, 30],\n",
       "       [40, 50, 60]])"
      ]
     },
     "execution_count": 44,
     "metadata": {},
     "output_type": "execute_result"
    }
   ],
   "source": [
    "arr1 *10"
   ]
  },
  {
   "cell_type": "code",
   "execution_count": 45,
   "id": "5c4ebeab",
   "metadata": {
    "ExecuteTime": {
     "end_time": "2023-09-25T02:43:58.333015Z",
     "start_time": "2023-09-25T02:43:58.322230Z"
    }
   },
   "outputs": [
    {
     "data": {
      "text/plain": [
       "array([[ 1,  4,  9],\n",
       "       [16, 25, 36]])"
      ]
     },
     "execution_count": 45,
     "metadata": {},
     "output_type": "execute_result"
    }
   ],
   "source": [
    "arr1 **2"
   ]
  },
  {
   "cell_type": "markdown",
   "id": "a3d4c4ee",
   "metadata": {},
   "source": [
    "**Array 인덱싱**\n"
   ]
  },
  {
   "cell_type": "code",
   "execution_count": 47,
   "id": "039994c4",
   "metadata": {
    "ExecuteTime": {
     "end_time": "2023-09-25T02:45:04.691533Z",
     "start_time": "2023-09-25T02:45:04.681073Z"
    }
   },
   "outputs": [
    {
     "data": {
      "text/plain": [
       "array([0, 1, 2, 3, 4, 5, 6, 7, 8, 9])"
      ]
     },
     "execution_count": 47,
     "metadata": {},
     "output_type": "execute_result"
    }
   ],
   "source": [
    "arr1 = np.arange(10)\n",
    "arr1"
   ]
  },
  {
   "cell_type": "code",
   "execution_count": 48,
   "id": "2c9819cb",
   "metadata": {
    "ExecuteTime": {
     "end_time": "2023-09-25T02:45:22.025971Z",
     "start_time": "2023-09-25T02:45:22.005520Z"
    }
   },
   "outputs": [
    {
     "data": {
      "text/plain": [
       "0"
      ]
     },
     "execution_count": 48,
     "metadata": {},
     "output_type": "execute_result"
    }
   ],
   "source": [
    "#0번째요소\n",
    "arr1[0]"
   ]
  },
  {
   "cell_type": "code",
   "execution_count": 50,
   "id": "0afe9e6e",
   "metadata": {
    "ExecuteTime": {
     "end_time": "2023-09-25T02:45:40.859293Z",
     "start_time": "2023-09-25T02:45:40.847585Z"
    }
   },
   "outputs": [
    {
     "data": {
      "text/plain": [
       "2"
      ]
     },
     "execution_count": 50,
     "metadata": {},
     "output_type": "execute_result"
    }
   ],
   "source": [
    "arr1[2]"
   ]
  },
  {
   "cell_type": "code",
   "execution_count": 53,
   "id": "79b79a83",
   "metadata": {
    "ExecuteTime": {
     "end_time": "2023-09-25T02:46:22.743678Z",
     "start_time": "2023-09-25T02:46:22.734741Z"
    }
   },
   "outputs": [
    {
     "data": {
      "text/plain": [
       "array([3, 4, 5, 6, 7, 8])"
      ]
     },
     "execution_count": 53,
     "metadata": {},
     "output_type": "execute_result"
    }
   ],
   "source": [
    "arr1[3:9]"
   ]
  },
  {
   "cell_type": "code",
   "execution_count": 54,
   "id": "7b409b5b",
   "metadata": {
    "ExecuteTime": {
     "end_time": "2023-09-25T02:46:48.258041Z",
     "start_time": "2023-09-25T02:46:48.251915Z"
    }
   },
   "outputs": [
    {
     "data": {
      "text/plain": [
       "array([0, 1, 2, 3, 4, 5, 6, 7, 8, 9])"
      ]
     },
     "execution_count": 54,
     "metadata": {},
     "output_type": "execute_result"
    }
   ],
   "source": [
    "arr1[:]"
   ]
  },
  {
   "cell_type": "code",
   "execution_count": 55,
   "id": "008261ae",
   "metadata": {
    "ExecuteTime": {
     "end_time": "2023-09-25T02:47:52.160315Z",
     "start_time": "2023-09-25T02:47:52.148057Z"
    }
   },
   "outputs": [],
   "source": [
    "arr2 = np.array([[1,2,3,4],[5,6,7,8],[9,10,11,12]])"
   ]
  },
  {
   "cell_type": "code",
   "execution_count": 56,
   "id": "c195b53d",
   "metadata": {
    "ExecuteTime": {
     "end_time": "2023-09-25T02:47:56.264579Z",
     "start_time": "2023-09-25T02:47:56.257875Z"
    }
   },
   "outputs": [
    {
     "data": {
      "text/plain": [
       "array([[ 1,  2,  3,  4],\n",
       "       [ 5,  6,  7,  8],\n",
       "       [ 9, 10, 11, 12]])"
      ]
     },
     "execution_count": 56,
     "metadata": {},
     "output_type": "execute_result"
    }
   ],
   "source": [
    "arr2"
   ]
  },
  {
   "cell_type": "code",
   "execution_count": 57,
   "id": "d704ccd1",
   "metadata": {
    "ExecuteTime": {
     "end_time": "2023-09-25T02:48:42.467099Z",
     "start_time": "2023-09-25T02:48:42.455983Z"
    }
   },
   "outputs": [
    {
     "data": {
      "text/plain": [
       "1"
      ]
     },
     "execution_count": 57,
     "metadata": {},
     "output_type": "execute_result"
    }
   ],
   "source": [
    "#배열명(행,열) 배열명[행][열]\n",
    "arr2[0,0]"
   ]
  },
  {
   "cell_type": "code",
   "execution_count": 59,
   "id": "6e000f27",
   "metadata": {
    "ExecuteTime": {
     "end_time": "2023-09-25T02:49:05.725440Z",
     "start_time": "2023-09-25T02:49:05.713715Z"
    }
   },
   "outputs": [
    {
     "data": {
      "text/plain": [
       "array([5, 6, 7, 8])"
      ]
     },
     "execution_count": 59,
     "metadata": {},
     "output_type": "execute_result"
    }
   ],
   "source": [
    "arr2[1,:]"
   ]
  },
  {
   "cell_type": "code",
   "execution_count": 60,
   "id": "a97d7b9e",
   "metadata": {
    "ExecuteTime": {
     "end_time": "2023-09-25T02:49:37.961437Z",
     "start_time": "2023-09-25T02:49:37.949066Z"
    }
   },
   "outputs": [
    {
     "data": {
      "text/plain": [
       "12"
      ]
     },
     "execution_count": 60,
     "metadata": {},
     "output_type": "execute_result"
    }
   ],
   "source": [
    "arr2[2,3]"
   ]
  },
  {
   "cell_type": "code",
   "execution_count": 61,
   "id": "0659c1b4",
   "metadata": {
    "ExecuteTime": {
     "end_time": "2023-09-25T02:50:17.939048Z",
     "start_time": "2023-09-25T02:50:17.927549Z"
    }
   },
   "outputs": [
    {
     "data": {
      "text/plain": [
       "array([ 4,  8, 12])"
      ]
     },
     "execution_count": 61,
     "metadata": {},
     "output_type": "execute_result"
    }
   ],
   "source": [
    "#모든 행의 3번째 열의 요소 추출\n",
    "arr2[:,3]"
   ]
  },
  {
   "cell_type": "markdown",
   "id": "96f18a19",
   "metadata": {},
   "source": [
    "**Array의 Fancy Indexing(Boolean Indexing)**"
   ]
  },
  {
   "cell_type": "code",
   "execution_count": 62,
   "id": "cd77483d",
   "metadata": {
    "ExecuteTime": {
     "end_time": "2023-09-25T02:53:21.530518Z",
     "start_time": "2023-09-25T02:53:21.516244Z"
    }
   },
   "outputs": [
    {
     "data": {
      "text/plain": [
       "(8,)"
      ]
     },
     "execution_count": 62,
     "metadata": {},
     "output_type": "execute_result"
    }
   ],
   "source": [
    "names = np.array(['Beomwoo','Beomwoo','Kim', 'Joan', 'Lee', 'Beomwoo','Park','Beomwoo'])\n",
    "names.shape"
   ]
  },
  {
   "cell_type": "code",
   "execution_count": 63,
   "id": "4e587ced",
   "metadata": {
    "ExecuteTime": {
     "end_time": "2023-09-25T02:54:29.154986Z",
     "start_time": "2023-09-25T02:54:29.138402Z"
    }
   },
   "outputs": [],
   "source": [
    "#정규분포난수 : 평균 0 표준편차 1\n",
    "data = np.random.randn(8,4)"
   ]
  },
  {
   "cell_type": "code",
   "execution_count": 64,
   "id": "da1ef5bd",
   "metadata": {
    "ExecuteTime": {
     "end_time": "2023-09-25T02:54:54.825490Z",
     "start_time": "2023-09-25T02:54:54.818516Z"
    }
   },
   "outputs": [
    {
     "data": {
      "text/plain": [
       "array([[-0.27460694,  0.60159691,  0.14435707, -1.05502769],\n",
       "       [-0.517805  , -0.07901612,  0.09734512, -0.48590961],\n",
       "       [ 1.50919508,  0.40631731, -0.42868779, -1.8614546 ],\n",
       "       [-1.0701519 ,  0.46587812, -1.29446839,  0.4670501 ],\n",
       "       [ 1.56070022, -2.45272536,  0.11980871, -0.85628597],\n",
       "       [ 0.48105981, -1.31420172,  1.38004031, -0.23705546],\n",
       "       [ 1.65308714, -0.43109739, -1.18642033, -1.19578526],\n",
       "       [-0.27894314, -2.12898833,  2.08488457,  1.03023283]])"
      ]
     },
     "execution_count": 64,
     "metadata": {},
     "output_type": "execute_result"
    }
   ],
   "source": [
    "data"
   ]
  },
  {
   "cell_type": "code",
   "execution_count": 66,
   "id": "a2d854d3",
   "metadata": {
    "ExecuteTime": {
     "end_time": "2023-09-25T02:58:28.569271Z",
     "start_time": "2023-09-25T02:58:28.557452Z"
    }
   },
   "outputs": [
    {
     "data": {
      "text/plain": [
       "array([ True,  True, False, False, False,  True, False,  True])"
      ]
     },
     "execution_count": 66,
     "metadata": {},
     "output_type": "execute_result"
    }
   ],
   "source": [
    "# 벡터화 연산\n",
    "mask = names =='Beomwoo'\n",
    "mask"
   ]
  },
  {
   "cell_type": "code",
   "execution_count": 67,
   "id": "856523bd",
   "metadata": {
    "ExecuteTime": {
     "end_time": "2023-09-25T02:58:59.954823Z",
     "start_time": "2023-09-25T02:58:59.941541Z"
    }
   },
   "outputs": [
    {
     "data": {
      "text/plain": [
       "array([[-0.27460694,  0.60159691,  0.14435707, -1.05502769],\n",
       "       [-0.517805  , -0.07901612,  0.09734512, -0.48590961],\n",
       "       [ 0.48105981, -1.31420172,  1.38004031, -0.23705546],\n",
       "       [-0.27894314, -2.12898833,  2.08488457,  1.03023283]])"
      ]
     },
     "execution_count": 67,
     "metadata": {},
     "output_type": "execute_result"
    }
   ],
   "source": [
    "data[mask,:]"
   ]
  },
  {
   "cell_type": "code",
   "execution_count": 68,
   "id": "6339cc74",
   "metadata": {
    "ExecuteTime": {
     "end_time": "2023-09-25T03:02:48.733115Z",
     "start_time": "2023-09-25T03:02:48.716770Z"
    }
   },
   "outputs": [
    {
     "data": {
      "text/plain": [
       "array([[ 1.50919508,  0.40631731, -0.42868779, -1.8614546 ],\n",
       "       [ 1.56070022, -2.45272536,  0.11980871, -0.85628597],\n",
       "       [ 0.48105981, -1.31420172,  1.38004031, -0.23705546],\n",
       "       [ 1.65308714, -0.43109739, -1.18642033, -1.19578526]])"
      ]
     },
     "execution_count": 68,
     "metadata": {},
     "output_type": "execute_result"
    }
   ],
   "source": [
    "data[data[:,0]>0,:]"
   ]
  },
  {
   "cell_type": "code",
   "execution_count": 69,
   "id": "9d5a42f8",
   "metadata": {
    "ExecuteTime": {
     "end_time": "2023-09-25T03:03:49.020278Z",
     "start_time": "2023-09-25T03:03:49.003592Z"
    }
   },
   "outputs": [
    {
     "data": {
      "text/plain": [
       "array([[ 0.14435707, -1.05502769],\n",
       "       [ 0.09734512, -0.48590961],\n",
       "       [-1.29446839,  0.4670501 ],\n",
       "       [ 2.08488457,  1.03023283]])"
      ]
     },
     "execution_count": 69,
     "metadata": {},
     "output_type": "execute_result"
    }
   ],
   "source": [
    "#0번째 열의 값이 0보다 작은 행의 2,3번째 열값 추출\n",
    "data[data[:,0]<0,2:4]"
   ]
  },
  {
   "cell_type": "code",
   "execution_count": 71,
   "id": "ec990815",
   "metadata": {
    "ExecuteTime": {
     "end_time": "2023-09-25T03:06:48.397271Z",
     "start_time": "2023-09-25T03:06:48.382124Z"
    }
   },
   "outputs": [
    {
     "data": {
      "text/plain": [
       "array([[-0.27460694,  0.60159691,  0.        ,  0.        ],\n",
       "       [-0.517805  , -0.07901612,  0.        ,  0.        ],\n",
       "       [ 1.50919508,  0.40631731, -0.42868779, -1.8614546 ],\n",
       "       [-1.0701519 ,  0.46587812,  0.        ,  0.        ],\n",
       "       [ 1.56070022, -2.45272536,  0.11980871, -0.85628597],\n",
       "       [ 0.48105981, -1.31420172,  1.38004031, -0.23705546],\n",
       "       [ 1.65308714, -0.43109739, -1.18642033, -1.19578526],\n",
       "       [-0.27894314, -2.12898833,  0.        ,  0.        ]])"
      ]
     },
     "execution_count": 71,
     "metadata": {},
     "output_type": "execute_result"
    }
   ],
   "source": [
    "#0번째 열의값이 0보다작은 행의 2,3번째 열값을 0으로 치환\n",
    "data[data[:,0]<0,2:4] = 0\n",
    "data"
   ]
  },
  {
   "cell_type": "code",
   "execution_count": 73,
   "id": "ec065888",
   "metadata": {
    "ExecuteTime": {
     "end_time": "2023-09-25T03:18:56.863537Z",
     "start_time": "2023-09-25T03:18:56.847942Z"
    }
   },
   "outputs": [
    {
     "data": {
      "text/plain": [
       "array([0, 1, 2, 3, 4, 5, 6, 7, 8, 9])"
      ]
     },
     "execution_count": 73,
     "metadata": {},
     "output_type": "execute_result"
    }
   ],
   "source": [
    "# 배열의 형태 변환 : reshape()\n",
    "# size 요소의개수 추출\n",
    "data.size\n",
    "arr1 = np.arange(10)\n",
    "arr1"
   ]
  },
  {
   "cell_type": "code",
   "execution_count": 74,
   "id": "43a339cb",
   "metadata": {
    "ExecuteTime": {
     "end_time": "2023-09-25T03:19:02.549388Z",
     "start_time": "2023-09-25T03:19:02.536642Z"
    }
   },
   "outputs": [
    {
     "data": {
      "text/plain": [
       "1"
      ]
     },
     "execution_count": 74,
     "metadata": {},
     "output_type": "execute_result"
    }
   ],
   "source": [
    "arr1[1]"
   ]
  },
  {
   "cell_type": "code",
   "execution_count": 76,
   "id": "556b86d0",
   "metadata": {
    "ExecuteTime": {
     "end_time": "2023-09-25T03:19:57.172078Z",
     "start_time": "2023-09-25T03:19:57.155949Z"
    }
   },
   "outputs": [
    {
     "data": {
      "text/plain": [
       "array([[0, 1, 2],\n",
       "       [3, 4, 5],\n",
       "       [6, 7, 8]])"
      ]
     },
     "execution_count": 76,
     "metadata": {},
     "output_type": "execute_result"
    }
   ],
   "source": [
    "arr2 = np.arange(9).reshape(3,3)\n",
    "arr2"
   ]
  },
  {
   "cell_type": "code",
   "execution_count": 77,
   "id": "c0db0be8",
   "metadata": {
    "ExecuteTime": {
     "end_time": "2023-09-25T03:20:13.842994Z",
     "start_time": "2023-09-25T03:20:13.829532Z"
    }
   },
   "outputs": [
    {
     "data": {
      "text/plain": [
       "7"
      ]
     },
     "execution_count": 77,
     "metadata": {},
     "output_type": "execute_result"
    }
   ],
   "source": [
    "arr2[2,1]"
   ]
  },
  {
   "cell_type": "code",
   "execution_count": 78,
   "id": "32f835fd",
   "metadata": {
    "ExecuteTime": {
     "end_time": "2023-09-25T03:21:08.570362Z",
     "start_time": "2023-09-25T03:21:08.566662Z"
    }
   },
   "outputs": [],
   "source": [
    "arr3 = np.reshape(np.arange(24),(2,3,4))"
   ]
  },
  {
   "cell_type": "code",
   "execution_count": 79,
   "id": "3a3b54be",
   "metadata": {
    "ExecuteTime": {
     "end_time": "2023-09-25T03:21:11.112780Z",
     "start_time": "2023-09-25T03:21:11.107003Z"
    }
   },
   "outputs": [
    {
     "data": {
      "text/plain": [
       "array([[[ 0,  1,  2,  3],\n",
       "        [ 4,  5,  6,  7],\n",
       "        [ 8,  9, 10, 11]],\n",
       "\n",
       "       [[12, 13, 14, 15],\n",
       "        [16, 17, 18, 19],\n",
       "        [20, 21, 22, 23]]])"
      ]
     },
     "execution_count": 79,
     "metadata": {},
     "output_type": "execute_result"
    }
   ],
   "source": [
    "arr3"
   ]
  },
  {
   "cell_type": "code",
   "execution_count": 80,
   "id": "4324f387",
   "metadata": {
    "ExecuteTime": {
     "end_time": "2023-09-25T03:21:53.115167Z",
     "start_time": "2023-09-25T03:21:53.107083Z"
    }
   },
   "outputs": [
    {
     "data": {
      "text/plain": [
       "18"
      ]
     },
     "execution_count": 80,
     "metadata": {},
     "output_type": "execute_result"
    }
   ],
   "source": [
    "arr3[1,1,2]"
   ]
  },
  {
   "cell_type": "code",
   "execution_count": 82,
   "id": "bb799da4",
   "metadata": {
    "ExecuteTime": {
     "end_time": "2023-09-25T03:22:25.959162Z",
     "start_time": "2023-09-25T03:22:25.946395Z"
    }
   },
   "outputs": [
    {
     "data": {
      "text/plain": [
       "23"
      ]
     },
     "execution_count": 82,
     "metadata": {},
     "output_type": "execute_result"
    }
   ],
   "source": [
    "arr3[1][2][3]"
   ]
  },
  {
   "cell_type": "markdown",
   "id": "ace3d13f",
   "metadata": {},
   "source": [
    "**slicing(슬라이싱) : 데이터의 일부분을 추출**\n",
    "- 모든 배열은 항상 원본 배열의 뷰(view)이다.\n",
    "- 뷰(view)는 원본 객체를 인덱싱하여 자른 후 생성된 배열을 뜻한다.\n",
    "- 데이터베이스(Oracle)의 뷰(view)는 원본에서부터 유도된 가상테이블이다."
   ]
  },
  {
   "cell_type": "code",
   "execution_count": 83,
   "id": "37941247",
   "metadata": {
    "ExecuteTime": {
     "end_time": "2023-09-25T03:26:12.259350Z",
     "start_time": "2023-09-25T03:26:12.243352Z"
    }
   },
   "outputs": [
    {
     "data": {
      "text/plain": [
       "array([0, 1, 2, 3, 4, 5, 6, 7, 8, 9])"
      ]
     },
     "execution_count": 83,
     "metadata": {},
     "output_type": "execute_result"
    }
   ],
   "source": [
    "arr1"
   ]
  },
  {
   "cell_type": "code",
   "execution_count": 84,
   "id": "9773c726",
   "metadata": {
    "ExecuteTime": {
     "end_time": "2023-09-25T03:26:26.779169Z",
     "start_time": "2023-09-25T03:26:26.759876Z"
    }
   },
   "outputs": [
    {
     "data": {
      "text/plain": [
       "array([0, 1, 2, 3, 4, 5])"
      ]
     },
     "execution_count": 84,
     "metadata": {},
     "output_type": "execute_result"
    }
   ],
   "source": [
    "arr1[:6]"
   ]
  },
  {
   "cell_type": "code",
   "execution_count": 85,
   "id": "21a907af",
   "metadata": {
    "ExecuteTime": {
     "end_time": "2023-09-25T03:26:41.419115Z",
     "start_time": "2023-09-25T03:26:41.407297Z"
    }
   },
   "outputs": [
    {
     "data": {
      "text/plain": [
       "array([0, 1, 2, 3])"
      ]
     },
     "execution_count": 85,
     "metadata": {},
     "output_type": "execute_result"
    }
   ],
   "source": [
    "arr1[0:4]"
   ]
  },
  {
   "cell_type": "code",
   "execution_count": 86,
   "id": "5de15cd2",
   "metadata": {
    "ExecuteTime": {
     "end_time": "2023-09-25T03:27:28.139659Z",
     "start_time": "2023-09-25T03:27:28.124855Z"
    }
   },
   "outputs": [
    {
     "data": {
      "text/plain": [
       "array([1, 3, 5, 7, 9])"
      ]
     },
     "execution_count": 86,
     "metadata": {},
     "output_type": "execute_result"
    }
   ],
   "source": [
    "arr1[1::2]"
   ]
  },
  {
   "cell_type": "code",
   "execution_count": 87,
   "id": "758b5fbb",
   "metadata": {
    "ExecuteTime": {
     "end_time": "2023-09-25T03:27:51.835011Z",
     "start_time": "2023-09-25T03:27:51.819025Z"
    }
   },
   "outputs": [
    {
     "data": {
      "text/plain": [
       "array([1, 3, 5])"
      ]
     },
     "execution_count": 87,
     "metadata": {},
     "output_type": "execute_result"
    }
   ],
   "source": [
    "arr1[1:7:2]"
   ]
  },
  {
   "cell_type": "code",
   "execution_count": 88,
   "id": "71c05039",
   "metadata": {
    "ExecuteTime": {
     "end_time": "2023-09-25T03:28:14.793771Z",
     "start_time": "2023-09-25T03:28:14.788684Z"
    }
   },
   "outputs": [
    {
     "data": {
      "text/plain": [
       "array([0, 2, 4, 6, 8])"
      ]
     },
     "execution_count": 88,
     "metadata": {},
     "output_type": "execute_result"
    }
   ],
   "source": [
    "arr1[::2]"
   ]
  },
  {
   "cell_type": "code",
   "execution_count": 89,
   "id": "51e4ebcd",
   "metadata": {
    "ExecuteTime": {
     "end_time": "2023-09-25T03:28:51.603114Z",
     "start_time": "2023-09-25T03:28:51.594145Z"
    }
   },
   "outputs": [
    {
     "data": {
      "text/plain": [
       "array([7, 8])"
      ]
     },
     "execution_count": 89,
     "metadata": {},
     "output_type": "execute_result"
    }
   ],
   "source": [
    "arr1[-3:9]"
   ]
  },
  {
   "cell_type": "code",
   "execution_count": 90,
   "id": "3d77cdeb",
   "metadata": {
    "ExecuteTime": {
     "end_time": "2023-09-25T03:29:56.174344Z",
     "start_time": "2023-09-25T03:29:56.155678Z"
    }
   },
   "outputs": [
    {
     "data": {
      "text/plain": [
       "array([0, 1, 2, 3, 4, 5, 6])"
      ]
     },
     "execution_count": 90,
     "metadata": {},
     "output_type": "execute_result"
    }
   ],
   "source": [
    "arr1[:-3]"
   ]
  },
  {
   "cell_type": "code",
   "execution_count": 91,
   "id": "47a3d253",
   "metadata": {
    "ExecuteTime": {
     "end_time": "2023-09-25T03:31:09.245269Z",
     "start_time": "2023-09-25T03:31:09.236356Z"
    }
   },
   "outputs": [
    {
     "data": {
      "text/plain": [
       "array([[0, 1],\n",
       "       [3, 4]])"
      ]
     },
     "execution_count": 91,
     "metadata": {},
     "output_type": "execute_result"
    }
   ],
   "source": [
    "arr2[:2,:2]"
   ]
  },
  {
   "cell_type": "code",
   "execution_count": 92,
   "id": "a8aade64",
   "metadata": {
    "ExecuteTime": {
     "end_time": "2023-09-25T03:31:39.594908Z",
     "start_time": "2023-09-25T03:31:39.576651Z"
    }
   },
   "outputs": [
    {
     "data": {
      "text/plain": [
       "array([[2, 1, 0],\n",
       "       [5, 4, 3],\n",
       "       [8, 7, 6]])"
      ]
     },
     "execution_count": 92,
     "metadata": {},
     "output_type": "execute_result"
    }
   ],
   "source": [
    "arr2[:,::-1]"
   ]
  },
  {
   "cell_type": "markdown",
   "id": "3923e33f",
   "metadata": {},
   "source": [
    "## Numpy 기술 통계 관련 함수\n",
    "- 간단한 통계를 계산할 때 사용하는 함수\n",
    "- 데이터의 개수(count)\n",
    "- 데이터의 평균(mean, average)\n",
    "- 분산(varaiance, var)\n",
    "- 표준편차(std, standard deviation)\n",
    "- 최대값(max, maximum)\n",
    "- 최소값(min, minimum)\n",
    "- 중앙값(median) : 짝수는 가운데 두개 홀수는 가운데 하나\n",
    "- 사분위수(quantile)\n"
   ]
  },
  {
   "cell_type": "markdown",
   "id": "37253147",
   "metadata": {},
   "source": [
    "## 집계함수(Aggregate Function)\n",
    "- numpy의 모든 집계 함수는 axis를 기준으로 계산된다.\n",
    "- 집계함수에 axis를 지정하지 않으면 axis=None이다.\n",
    "- axis = None, 0, 1 이다.\n",
    "- axis = None : 전체 행렬을 하나의 배열로 간주하여 범위 전체를 대상으로 계산\n",
    "- axis = 0 : 행을 기준으로 각 행의 동일한 인덱스의 요소를 그룹으로 계산(열단위 계산)\n",
    "- axis = 1 : 열을 기준으로 각 열의 동일한 인덱스의 요소를 그룹으로 계산(행단위 계산)\n"
   ]
  },
  {
   "cell_type": "code",
   "execution_count": 5,
   "id": "2da1ef4a",
   "metadata": {
    "ExecuteTime": {
     "end_time": "2023-09-25T05:14:46.412951Z",
     "start_time": "2023-09-25T05:14:46.407849Z"
    }
   },
   "outputs": [],
   "source": [
    "a = np.arange(1,10).reshape(3,3)"
   ]
  },
  {
   "cell_type": "code",
   "execution_count": 94,
   "id": "70d7d116",
   "metadata": {
    "ExecuteTime": {
     "end_time": "2023-09-25T03:42:30.214551Z",
     "start_time": "2023-09-25T03:42:30.209476Z"
    }
   },
   "outputs": [
    {
     "data": {
      "text/plain": [
       "array([[1, 2, 3],\n",
       "       [4, 5, 6],\n",
       "       [7, 8, 9]])"
      ]
     },
     "execution_count": 94,
     "metadata": {},
     "output_type": "execute_result"
    }
   ],
   "source": [
    "a"
   ]
  },
  {
   "cell_type": "markdown",
   "id": "225bf24f",
   "metadata": {},
   "source": [
    "**수업에 사용할 함수 정의**"
   ]
  },
  {
   "cell_type": "code",
   "execution_count": 23,
   "id": "dae29e43",
   "metadata": {
    "ExecuteTime": {
     "end_time": "2023-09-25T05:33:23.950447Z",
     "start_time": "2023-09-25T05:33:23.938299Z"
    }
   },
   "outputs": [],
   "source": [
    "def pprint(arr):\n",
    "    print('type : {}'.format(type(arr)))\n",
    "    print('shape : {}, dimension : {}, dtype : {}'.format(arr.shape, arr.ndim, arr.dtype))\n",
    "    print('Array\"s Data : \\n', arr)"
   ]
  },
  {
   "cell_type": "code",
   "execution_count": 98,
   "id": "f428f202",
   "metadata": {
    "ExecuteTime": {
     "end_time": "2023-09-25T03:47:26.192244Z",
     "start_time": "2023-09-25T03:47:26.176889Z"
    }
   },
   "outputs": [
    {
     "name": "stdout",
     "output_type": "stream",
     "text": [
      "type : <class 'numpy.ndarray'>\n",
      "shape : (3, 3), dimension : 2, dtype : int32\n",
      "Array\"s Data : \n",
      " [[1 2 3]\n",
      " [4 5 6]\n",
      " [7 8 9]]\n"
     ]
    }
   ],
   "source": [
    "pprint(a)"
   ]
  },
  {
   "cell_type": "code",
   "execution_count": 99,
   "id": "b9340511",
   "metadata": {
    "ExecuteTime": {
     "end_time": "2023-09-25T03:49:18.704615Z",
     "start_time": "2023-09-25T03:49:18.687302Z"
    }
   },
   "outputs": [
    {
     "data": {
      "text/plain": [
       "(45, 45)"
      ]
     },
     "execution_count": 99,
     "metadata": {},
     "output_type": "execute_result"
    }
   ],
   "source": [
    "# ndarray 배열객체.함수()\n",
    "# np.함수(객체)\n",
    "a.sum(), np.sum(a)"
   ]
  },
  {
   "cell_type": "code",
   "execution_count": 100,
   "id": "68c10dce",
   "metadata": {
    "ExecuteTime": {
     "end_time": "2023-09-25T03:50:27.440459Z",
     "start_time": "2023-09-25T03:50:27.432698Z"
    }
   },
   "outputs": [
    {
     "data": {
      "text/plain": [
       "(array([12, 15, 18]), array([12, 15, 18]))"
      ]
     },
     "execution_count": 100,
     "metadata": {},
     "output_type": "execute_result"
    }
   ],
   "source": [
    "a.sum(axis=0), np.sum(a,axis=0)"
   ]
  },
  {
   "cell_type": "code",
   "execution_count": 101,
   "id": "8af09153",
   "metadata": {
    "ExecuteTime": {
     "end_time": "2023-09-25T03:51:04.109438Z",
     "start_time": "2023-09-25T03:51:04.099406Z"
    }
   },
   "outputs": [
    {
     "data": {
      "text/plain": [
       "(array([ 6, 15, 24]), array([ 6, 15, 24]))"
      ]
     },
     "execution_count": 101,
     "metadata": {},
     "output_type": "execute_result"
    }
   ],
   "source": [
    "a.sum(axis=1), np.sum(a,axis=1)"
   ]
  },
  {
   "cell_type": "markdown",
   "id": "c4967646",
   "metadata": {},
   "source": [
    "**ndarray객체.min() or np.min():최소값**"
   ]
  },
  {
   "cell_type": "code",
   "execution_count": 7,
   "id": "d76e4d3d",
   "metadata": {
    "ExecuteTime": {
     "end_time": "2023-09-25T05:15:25.053440Z",
     "start_time": "2023-09-25T05:15:25.036399Z"
    }
   },
   "outputs": [
    {
     "data": {
      "text/plain": [
       "(array([1, 2, 3]), array([1, 2, 3]))"
      ]
     },
     "execution_count": 7,
     "metadata": {},
     "output_type": "execute_result"
    }
   ],
   "source": [
    "a.min(axis=0), np.min(a, axis=0)"
   ]
  },
  {
   "cell_type": "code",
   "execution_count": 8,
   "id": "0841a6c2",
   "metadata": {
    "ExecuteTime": {
     "end_time": "2023-09-25T05:16:34.927021Z",
     "start_time": "2023-09-25T05:16:34.913998Z"
    }
   },
   "outputs": [
    {
     "data": {
      "text/plain": [
       "(array([1, 4, 7]), array([1, 4, 7]))"
      ]
     },
     "execution_count": 8,
     "metadata": {},
     "output_type": "execute_result"
    }
   ],
   "source": [
    "a.min(axis=1), np.min(a, axis=1)"
   ]
  },
  {
   "cell_type": "markdown",
   "id": "0a6afca3",
   "metadata": {},
   "source": [
    "**ndarray객체.max() or np.max(객체)**"
   ]
  },
  {
   "cell_type": "code",
   "execution_count": 9,
   "id": "657682c0",
   "metadata": {
    "ExecuteTime": {
     "end_time": "2023-09-25T05:17:57.698482Z",
     "start_time": "2023-09-25T05:17:57.679659Z"
    }
   },
   "outputs": [
    {
     "data": {
      "text/plain": [
       "(9, 9)"
      ]
     },
     "execution_count": 9,
     "metadata": {},
     "output_type": "execute_result"
    }
   ],
   "source": [
    "a.max(), np.max(a)"
   ]
  },
  {
   "cell_type": "code",
   "execution_count": 10,
   "id": "38146d7d",
   "metadata": {
    "ExecuteTime": {
     "end_time": "2023-09-25T05:18:16.851468Z",
     "start_time": "2023-09-25T05:18:16.845008Z"
    }
   },
   "outputs": [
    {
     "data": {
      "text/plain": [
       "(array([7, 8, 9]), array([7, 8, 9]))"
      ]
     },
     "execution_count": 10,
     "metadata": {},
     "output_type": "execute_result"
    }
   ],
   "source": [
    "a.max(axis=0), np.max(a, axis=0)"
   ]
  },
  {
   "cell_type": "code",
   "execution_count": 11,
   "id": "029ad3ba",
   "metadata": {
    "ExecuteTime": {
     "end_time": "2023-09-25T05:18:34.218437Z",
     "start_time": "2023-09-25T05:18:34.201348Z"
    }
   },
   "outputs": [
    {
     "data": {
      "text/plain": [
       "(array([3, 6, 9]), array([3, 6, 9]))"
      ]
     },
     "execution_count": 11,
     "metadata": {},
     "output_type": "execute_result"
    }
   ],
   "source": [
    "a.max(axis=1), np.max(a, axis=1)"
   ]
  },
  {
   "cell_type": "markdown",
   "id": "ddbf3e6c",
   "metadata": {},
   "source": [
    "**ndarray객체.cumsum() or np.cumsom() : 누적합계**"
   ]
  },
  {
   "cell_type": "code",
   "execution_count": 12,
   "id": "8129c5f9",
   "metadata": {
    "ExecuteTime": {
     "end_time": "2023-09-25T05:20:07.931548Z",
     "start_time": "2023-09-25T05:20:07.913641Z"
    }
   },
   "outputs": [
    {
     "data": {
      "text/plain": [
       "(array([ 1,  3,  6, 10, 15, 21, 28, 36, 45]),\n",
       " array([ 1,  3,  6, 10, 15, 21, 28, 36, 45]))"
      ]
     },
     "execution_count": 12,
     "metadata": {},
     "output_type": "execute_result"
    }
   ],
   "source": [
    "a.cumsum(), np.cumsum(a)"
   ]
  },
  {
   "cell_type": "code",
   "execution_count": 14,
   "id": "2268bcd9",
   "metadata": {
    "ExecuteTime": {
     "end_time": "2023-09-25T05:22:30.380951Z",
     "start_time": "2023-09-25T05:22:30.369652Z"
    }
   },
   "outputs": [
    {
     "data": {
      "text/plain": [
       "(array([[ 1,  2,  3],\n",
       "        [ 5,  7,  9],\n",
       "        [12, 15, 18]]),\n",
       " array([[ 1,  2,  3],\n",
       "        [ 5,  7,  9],\n",
       "        [12, 15, 18]]))"
      ]
     },
     "execution_count": 14,
     "metadata": {},
     "output_type": "execute_result"
    }
   ],
   "source": [
    "a.cumsum(axis=0), np.cumsum(a,axis =0)"
   ]
  },
  {
   "cell_type": "code",
   "execution_count": 15,
   "id": "6afe393d",
   "metadata": {
    "ExecuteTime": {
     "end_time": "2023-09-25T05:22:48.415390Z",
     "start_time": "2023-09-25T05:22:48.399664Z"
    }
   },
   "outputs": [
    {
     "data": {
      "text/plain": [
       "(array([[ 1,  3,  6],\n",
       "        [ 4,  9, 15],\n",
       "        [ 7, 15, 24]]),\n",
       " array([[ 1,  3,  6],\n",
       "        [ 4,  9, 15],\n",
       "        [ 7, 15, 24]]))"
      ]
     },
     "execution_count": 15,
     "metadata": {},
     "output_type": "execute_result"
    }
   ],
   "source": [
    "a.cumsum(axis=1), np.cumsum(a, axis=1)"
   ]
  },
  {
   "cell_type": "markdown",
   "id": "7678a7bb",
   "metadata": {},
   "source": [
    "**ndarray.mean(), np.mean():평균**"
   ]
  },
  {
   "cell_type": "code",
   "execution_count": 17,
   "id": "3a24903c",
   "metadata": {
    "ExecuteTime": {
     "end_time": "2023-09-25T05:24:01.916295Z",
     "start_time": "2023-09-25T05:24:01.907459Z"
    }
   },
   "outputs": [
    {
     "data": {
      "text/plain": [
       "(5.0, 5.0)"
      ]
     },
     "execution_count": 17,
     "metadata": {},
     "output_type": "execute_result"
    }
   ],
   "source": [
    "a.mean(), np.mean(a)"
   ]
  },
  {
   "cell_type": "markdown",
   "id": "3752591a",
   "metadata": {},
   "source": [
    "**ndarray.median():중앙값**"
   ]
  },
  {
   "cell_type": "code",
   "execution_count": 18,
   "id": "9e4d41c6",
   "metadata": {
    "ExecuteTime": {
     "end_time": "2023-09-25T05:24:34.736077Z",
     "start_time": "2023-09-25T05:24:34.727319Z"
    }
   },
   "outputs": [
    {
     "data": {
      "text/plain": [
       "5.0"
      ]
     },
     "execution_count": 18,
     "metadata": {},
     "output_type": "execute_result"
    }
   ],
   "source": [
    "np.median(a)"
   ]
  },
  {
   "cell_type": "markdown",
   "id": "a4ea08f6",
   "metadata": {},
   "source": [
    "**np.corrcoef():상관계수, correlation coeficient**"
   ]
  },
  {
   "cell_type": "code",
   "execution_count": 19,
   "id": "0340dcc7",
   "metadata": {
    "ExecuteTime": {
     "end_time": "2023-09-25T05:25:55.758869Z",
     "start_time": "2023-09-25T05:25:55.715889Z"
    }
   },
   "outputs": [
    {
     "data": {
      "text/plain": [
       "array([[1., 1., 1.],\n",
       "       [1., 1., 1.],\n",
       "       [1., 1., 1.]])"
      ]
     },
     "execution_count": 19,
     "metadata": {},
     "output_type": "execute_result"
    }
   ],
   "source": [
    "np.corrcoef(a)"
   ]
  },
  {
   "cell_type": "markdown",
   "id": "76246ec2",
   "metadata": {},
   "source": [
    "**ndarray객체.std(), np.std :표준편차**"
   ]
  },
  {
   "cell_type": "code",
   "execution_count": 20,
   "id": "30912aad",
   "metadata": {
    "ExecuteTime": {
     "end_time": "2023-09-25T05:27:04.397401Z",
     "start_time": "2023-09-25T05:27:04.381667Z"
    }
   },
   "outputs": [
    {
     "data": {
      "text/plain": [
       "2.581988897471611"
      ]
     },
     "execution_count": 20,
     "metadata": {},
     "output_type": "execute_result"
    }
   ],
   "source": [
    "np.std(a)"
   ]
  },
  {
   "cell_type": "code",
   "execution_count": 21,
   "id": "1a6bef01",
   "metadata": {
    "ExecuteTime": {
     "end_time": "2023-09-25T05:28:07.840961Z",
     "start_time": "2023-09-25T05:28:07.826779Z"
    }
   },
   "outputs": [
    {
     "data": {
      "text/plain": [
       "2.581988897471611"
      ]
     },
     "execution_count": 21,
     "metadata": {},
     "output_type": "execute_result"
    }
   ],
   "source": [
    "a.std()"
   ]
  },
  {
   "cell_type": "markdown",
   "id": "75655fbd",
   "metadata": {},
   "source": [
    "## 난수 기반 배열 생성\n",
    "- numpy.random 모듈 이용"
   ]
  },
  {
   "cell_type": "markdown",
   "id": "6dde7b9d",
   "metadata": {},
   "source": [
    "**np.random.normal**\n",
    "- normal(loc=0.0, scale=1.0, size=None)\n",
    "- loc = 정규분포의 평균\n",
    "- scale = 표준편차\n",
    "- 정규분포 확률 밀도에서 표본 추출 함수"
   ]
  },
  {
   "cell_type": "code",
   "execution_count": 24,
   "id": "4a599b54",
   "metadata": {
    "ExecuteTime": {
     "end_time": "2023-09-25T05:33:27.184825Z",
     "start_time": "2023-09-25T05:33:27.171548Z"
    }
   },
   "outputs": [
    {
     "name": "stdout",
     "output_type": "stream",
     "text": [
      "type : <class 'numpy.ndarray'>\n",
      "shape : (2, 3), dimension : 2, dtype : float64\n",
      "Array\"s Data : \n",
      " [[ 0.78531848 -0.33956079 -1.51208932]\n",
      " [ 0.27042551 -0.01362135 -0.30018252]]\n"
     ]
    }
   ],
   "source": [
    "mean = 0\n",
    "std = 1\n",
    "a=np.random.normal(mean,std,(2,3))\n",
    "pprint(a)"
   ]
  },
  {
   "cell_type": "code",
   "execution_count": 25,
   "id": "c9f49d8b",
   "metadata": {
    "ExecuteTime": {
     "end_time": "2023-09-25T05:34:20.304296Z",
     "start_time": "2023-09-25T05:34:19.968747Z"
    }
   },
   "outputs": [],
   "source": [
    "import matplotlib.pyplot as plt"
   ]
  },
  {
   "cell_type": "code",
   "execution_count": 27,
   "id": "13d43160",
   "metadata": {
    "ExecuteTime": {
     "end_time": "2023-09-25T05:35:30.274616Z",
     "start_time": "2023-09-25T05:35:30.264811Z"
    }
   },
   "outputs": [],
   "source": [
    "%matplotlib inline\n",
    "\n",
    "data = np.random.normal(0,1,10000)"
   ]
  },
  {
   "cell_type": "code",
   "execution_count": 29,
   "id": "1359f772",
   "metadata": {
    "ExecuteTime": {
     "end_time": "2023-09-25T05:36:39.658436Z",
     "start_time": "2023-09-25T05:36:39.499531Z"
    }
   },
   "outputs": [
    {
     "data": {
      "image/png": "[encoded data removed]",
      "text/plain": [
       "<Figure size 640x480 with 1 Axes>"
      ]
     },
     "metadata": {},
     "output_type": "display_data"
    }
   ],
   "source": [
    "#히스토그램, 100개의 구간으로 구분\n",
    "plt.hist(data, bins = 100)\n",
    "plt.show()"
   ]
  },
  {
   "cell_type": "markdown",
   "id": "06a85a09",
   "metadata": {},
   "source": [
    "**np.random.rand(): 균등분포, 0.0 ~ 1.0**"
   ]
  },
  {
   "cell_type": "code",
   "execution_count": 30,
   "id": "52f6bff3",
   "metadata": {
    "ExecuteTime": {
     "end_time": "2023-09-25T05:38:28.096815Z",
     "start_time": "2023-09-25T05:38:28.078770Z"
    }
   },
   "outputs": [],
   "source": [
    "a = np.random.rand(3,2)"
   ]
  },
  {
   "cell_type": "code",
   "execution_count": 31,
   "id": "8bcabebc",
   "metadata": {
    "ExecuteTime": {
     "end_time": "2023-09-25T05:38:34.467652Z",
     "start_time": "2023-09-25T05:38:34.450816Z"
    }
   },
   "outputs": [
    {
     "name": "stdout",
     "output_type": "stream",
     "text": [
      "type : <class 'numpy.ndarray'>\n",
      "shape : (3, 2), dimension : 2, dtype : float64\n",
      "Array\"s Data : \n",
      " [[0.43847254 0.64725598]\n",
      " [0.60131422 0.32900431]\n",
      " [0.74002903 0.72303791]]\n"
     ]
    }
   ],
   "source": [
    "pprint(a)"
   ]
  },
  {
   "cell_type": "code",
   "execution_count": 34,
   "id": "1fdbc52d",
   "metadata": {
    "ExecuteTime": {
     "end_time": "2023-09-25T05:40:17.889381Z",
     "start_time": "2023-09-25T05:40:17.773328Z"
    }
   },
   "outputs": [
    {
     "data": {
      "image/png": "[encoded data removed]",
      "text/plain": [
       "<Figure size 640x480 with 1 Axes>"
      ]
     },
     "metadata": {},
     "output_type": "display_data"
    }
   ],
   "source": [
    "plt.hist(a, bins=10)\n",
    "plt.show()"
   ]
  },
  {
   "cell_type": "markdown",
   "id": "23a57569",
   "metadata": {},
   "source": [
    "**np.random.randn():표준정규분포**"
   ]
  },
  {
   "cell_type": "markdown",
   "id": "dfd31719",
   "metadata": {},
   "source": [
    "a = np.random.randn(2,4)"
   ]
  },
  {
   "cell_type": "code",
   "execution_count": 35,
   "id": "2a87489e",
   "metadata": {
    "ExecuteTime": {
     "end_time": "2023-09-25T05:41:19.355922Z",
     "start_time": "2023-09-25T05:41:19.347285Z"
    }
   },
   "outputs": [
    {
     "name": "stdout",
     "output_type": "stream",
     "text": [
      "type : <class 'numpy.ndarray'>\n",
      "shape : (3, 2), dimension : 2, dtype : float64\n",
      "Array\"s Data : \n",
      " [[0.43847254 0.64725598]\n",
      " [0.60131422 0.32900431]\n",
      " [0.74002903 0.72303791]]\n"
     ]
    }
   ],
   "source": [
    "pprint(a)"
   ]
  },
  {
   "cell_type": "code",
   "execution_count": 38,
   "id": "f55ea3d1",
   "metadata": {
    "ExecuteTime": {
     "end_time": "2023-09-25T05:42:37.064583Z",
     "start_time": "2023-09-25T05:42:36.962815Z"
    }
   },
   "outputs": [
    {
     "data": {
      "image/png": "[encoded data removed]",
      "text/plain": [
       "<Figure size 640x480 with 1 Axes>"
      ]
     },
     "metadata": {},
     "output_type": "display_data"
    }
   ],
   "source": [
    "data=np.random.randn(10000)\n",
    "plt.hist(data,bins=10)\n",
    "plt.show()"
   ]
  },
  {
   "cell_type": "markdown",
   "id": "2ce8dc10",
   "metadata": {},
   "source": [
    "**np.random.randint(low, high, size, dtype='i')**"
   ]
  },
  {
   "cell_type": "code",
   "execution_count": 39,
   "id": "bf60c680",
   "metadata": {
    "ExecuteTime": {
     "end_time": "2023-09-25T05:44:16.781283Z",
     "start_time": "2023-09-25T05:44:16.765908Z"
    }
   },
   "outputs": [],
   "source": [
    "a = np.random.randint(5,10, size =(2,4))"
   ]
  },
  {
   "cell_type": "code",
   "execution_count": 40,
   "id": "110f4bea",
   "metadata": {
    "ExecuteTime": {
     "end_time": "2023-09-25T05:44:20.803206Z",
     "start_time": "2023-09-25T05:44:20.785111Z"
    }
   },
   "outputs": [
    {
     "name": "stdout",
     "output_type": "stream",
     "text": [
      "type : <class 'numpy.ndarray'>\n",
      "shape : (2, 4), dimension : 2, dtype : int32\n",
      "Array\"s Data : \n",
      " [[9 5 8 6]\n",
      " [5 8 6 5]]\n"
     ]
    }
   ],
   "source": [
    "pprint(a)"
   ]
  },
  {
   "cell_type": "code",
   "execution_count": 42,
   "id": "3b16250c",
   "metadata": {
    "ExecuteTime": {
     "end_time": "2023-09-25T05:45:47.975280Z",
     "start_time": "2023-09-25T05:45:47.874555Z"
    }
   },
   "outputs": [
    {
     "data": {
      "image/png": "[encoded data removed]",
      "text/plain": [
       "<Figure size 640x480 with 1 Axes>"
      ]
     },
     "metadata": {},
     "output_type": "display_data"
    }
   ],
   "source": [
    "data = np.random.randint(-100,100, 10000)\n",
    "plt.hist(data, bins =10)\n",
    "plt.show()"
   ]
  },
  {
   "cell_type": "markdown",
   "id": "254bce16",
   "metadata": {},
   "source": [
    "**np.random.random(size): 0과 1사이의 균등분포 난수**"
   ]
  },
  {
   "cell_type": "code",
   "execution_count": 43,
   "id": "ee986921",
   "metadata": {
    "ExecuteTime": {
     "end_time": "2023-09-25T05:46:51.075932Z",
     "start_time": "2023-09-25T05:46:51.062782Z"
    }
   },
   "outputs": [
    {
     "name": "stdout",
     "output_type": "stream",
     "text": [
      "type : <class 'numpy.ndarray'>\n",
      "shape : (2, 4), dimension : 2, dtype : float64\n",
      "Array\"s Data : \n",
      " [[0.18947886 0.06426938 0.98884367 0.71217772]\n",
      " [0.04505084 0.96357603 0.32005221 0.98028464]]\n"
     ]
    }
   ],
   "source": [
    "a = np.random.random((2,4))\n",
    "pprint(a)"
   ]
  },
  {
   "cell_type": "code",
   "execution_count": 45,
   "id": "5c16bcf9",
   "metadata": {
    "ExecuteTime": {
     "end_time": "2023-09-25T05:48:02.483572Z",
     "start_time": "2023-09-25T05:48:02.391114Z"
    }
   },
   "outputs": [
    {
     "data": {
      "image/png": "[encoded data removed]",
      "text/plain": [
       "<Figure size 640x480 with 1 Axes>"
      ]
     },
     "metadata": {},
     "output_type": "display_data"
    }
   ],
   "source": [
    "data = np.random.random(10000)\n",
    "plt.hist(data, bins=10)\n",
    "plt.show()"
   ]
  },
  {
   "cell_type": "markdown",
   "id": "9ae94ef7",
   "metadata": {},
   "source": [
    "**약속된 난수 : seed값**\n",
    "- np.random.seed() : 난수를 재연할 수 있다.\n",
    "- 시드값으로 0보다 크거나 같은 정수를 담는다."
   ]
  },
  {
   "cell_type": "code",
   "execution_count": 47,
   "id": "0751afc7",
   "metadata": {
    "ExecuteTime": {
     "end_time": "2023-09-25T05:49:00.898147Z",
     "start_time": "2023-09-25T05:49:00.888075Z"
    }
   },
   "outputs": [
    {
     "data": {
      "text/plain": [
       "array([[0.19976681, 0.28038752],\n",
       "       [0.81385821, 0.75138873]])"
      ]
     },
     "execution_count": 47,
     "metadata": {},
     "output_type": "execute_result"
    }
   ],
   "source": [
    "np.random.random((2,2))"
   ]
  },
  {
   "cell_type": "code",
   "execution_count": 50,
   "id": "bc873793",
   "metadata": {
    "ExecuteTime": {
     "end_time": "2023-09-25T05:49:34.235152Z",
     "start_time": "2023-09-25T05:49:34.216249Z"
    }
   },
   "outputs": [
    {
     "data": {
      "text/plain": [
       "array([[1, 4, 4],\n",
       "       [4, 7, 4]])"
      ]
     },
     "execution_count": 50,
     "metadata": {},
     "output_type": "execute_result"
    }
   ],
   "source": [
    "np.random.randint(0,10, (2,3))"
   ]
  },
  {
   "cell_type": "code",
   "execution_count": 52,
   "id": "7c1bd86b",
   "metadata": {
    "ExecuteTime": {
     "end_time": "2023-09-25T05:51:08.070183Z",
     "start_time": "2023-09-25T05:51:08.063084Z"
    }
   },
   "outputs": [],
   "source": [
    "np.random.seed(2023)"
   ]
  },
  {
   "cell_type": "code",
   "execution_count": 53,
   "id": "9d0b54ff",
   "metadata": {
    "ExecuteTime": {
     "end_time": "2023-09-25T05:51:23.460435Z",
     "start_time": "2023-09-25T05:51:23.443093Z"
    }
   },
   "outputs": [
    {
     "data": {
      "text/plain": [
       "array([[0.3219883 , 0.89042245],\n",
       "       [0.58805226, 0.12659609]])"
      ]
     },
     "execution_count": 53,
     "metadata": {},
     "output_type": "execute_result"
    }
   ],
   "source": [
    "np.random.random((2,2))"
   ]
  },
  {
   "cell_type": "code",
   "execution_count": 54,
   "id": "94c06a5a",
   "metadata": {
    "ExecuteTime": {
     "end_time": "2023-09-25T05:51:39.641401Z",
     "start_time": "2023-09-25T05:51:39.624235Z"
    }
   },
   "outputs": [
    {
     "data": {
      "text/plain": [
       "array([[4, 6, 5],\n",
       "       [0, 6, 1]])"
      ]
     },
     "execution_count": 54,
     "metadata": {},
     "output_type": "execute_result"
    }
   ],
   "source": [
    "np.random.randint(0,10,(2,3))"
   ]
  },
  {
   "cell_type": "code",
   "execution_count": 55,
   "id": "a9864229",
   "metadata": {
    "ExecuteTime": {
     "end_time": "2023-09-25T05:52:16.831262Z",
     "start_time": "2023-09-25T05:52:16.818207Z"
    }
   },
   "outputs": [],
   "source": [
    "np.random.seed(2023)"
   ]
  },
  {
   "cell_type": "code",
   "execution_count": 58,
   "id": "c95245ad",
   "metadata": {
    "ExecuteTime": {
     "end_time": "2023-09-25T05:52:34.714732Z",
     "start_time": "2023-09-25T05:52:34.698409Z"
    }
   },
   "outputs": [
    {
     "data": {
      "text/plain": [
       "array([[0.3219883 , 0.89042245],\n",
       "       [0.58805226, 0.12659609]])"
      ]
     },
     "execution_count": 58,
     "metadata": {},
     "output_type": "execute_result"
    }
   ],
   "source": [
    "np.random.random((2,2))"
   ]
  },
  {
   "cell_type": "code",
   "execution_count": 59,
   "id": "abd13728",
   "metadata": {
    "ExecuteTime": {
     "end_time": "2023-09-25T05:52:54.016788Z",
     "start_time": "2023-09-25T05:52:54.001600Z"
    }
   },
   "outputs": [
    {
     "data": {
      "text/plain": [
       "array([[4, 6, 5],\n",
       "       [0, 6, 1]])"
      ]
     },
     "execution_count": 59,
     "metadata": {},
     "output_type": "execute_result"
    }
   ],
   "source": [
    "np.random.randint(0,10,(2,3))\n"
   ]
  },
  {
   "cell_type": "markdown",
   "id": "eae52fd9",
   "metadata": {},
   "source": [
    "## Numpy 입출력\n",
    "- Numpy는 배열 객체를 바이너리 파일 혹은 텍스트 파일에 저장하고 로딩하는 기능을 제공한다.\n",
    "- np.save() : Numpy 배열 객체 1개를 파일에 저장, 바이너리 포멧\n",
    "- np.savez() : Numpy 배열 객체 복수개를 파일에 저장, 바이너리 포멧\n",
    "- np.load() : Numpy 배열 저장 파일로부터 객체 로딩, 바이너리 포멧\n",
    "- np.loadtxt() : 텍스트파일로부터 배열 로딩, 텍스트 포멧\n",
    "- np.savetxt() : 텍스트 파일에 Numpy 배열 객체 저장, 텍스트 포멧"
   ]
  },
  {
   "cell_type": "code",
   "execution_count": 60,
   "id": "a0a8b1a8",
   "metadata": {
    "ExecuteTime": {
     "end_time": "2023-09-25T06:17:04.364666Z",
     "start_time": "2023-09-25T06:17:04.351858Z"
    }
   },
   "outputs": [
    {
     "name": "stdout",
     "output_type": "stream",
     "text": [
      "type : <class 'numpy.ndarray'>\n",
      "shape : (2, 3), dimension : 2, dtype : int32\n",
      "Array\"s Data : \n",
      " [[5 7 5]\n",
      " [8 2 3]]\n",
      "type : <class 'numpy.ndarray'>\n",
      "shape : (2, 3), dimension : 2, dtype : int32\n",
      "Array\"s Data : \n",
      " [[1 0 7]\n",
      " [1 0 0]]\n"
     ]
    }
   ],
   "source": [
    "a = np.random.randint(0, 10, (2,3))\n",
    "b = np.random.randint(0, 10, (2,3))\n",
    "pprint(a)\n",
    "pprint(b)"
   ]
  },
  {
   "cell_type": "markdown",
   "id": "ca506626",
   "metadata": {},
   "source": [
    "**배열 객체 저장**\n",
    "- np.save()와 np.savez() 함수를 이용\n",
    "- np.save : 1개 배열 저장, 확장자 : npy\n",
    "- np.savez : 복수개의 배열 저장, 확장자 : npz\n",
    "- 배열에 저장되는 파일의 포멧은 바이너리 형태이다."
   ]
  },
  {
   "cell_type": "code",
   "execution_count": 61,
   "id": "6005dbe0",
   "metadata": {
    "ExecuteTime": {
     "end_time": "2023-09-25T06:25:42.292207Z",
     "start_time": "2023-09-25T06:25:42.276738Z"
    }
   },
   "outputs": [],
   "source": [
    "np.save(\"./my_array1\",a)"
   ]
  },
  {
   "cell_type": "code",
   "execution_count": 62,
   "id": "cb754a83",
   "metadata": {
    "ExecuteTime": {
     "end_time": "2023-09-25T06:27:05.763937Z",
     "start_time": "2023-09-25T06:27:05.748919Z"
    }
   },
   "outputs": [],
   "source": [
    "#복수개의 배열 객체를 파일에 저장\n",
    "np.savez(\"my_array2\",a,b)"
   ]
  },
  {
   "cell_type": "markdown",
   "id": "f4e593cb",
   "metadata": {},
   "source": [
    "**파일로 부터 배열 객체를 로딩**\n",
    "- npy, npz는 np.load() 함수로 읽어온다."
   ]
  },
  {
   "cell_type": "code",
   "execution_count": 63,
   "id": "edc07f53",
   "metadata": {
    "ExecuteTime": {
     "end_time": "2023-09-25T06:28:23.669149Z",
     "start_time": "2023-09-25T06:28:23.660288Z"
    }
   },
   "outputs": [
    {
     "data": {
      "text/plain": [
       "array([[5, 7, 5],\n",
       "       [8, 2, 3]])"
      ]
     },
     "execution_count": 63,
     "metadata": {},
     "output_type": "execute_result"
    }
   ],
   "source": [
    "np.load('my_array1.npy')"
   ]
  },
  {
   "cell_type": "code",
   "execution_count": 65,
   "id": "8edd6842",
   "metadata": {
    "ExecuteTime": {
     "end_time": "2023-09-25T06:29:45.740819Z",
     "start_time": "2023-09-25T06:29:45.730521Z"
    }
   },
   "outputs": [
    {
     "data": {
      "text/plain": [
       "['arr_0', 'arr_1']"
      ]
     },
     "execution_count": 65,
     "metadata": {},
     "output_type": "execute_result"
    }
   ],
   "source": [
    "file = np.load('my_array2.npz')\n",
    "file.files"
   ]
  },
  {
   "cell_type": "code",
   "execution_count": 66,
   "id": "11c0de28",
   "metadata": {
    "ExecuteTime": {
     "end_time": "2023-09-25T06:30:17.925478Z",
     "start_time": "2023-09-25T06:30:17.912454Z"
    }
   },
   "outputs": [
    {
     "data": {
      "text/plain": [
       "array([[5, 7, 5],\n",
       "       [8, 2, 3]])"
      ]
     },
     "execution_count": 66,
     "metadata": {},
     "output_type": "execute_result"
    }
   ],
   "source": [
    "file['arr_0']"
   ]
  },
  {
   "cell_type": "code",
   "execution_count": 67,
   "id": "09385602",
   "metadata": {
    "ExecuteTime": {
     "end_time": "2023-09-25T06:30:23.984970Z",
     "start_time": "2023-09-25T06:30:23.977222Z"
    }
   },
   "outputs": [
    {
     "data": {
      "text/plain": [
       "array([[1, 0, 7],\n",
       "       [1, 0, 0]])"
      ]
     },
     "execution_count": 67,
     "metadata": {},
     "output_type": "execute_result"
    }
   ],
   "source": [
    "file['arr_1']"
   ]
  },
  {
   "cell_type": "markdown",
   "id": "7db4a068",
   "metadata": {},
   "source": [
    "## 배열 변환\n",
    "- 전치(Transpose)\n",
    "- 배열 shape 변환 : reshape\n",
    "- 배열 요소 추가\n",
    "- 배열 결합\n",
    "- 배열 분리"
   ]
  },
  {
   "cell_type": "markdown",
   "id": "00245547",
   "metadata": {},
   "source": [
    "**np.ndarray객체.T**"
   ]
  },
  {
   "cell_type": "code",
   "execution_count": 73,
   "id": "4e28a29c",
   "metadata": {
    "ExecuteTime": {
     "end_time": "2023-09-25T06:48:08.781894Z",
     "start_time": "2023-09-25T06:48:08.772145Z"
    }
   },
   "outputs": [
    {
     "name": "stdout",
     "output_type": "stream",
     "text": [
      "type : <class 'numpy.ndarray'>\n",
      "shape : (2, 3), dimension : 2, dtype : int32\n",
      "Array\"s Data : \n",
      " [[2 6 7]\n",
      " [5 7 9]]\n"
     ]
    }
   ],
   "source": [
    "a = np.random.randint(1, 10, (2,3))\n",
    "pprint(a)"
   ]
  },
  {
   "cell_type": "code",
   "execution_count": 69,
   "id": "f834468b",
   "metadata": {
    "ExecuteTime": {
     "end_time": "2023-09-25T06:36:04.212384Z",
     "start_time": "2023-09-25T06:36:04.198928Z"
    }
   },
   "outputs": [
    {
     "name": "stdout",
     "output_type": "stream",
     "text": [
      "type : <class 'numpy.ndarray'>\n",
      "shape : (3, 2), dimension : 2, dtype : int32\n",
      "Array\"s Data : \n",
      " [[2 3]\n",
      " [9 2]\n",
      " [2 1]]\n"
     ]
    }
   ],
   "source": [
    "pprint(a.T)"
   ]
  },
  {
   "cell_type": "markdown",
   "id": "49b9e0b4",
   "metadata": {},
   "source": [
    "**배열 형태 변경**\n",
    "- ravel\n",
    "- reshape"
   ]
  },
  {
   "cell_type": "code",
   "execution_count": 70,
   "id": "479221d5",
   "metadata": {
    "ExecuteTime": {
     "end_time": "2023-09-25T06:38:30.700219Z",
     "start_time": "2023-09-25T06:38:30.693168Z"
    }
   },
   "outputs": [
    {
     "data": {
      "text/plain": [
       "array([2, 9, 2, 3, 2, 1])"
      ]
     },
     "execution_count": 70,
     "metadata": {},
     "output_type": "execute_result"
    }
   ],
   "source": [
    "a.ravel()"
   ]
  },
  {
   "cell_type": "code",
   "execution_count": 71,
   "id": "2fc29744",
   "metadata": {
    "ExecuteTime": {
     "end_time": "2023-09-25T06:39:55.396410Z",
     "start_time": "2023-09-25T06:39:55.382071Z"
    }
   },
   "outputs": [
    {
     "name": "stdout",
     "output_type": "stream",
     "text": [
      "type : <class 'numpy.ndarray'>\n",
      "shape : (2, 3), dimension : 2, dtype : int32\n",
      "Array\"s Data : \n",
      " [[99 99 99]\n",
      " [ 1  0  0]]\n"
     ]
    }
   ],
   "source": [
    "# 반환된 배열의 데이터가 변경되면 원본도 변경된다.\n",
    "b[0] = 99\n",
    "pprint(b)"
   ]
  },
  {
   "cell_type": "markdown",
   "id": "f771483e",
   "metadata": {},
   "source": [
    "**배열 요소 변경, 추가, 삽입, 삭제는 resize, append, insert, delete 함수를 사용**\n",
    "- np.reshape와 np.resize 함수는 배열의 shape을 변경한다는 부분은 유사하다.\n",
    "- 차이점은 reshape은 배열 요소수를 변경하지 않는다.\n",
    "- 반면, resize는 배열 요소수를 줄이거나 늘리는 함수이다."
   ]
  },
  {
   "cell_type": "code",
   "execution_count": 75,
   "id": "28e074df",
   "metadata": {
    "ExecuteTime": {
     "end_time": "2023-09-25T06:48:21.434223Z",
     "start_time": "2023-09-25T06:48:21.417699Z"
    }
   },
   "outputs": [
    {
     "name": "stdout",
     "output_type": "stream",
     "text": [
      "type : <class 'numpy.ndarray'>\n",
      "shape : (2, 10), dimension : 2, dtype : int32\n",
      "Array\"s Data : \n",
      " [[2 6 7 5 7 9 0 0 0 0]\n",
      " [0 0 0 0 0 0 0 0 0 0]]\n"
     ]
    }
   ],
   "source": [
    "a.resize((2,10))\n",
    "pprint(a)"
   ]
  },
  {
   "cell_type": "code",
   "execution_count": 76,
   "id": "64672f76",
   "metadata": {
    "ExecuteTime": {
     "end_time": "2023-09-25T06:48:45.544444Z",
     "start_time": "2023-09-25T06:48:45.526587Z"
    }
   },
   "outputs": [],
   "source": [
    "a.resize((3,3))"
   ]
  },
  {
   "cell_type": "code",
   "execution_count": 77,
   "id": "dd4fad16",
   "metadata": {
    "ExecuteTime": {
     "end_time": "2023-09-25T06:48:49.335163Z",
     "start_time": "2023-09-25T06:48:49.322735Z"
    }
   },
   "outputs": [
    {
     "name": "stdout",
     "output_type": "stream",
     "text": [
      "type : <class 'numpy.ndarray'>\n",
      "shape : (3, 3), dimension : 2, dtype : int32\n",
      "Array\"s Data : \n",
      " [[2 6 7]\n",
      " [5 7 9]\n",
      " [0 0 0]]\n"
     ]
    }
   ],
   "source": [
    "pprint(a)"
   ]
  },
  {
   "cell_type": "markdown",
   "id": "b6f42cd4",
   "metadata": {},
   "source": [
    "**append(arr, values, axis=None) : 배열의 끝에 값추가**"
   ]
  },
  {
   "cell_type": "code",
   "execution_count": 78,
   "id": "c0525593",
   "metadata": {
    "ExecuteTime": {
     "end_time": "2023-09-25T06:50:52.043943Z",
     "start_time": "2023-09-25T06:50:52.039482Z"
    }
   },
   "outputs": [],
   "source": [
    "a = np.arange(1,10).reshape(3,3)"
   ]
  },
  {
   "cell_type": "code",
   "execution_count": 79,
   "id": "6284251d",
   "metadata": {
    "ExecuteTime": {
     "end_time": "2023-09-25T06:51:32.811743Z",
     "start_time": "2023-09-25T06:51:32.793130Z"
    }
   },
   "outputs": [],
   "source": [
    "b = np.arange(10,19).reshape(3,3)"
   ]
  },
  {
   "cell_type": "code",
   "execution_count": 81,
   "id": "97957b2e",
   "metadata": {
    "ExecuteTime": {
     "end_time": "2023-09-25T06:51:48.562322Z",
     "start_time": "2023-09-25T06:51:48.553282Z"
    }
   },
   "outputs": [
    {
     "name": "stdout",
     "output_type": "stream",
     "text": [
      "type : <class 'numpy.ndarray'>\n",
      "shape : (3, 3), dimension : 2, dtype : int32\n",
      "Array\"s Data : \n",
      " [[1 2 3]\n",
      " [4 5 6]\n",
      " [7 8 9]]\n",
      "type : <class 'numpy.ndarray'>\n",
      "shape : (3, 3), dimension : 2, dtype : int32\n",
      "Array\"s Data : \n",
      " [[10 11 12]\n",
      " [13 14 15]\n",
      " [16 17 18]]\n"
     ]
    }
   ],
   "source": [
    "pprint(a)\n",
    "pprint(b)"
   ]
  },
  {
   "cell_type": "code",
   "execution_count": 82,
   "id": "5ae7d367",
   "metadata": {
    "ExecuteTime": {
     "end_time": "2023-09-25T06:52:36.163565Z",
     "start_time": "2023-09-25T06:52:36.147717Z"
    }
   },
   "outputs": [],
   "source": [
    "# axis를 지정하지 않으면 배열은 1차원 배열로 변형되어 결합된다.\n",
    "result = np.append(a,b)\n"
   ]
  },
  {
   "cell_type": "code",
   "execution_count": 83,
   "id": "a7a6903b",
   "metadata": {
    "ExecuteTime": {
     "end_time": "2023-09-25T06:52:48.268888Z",
     "start_time": "2023-09-25T06:52:48.259054Z"
    }
   },
   "outputs": [
    {
     "name": "stdout",
     "output_type": "stream",
     "text": [
      "type : <class 'numpy.ndarray'>\n",
      "shape : (18,), dimension : 1, dtype : int32\n",
      "Array\"s Data : \n",
      " [ 1  2  3  4  5  6  7  8  9 10 11 12 13 14 15 16 17 18]\n"
     ]
    }
   ],
   "source": [
    "pprint(result)"
   ]
  },
  {
   "cell_type": "code",
   "execution_count": 84,
   "id": "22fede3b",
   "metadata": {
    "ExecuteTime": {
     "end_time": "2023-09-25T06:54:08.086849Z",
     "start_time": "2023-09-25T06:54:08.079793Z"
    }
   },
   "outputs": [],
   "source": [
    "result = np.append(a,b,axis=0)"
   ]
  },
  {
   "cell_type": "code",
   "execution_count": 85,
   "id": "99c07097",
   "metadata": {
    "ExecuteTime": {
     "end_time": "2023-09-25T06:54:12.589014Z",
     "start_time": "2023-09-25T06:54:12.572043Z"
    }
   },
   "outputs": [
    {
     "name": "stdout",
     "output_type": "stream",
     "text": [
      "type : <class 'numpy.ndarray'>\n",
      "shape : (6, 3), dimension : 2, dtype : int32\n",
      "Array\"s Data : \n",
      " [[ 1  2  3]\n",
      " [ 4  5  6]\n",
      " [ 7  8  9]\n",
      " [10 11 12]\n",
      " [13 14 15]\n",
      " [16 17 18]]\n"
     ]
    }
   ],
   "source": [
    "pprint(result)"
   ]
  },
  {
   "cell_type": "code",
   "execution_count": 86,
   "id": "634b87a4",
   "metadata": {
    "ExecuteTime": {
     "end_time": "2023-09-25T06:56:56.651462Z",
     "start_time": "2023-09-25T06:56:56.637328Z"
    }
   },
   "outputs": [],
   "source": [
    "result = np.append(a,b,axis=1)"
   ]
  },
  {
   "cell_type": "code",
   "execution_count": 87,
   "id": "fab7abe2",
   "metadata": {
    "ExecuteTime": {
     "end_time": "2023-09-25T06:57:00.789863Z",
     "start_time": "2023-09-25T06:57:00.779369Z"
    }
   },
   "outputs": [
    {
     "name": "stdout",
     "output_type": "stream",
     "text": [
      "type : <class 'numpy.ndarray'>\n",
      "shape : (3, 6), dimension : 2, dtype : int32\n",
      "Array\"s Data : \n",
      " [[ 1  2  3 10 11 12]\n",
      " [ 4  5  6 13 14 15]\n",
      " [ 7  8  9 16 17 18]]\n"
     ]
    }
   ],
   "source": [
    "pprint(result)"
   ]
  },
  {
   "cell_type": "markdown",
   "id": "f5a0e216",
   "metadata": {},
   "source": [
    "**insert(arr,, obj, values, axis=None)**\n",
    "- axis를 지정하지 않으면 1차원 배열로 변환된다.\n",
    "- 추가할 방향을 axis로 지정한다.\n"
   ]
  },
  {
   "cell_type": "code",
   "execution_count": 88,
   "id": "07be885e",
   "metadata": {
    "ExecuteTime": {
     "end_time": "2023-09-25T07:12:21.584761Z",
     "start_time": "2023-09-25T07:12:21.576627Z"
    }
   },
   "outputs": [
    {
     "name": "stdout",
     "output_type": "stream",
     "text": [
      "type : <class 'numpy.ndarray'>\n",
      "shape : (3, 3), dimension : 2, dtype : int32\n",
      "Array\"s Data : \n",
      " [[1 2 3]\n",
      " [4 5 6]\n",
      " [7 8 9]]\n"
     ]
    }
   ],
   "source": [
    "a = np.arange(1,10).reshape(3,3)\n",
    "pprint(a)"
   ]
  },
  {
   "cell_type": "code",
   "execution_count": 89,
   "id": "6e20b671",
   "metadata": {
    "ExecuteTime": {
     "end_time": "2023-09-25T07:13:17.394592Z",
     "start_time": "2023-09-25T07:13:17.389689Z"
    }
   },
   "outputs": [
    {
     "data": {
      "text/plain": [
       "array([  1, 999,   2,   3,   4,   5,   6,   7,   8,   9])"
      ]
     },
     "execution_count": 89,
     "metadata": {},
     "output_type": "execute_result"
    }
   ],
   "source": [
    "np.insert(a, 1, 999)"
   ]
  },
  {
   "cell_type": "code",
   "execution_count": 90,
   "id": "19d7b97f",
   "metadata": {
    "ExecuteTime": {
     "end_time": "2023-09-25T07:14:31.903441Z",
     "start_time": "2023-09-25T07:14:31.888968Z"
    }
   },
   "outputs": [
    {
     "data": {
      "text/plain": [
       "array([[  1,   2,   3],\n",
       "       [999, 999, 999],\n",
       "       [  4,   5,   6],\n",
       "       [  7,   8,   9]])"
      ]
     },
     "execution_count": 90,
     "metadata": {},
     "output_type": "execute_result"
    }
   ],
   "source": [
    "#a 배열의 axis는 0 1번 인덱스에 추가하는 작업\n",
    "np.insert(a,1,999, axis=0)"
   ]
  },
  {
   "cell_type": "code",
   "execution_count": 91,
   "id": "aa730bd9",
   "metadata": {
    "ExecuteTime": {
     "end_time": "2023-09-25T07:15:11.460573Z",
     "start_time": "2023-09-25T07:15:11.442663Z"
    }
   },
   "outputs": [
    {
     "data": {
      "text/plain": [
       "array([[  1, 999,   2,   3],\n",
       "       [  4, 999,   5,   6],\n",
       "       [  7, 999,   8,   9]])"
      ]
     },
     "execution_count": 91,
     "metadata": {},
     "output_type": "execute_result"
    }
   ],
   "source": [
    "np.insert(a,1,999, axis=1)"
   ]
  },
  {
   "cell_type": "markdown",
   "id": "0b8da4a4",
   "metadata": {},
   "source": [
    "**delete(arr, obj, axis=None)**\n",
    "- axis 지정하지 않으면 1차원 배열\n",
    "- 삭제할 방향을 axis로 지정\n",
    "- delete함수는 원본 배열을 변경하지 않으며 새로운 배열을 반환"
   ]
  },
  {
   "cell_type": "code",
   "execution_count": 92,
   "id": "11290050",
   "metadata": {
    "ExecuteTime": {
     "end_time": "2023-09-25T07:17:04.238994Z",
     "start_time": "2023-09-25T07:17:04.223731Z"
    }
   },
   "outputs": [
    {
     "name": "stdout",
     "output_type": "stream",
     "text": [
      "type : <class 'numpy.ndarray'>\n",
      "shape : (3, 3), dimension : 2, dtype : int32\n",
      "Array\"s Data : \n",
      " [[1 2 3]\n",
      " [4 5 6]\n",
      " [7 8 9]]\n"
     ]
    }
   ],
   "source": [
    "a = np.arange(1,10).reshape(3,3)\n",
    "pprint(a)"
   ]
  },
  {
   "cell_type": "code",
   "execution_count": 93,
   "id": "e65f4512",
   "metadata": {
    "ExecuteTime": {
     "end_time": "2023-09-25T07:17:35.457246Z",
     "start_time": "2023-09-25T07:17:35.440738Z"
    }
   },
   "outputs": [
    {
     "data": {
      "text/plain": [
       "array([1, 3, 4, 5, 6, 7, 8, 9])"
      ]
     },
     "execution_count": 93,
     "metadata": {},
     "output_type": "execute_result"
    }
   ],
   "source": [
    "# a 배열을 1차원으로 변환하고 1번 인덱스 삭제\n",
    "np.delete(a,1)"
   ]
  },
  {
   "cell_type": "code",
   "execution_count": 94,
   "id": "98ef28ad",
   "metadata": {
    "ExecuteTime": {
     "end_time": "2023-09-25T07:17:58.586207Z",
     "start_time": "2023-09-25T07:17:58.576690Z"
    }
   },
   "outputs": [
    {
     "data": {
      "text/plain": [
       "array([[1, 2, 3],\n",
       "       [7, 8, 9]])"
      ]
     },
     "execution_count": 94,
     "metadata": {},
     "output_type": "execute_result"
    }
   ],
   "source": [
    "np.delete(a,1, axis=0)"
   ]
  },
  {
   "cell_type": "code",
   "execution_count": 95,
   "id": "50f70be1",
   "metadata": {
    "ExecuteTime": {
     "end_time": "2023-09-25T07:18:28.578660Z",
     "start_time": "2023-09-25T07:18:28.565502Z"
    }
   },
   "outputs": [
    {
     "data": {
      "text/plain": [
       "array([[1, 3],\n",
       "       [4, 6],\n",
       "       [7, 9]])"
      ]
     },
     "execution_count": 95,
     "metadata": {},
     "output_type": "execute_result"
    }
   ],
   "source": [
    "np.delete(a, 1, axis=1)"
   ]
  },
  {
   "cell_type": "markdown",
   "id": "b593b3e0",
   "metadata": {},
   "source": [
    "**배열의 결합**\n",
    "- np.concatenate((arr1, arr2), axis=0)\n",
    "- np.vstack(tuple 형태) : 수직 방향 배열 결합(axis=0)\n",
    "- np.hstack(tuple 형태) : 수평 방향 배열 결합(axis=1)"
   ]
  },
  {
   "cell_type": "code",
   "execution_count": 97,
   "id": "2e3065b1",
   "metadata": {
    "ExecuteTime": {
     "end_time": "2023-09-25T07:22:55.125966Z",
     "start_time": "2023-09-25T07:22:55.113931Z"
    }
   },
   "outputs": [],
   "source": [
    "a = np.arange(1,7).reshape(2,3)"
   ]
  },
  {
   "cell_type": "code",
   "execution_count": 98,
   "id": "f553f03f",
   "metadata": {
    "ExecuteTime": {
     "end_time": "2023-09-25T07:22:59.834083Z",
     "start_time": "2023-09-25T07:22:59.816155Z"
    }
   },
   "outputs": [
    {
     "name": "stdout",
     "output_type": "stream",
     "text": [
      "type : <class 'numpy.ndarray'>\n",
      "shape : (2, 3), dimension : 2, dtype : int32\n",
      "Array\"s Data : \n",
      " [[1 2 3]\n",
      " [4 5 6]]\n"
     ]
    }
   ],
   "source": [
    "pprint(a)"
   ]
  },
  {
   "cell_type": "code",
   "execution_count": 99,
   "id": "ea2d3b92",
   "metadata": {
    "ExecuteTime": {
     "end_time": "2023-09-25T07:23:35.888348Z",
     "start_time": "2023-09-25T07:23:35.874707Z"
    }
   },
   "outputs": [],
   "source": [
    "b = np.arange(7,13).reshape(2,3)"
   ]
  },
  {
   "cell_type": "code",
   "execution_count": 100,
   "id": "e6627398",
   "metadata": {
    "ExecuteTime": {
     "end_time": "2023-09-25T07:24:38.260726Z",
     "start_time": "2023-09-25T07:24:38.250446Z"
    }
   },
   "outputs": [],
   "source": [
    "result = np.concatenate((a,b))"
   ]
  },
  {
   "cell_type": "code",
   "execution_count": 101,
   "id": "6065d2f3",
   "metadata": {
    "ExecuteTime": {
     "end_time": "2023-09-25T07:24:43.216012Z",
     "start_time": "2023-09-25T07:24:43.203656Z"
    }
   },
   "outputs": [
    {
     "name": "stdout",
     "output_type": "stream",
     "text": [
      "type : <class 'numpy.ndarray'>\n",
      "shape : (4, 3), dimension : 2, dtype : int32\n",
      "Array\"s Data : \n",
      " [[ 1  2  3]\n",
      " [ 4  5  6]\n",
      " [ 7  8  9]\n",
      " [10 11 12]]\n"
     ]
    }
   ],
   "source": [
    "pprint(result)"
   ]
  },
  {
   "cell_type": "code",
   "execution_count": 102,
   "id": "016f1be4",
   "metadata": {
    "ExecuteTime": {
     "end_time": "2023-09-25T07:26:09.562155Z",
     "start_time": "2023-09-25T07:26:09.542598Z"
    }
   },
   "outputs": [
    {
     "data": {
      "text/plain": [
       "array([[ 1,  2,  3],\n",
       "       [ 4,  5,  6],\n",
       "       [ 7,  8,  9],\n",
       "       [10, 11, 12]])"
      ]
     },
     "execution_count": 102,
     "metadata": {},
     "output_type": "execute_result"
    }
   ],
   "source": [
    "np.vstack((a,b))"
   ]
  },
  {
   "cell_type": "code",
   "execution_count": 103,
   "id": "0630a4c1",
   "metadata": {
    "ExecuteTime": {
     "end_time": "2023-09-25T07:26:18.636239Z",
     "start_time": "2023-09-25T07:26:18.620022Z"
    }
   },
   "outputs": [
    {
     "data": {
      "text/plain": [
       "array([[ 1,  2,  3,  7,  8,  9],\n",
       "       [ 4,  5,  6, 10, 11, 12]])"
      ]
     },
     "execution_count": 103,
     "metadata": {},
     "output_type": "execute_result"
    }
   ],
   "source": [
    "np.hstack((a,b))"
   ]
  },
  {
   "cell_type": "markdown",
   "id": "b67b66f2",
   "metadata": {},
   "source": [
    "**배열분리 : 수직, 수평으로 분할하는 함수를 제공**\n",
    "- np.hsplit() : 지정한 배열을 수평(행방향)으로 분할\n",
    "- np.vsplit() : 지정한 배열을 수직(열방향)으로 분할\n"
   ]
  },
  {
   "cell_type": "code",
   "execution_count": 105,
   "id": "061b3051",
   "metadata": {
    "ExecuteTime": {
     "end_time": "2023-09-25T07:29:11.646613Z",
     "start_time": "2023-09-25T07:29:11.634475Z"
    }
   },
   "outputs": [],
   "source": [
    "a = np.arange(1,25).reshape((4,6))"
   ]
  },
  {
   "cell_type": "code",
   "execution_count": 106,
   "id": "e849ff9d",
   "metadata": {
    "ExecuteTime": {
     "end_time": "2023-09-25T07:30:04.866767Z",
     "start_time": "2023-09-25T07:30:04.858692Z"
    }
   },
   "outputs": [
    {
     "data": {
      "text/plain": [
       "[array([[ 1,  2,  3],\n",
       "        [ 7,  8,  9],\n",
       "        [13, 14, 15],\n",
       "        [19, 20, 21]]),\n",
       " array([[ 4,  5,  6],\n",
       "        [10, 11, 12],\n",
       "        [16, 17, 18],\n",
       "        [22, 23, 24]])]"
      ]
     },
     "execution_count": 106,
     "metadata": {},
     "output_type": "execute_result"
    }
   ],
   "source": [
    "np.hsplit(a,2)"
   ]
  },
  {
   "cell_type": "code",
   "execution_count": 107,
   "id": "92707e2d",
   "metadata": {
    "ExecuteTime": {
     "end_time": "2023-09-25T07:31:59.712717Z",
     "start_time": "2023-09-25T07:31:59.698511Z"
    }
   },
   "outputs": [],
   "source": [
    "result = np.hsplit(a,3)"
   ]
  },
  {
   "cell_type": "code",
   "execution_count": 108,
   "id": "438ef829",
   "metadata": {
    "ExecuteTime": {
     "end_time": "2023-09-25T07:32:18.613023Z",
     "start_time": "2023-09-25T07:32:18.595677Z"
    }
   },
   "outputs": [
    {
     "data": {
      "text/plain": [
       "[array([[ 1,  2],\n",
       "        [ 7,  8],\n",
       "        [13, 14],\n",
       "        [19, 20]]),\n",
       " array([[ 3,  4],\n",
       "        [ 9, 10],\n",
       "        [15, 16],\n",
       "        [21, 22]]),\n",
       " array([[ 5,  6],\n",
       "        [11, 12],\n",
       "        [17, 18],\n",
       "        [23, 24]])]"
      ]
     },
     "execution_count": 108,
     "metadata": {},
     "output_type": "execute_result"
    }
   ],
   "source": [
    "result"
   ]
  },
  {
   "cell_type": "code",
   "execution_count": 109,
   "id": "e188a8cf",
   "metadata": {
    "ExecuteTime": {
     "end_time": "2023-09-25T07:35:56.004424Z",
     "start_time": "2023-09-25T07:35:55.988377Z"
    }
   },
   "outputs": [
    {
     "data": {
      "text/plain": [
       "[array([[ 1],\n",
       "        [ 7],\n",
       "        [13],\n",
       "        [19]]),\n",
       " array([[ 2,  3],\n",
       "        [ 8,  9],\n",
       "        [14, 15],\n",
       "        [20, 21]]),\n",
       " array([[ 4,  5],\n",
       "        [10, 11],\n",
       "        [16, 17],\n",
       "        [22, 23]]),\n",
       " array([[ 6],\n",
       "        [12],\n",
       "        [18],\n",
       "        [24]])]"
      ]
     },
     "execution_count": 109,
     "metadata": {},
     "output_type": "execute_result"
    }
   ],
   "source": [
    "#수평 방향으로 여러 구간(index)으로 분할\n",
    "np.hsplit(a,[1,3,5])"
   ]
  },
  {
   "cell_type": "code",
   "execution_count": 111,
   "id": "b8f3c76b",
   "metadata": {
    "ExecuteTime": {
     "end_time": "2023-09-25T07:37:52.843155Z",
     "start_time": "2023-09-25T07:37:52.832022Z"
    }
   },
   "outputs": [
    {
     "data": {
      "text/plain": [
       "[array([[ 1,  2,  3,  4,  5,  6],\n",
       "        [ 7,  8,  9, 10, 11, 12]]),\n",
       " array([[13, 14, 15, 16, 17, 18],\n",
       "        [19, 20, 21, 22, 23, 24]])]"
      ]
     },
     "execution_count": 111,
     "metadata": {},
     "output_type": "execute_result"
    }
   ],
   "source": [
    "np.vsplit(a,2)"
   ]
  },
  {
   "cell_type": "code",
   "execution_count": 112,
   "id": "dd4c6ec1",
   "metadata": {
    "ExecuteTime": {
     "end_time": "2023-09-25T07:41:56.442428Z",
     "start_time": "2023-09-25T07:41:56.433161Z"
    }
   },
   "outputs": [
    {
     "data": {
      "text/plain": [
       "[array([[1, 2, 3, 4, 5, 6]]),\n",
       " array([[ 7,  8,  9, 10, 11, 12],\n",
       "        [13, 14, 15, 16, 17, 18]]),\n",
       " array([[19, 20, 21, 22, 23, 24]])]"
      ]
     },
     "execution_count": 112,
     "metadata": {},
     "output_type": "execute_result"
    }
   ],
   "source": [
    "np.vsplit(a, (1,3))"
   ]
  },
  {
   "cell_type": "code",
   "execution_count": null,
   "id": "21a20005",
   "metadata": {},
   "outputs": [],
   "source": []
  }
 ],
 "metadata": {
  "kernelspec": {
   "display_name": "Python 3 (ipykernel)",
   "language": "python",
   "name": "python3"
  },
  "language_info": {
   "codemirror_mode": {
    "name": "ipython",
    "version": 3
   },
   "file_extension": ".py",
   "mimetype": "text/x-python",
   "name": "python",
   "nbconvert_exporter": "python",
   "pygments_lexer": "ipython3",
   "version": "3.9.17"
  },
  "toc": {
   "base_numbering": 1,
   "nav_menu": {},
   "number_sections": true,
   "sideBar": true,
   "skip_h1_title": false,
   "title_cell": "Table of Contents",
   "title_sidebar": "Contents",
   "toc_cell": false,
   "toc_position": {
    "height": "calc(100% - 180px)",
    "left": "10px",
    "top": "150px",
    "width": "384px"
   },
   "toc_section_display": true,
   "toc_window_display": true
  }
 },
 "nbformat": 4,
 "nbformat_minor": 5
}
