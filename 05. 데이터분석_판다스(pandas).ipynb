{
 "cells": [
  {
   "cell_type": "markdown",
   "id": "f45f70b9",
   "metadata": {},
   "source": [
    "# 판다스 데이터 분석\n",
    "- 데이터 처리를 위한 데이터 프레임을 제공\n",
    "- 데이터 구조는 시리즈와 데이터프레임\n",
    "- 데이터 전처리와 데이터를 표형태로 처리할 때 우수한 성능을 제공"
   ]
  },
  {
   "cell_type": "markdown",
   "id": "4367a92b",
   "metadata": {},
   "source": [
    "## 필수 라이브러리 로딩"
   ]
  },
  {
   "cell_type": "code",
   "execution_count": 1,
   "id": "b57209a4",
   "metadata": {
    "ExecuteTime": {
     "end_time": "2023-09-25T07:49:42.180775Z",
     "start_time": "2023-09-25T07:49:40.269546Z"
    }
   },
   "outputs": [],
   "source": [
    "import numpy as np\n",
    "import pandas as pd\n",
    "import matplotlib as mpl\n",
    "import matplotlib.pyplot as plt\n",
    "%matplotlib inline"
   ]
  },
  {
   "cell_type": "markdown",
   "id": "bb4cec36",
   "metadata": {},
   "source": [
    "## Series 객체\n",
    "- Numpy에서 제공하는 1차원 배열과 비슷하지만 각 데이터의 위치를 의미하는 index가 붙는다.\n",
    "- 구성요소 : 값(value) + 인덱스(index)\n",
    "- 속성 : Series.index, Series.values, Series.dtype\n",
    "- 형식 : pd.Series(data, index)"
   ]
  },
  {
   "cell_type": "code",
   "execution_count": 3,
   "id": "ef9349f7",
   "metadata": {
    "ExecuteTime": {
     "end_time": "2023-09-25T07:54:53.216149Z",
     "start_time": "2023-09-25T07:54:53.208437Z"
    }
   },
   "outputs": [],
   "source": [
    "ser = pd.Series(np.random.randn(4), index=['a','b','c','d'])"
   ]
  },
  {
   "cell_type": "code",
   "execution_count": 4,
   "id": "7ff47f66",
   "metadata": {
    "ExecuteTime": {
     "end_time": "2023-09-25T07:54:56.578445Z",
     "start_time": "2023-09-25T07:54:56.560969Z"
    }
   },
   "outputs": [
    {
     "data": {
      "text/plain": [
       "a   -1.715732\n",
       "b    0.939259\n",
       "c    1.806143\n",
       "d   -0.711127\n",
       "dtype: float64"
      ]
     },
     "execution_count": 4,
     "metadata": {},
     "output_type": "execute_result"
    }
   ],
   "source": [
    "ser"
   ]
  },
  {
   "cell_type": "code",
   "execution_count": 5,
   "id": "84d1428f",
   "metadata": {
    "ExecuteTime": {
     "end_time": "2023-09-25T08:11:01.791328Z",
     "start_time": "2023-09-25T08:11:01.781115Z"
    }
   },
   "outputs": [
    {
     "data": {
      "text/plain": [
       "Index(['a', 'b', 'c', 'd'], dtype='object')"
      ]
     },
     "execution_count": 5,
     "metadata": {},
     "output_type": "execute_result"
    }
   ],
   "source": [
    "ser.index"
   ]
  },
  {
   "cell_type": "code",
   "execution_count": 6,
   "id": "94457b3f",
   "metadata": {
    "ExecuteTime": {
     "end_time": "2023-09-25T08:11:11.285129Z",
     "start_time": "2023-09-25T08:11:11.265255Z"
    }
   },
   "outputs": [
    {
     "data": {
      "text/plain": [
       "array([-1.71573202,  0.93925944,  1.80614312, -0.71112741])"
      ]
     },
     "execution_count": 6,
     "metadata": {},
     "output_type": "execute_result"
    }
   ],
   "source": [
    "ser.values"
   ]
  },
  {
   "cell_type": "code",
   "execution_count": 7,
   "id": "c645e1bf",
   "metadata": {
    "ExecuteTime": {
     "end_time": "2023-09-25T08:11:15.955433Z",
     "start_time": "2023-09-25T08:11:15.950306Z"
    }
   },
   "outputs": [
    {
     "data": {
      "text/plain": [
       "dtype('float64')"
      ]
     },
     "execution_count": 7,
     "metadata": {},
     "output_type": "execute_result"
    }
   ],
   "source": [
    "ser.dtype"
   ]
  },
  {
   "cell_type": "code",
   "execution_count": 8,
   "id": "4ada1112",
   "metadata": {
    "ExecuteTime": {
     "end_time": "2023-09-25T08:13:49.976344Z",
     "start_time": "2023-09-25T08:13:49.965208Z"
    }
   },
   "outputs": [],
   "source": [
    "#파이썬의 자료구조 사전(dictionary)을 이용한 시리즈 객체 생성\n",
    "data = {'seoul':2000, 'busan':2500,'daejeon':3000}\n",
    "s1 = pd.Series(data)"
   ]
  },
  {
   "cell_type": "code",
   "execution_count": 9,
   "id": "2c3c6f50",
   "metadata": {
    "ExecuteTime": {
     "end_time": "2023-09-25T08:13:53.847136Z",
     "start_time": "2023-09-25T08:13:53.839876Z"
    }
   },
   "outputs": [
    {
     "data": {
      "text/plain": [
       "seoul      2000\n",
       "busan      2500\n",
       "daejeon    3000\n",
       "dtype: int64"
      ]
     },
     "execution_count": 9,
     "metadata": {},
     "output_type": "execute_result"
    }
   ],
   "source": [
    "s1"
   ]
  },
  {
   "cell_type": "code",
   "execution_count": 10,
   "id": "8aa1004a",
   "metadata": {
    "ExecuteTime": {
     "end_time": "2023-09-25T08:19:23.999313Z",
     "start_time": "2023-09-25T08:19:23.983708Z"
    }
   },
   "outputs": [
    {
     "data": {
      "text/plain": [
       "a   -1.715732\n",
       "b    0.939259\n",
       "c    1.806143\n",
       "d   -0.711127\n",
       "dtype: float64"
      ]
     },
     "execution_count": 10,
     "metadata": {},
     "output_type": "execute_result"
    }
   ],
   "source": [
    "ser"
   ]
  },
  {
   "cell_type": "code",
   "execution_count": 11,
   "id": "f2fa3c56",
   "metadata": {
    "ExecuteTime": {
     "end_time": "2023-09-25T08:20:19.850349Z",
     "start_time": "2023-09-25T08:20:19.839314Z"
    }
   },
   "outputs": [
    {
     "data": {
      "text/plain": [
       "a   -1.715732\n",
       "b    0.939259\n",
       "c    1.806143\n",
       "dtype: float64"
      ]
     },
     "execution_count": 11,
     "metadata": {},
     "output_type": "execute_result"
    }
   ],
   "source": [
    "ser[:3]"
   ]
  },
  {
   "cell_type": "code",
   "execution_count": 12,
   "id": "2ca011c9",
   "metadata": {
    "ExecuteTime": {
     "end_time": "2023-09-25T08:20:51.469750Z",
     "start_time": "2023-09-25T08:20:51.455227Z"
    }
   },
   "outputs": [
    {
     "data": {
      "text/plain": [
       "-1.7157320248282828"
      ]
     },
     "execution_count": 12,
     "metadata": {},
     "output_type": "execute_result"
    }
   ],
   "source": [
    "ser['a']"
   ]
  },
  {
   "cell_type": "code",
   "execution_count": 14,
   "id": "915de601",
   "metadata": {
    "ExecuteTime": {
     "end_time": "2023-09-25T08:21:25.894758Z",
     "start_time": "2023-09-25T08:21:25.884451Z"
    }
   },
   "outputs": [
    {
     "data": {
      "text/plain": [
       "a   -1.715732\n",
       "b    0.939259\n",
       "c    1.806143\n",
       "d    7.000000\n",
       "dtype: float64"
      ]
     },
     "execution_count": 14,
     "metadata": {},
     "output_type": "execute_result"
    }
   ],
   "source": [
    "ser['d'] = 7\n",
    "ser"
   ]
  },
  {
   "cell_type": "code",
   "execution_count": 15,
   "id": "022929c5",
   "metadata": {
    "ExecuteTime": {
     "end_time": "2023-09-25T08:22:36.102862Z",
     "start_time": "2023-09-25T08:22:36.091260Z"
    }
   },
   "outputs": [
    {
     "data": {
      "text/plain": [
       "a    -3.431464\n",
       "b     1.878519\n",
       "c     3.612286\n",
       "d    14.000000\n",
       "dtype: float64"
      ]
     },
     "execution_count": 15,
     "metadata": {},
     "output_type": "execute_result"
    }
   ],
   "source": [
    "ser + ser"
   ]
  },
  {
   "cell_type": "code",
   "execution_count": 16,
   "id": "da885ddc",
   "metadata": {
    "ExecuteTime": {
     "end_time": "2023-09-25T08:23:02.210045Z",
     "start_time": "2023-09-25T08:23:02.189747Z"
    }
   },
   "outputs": [
    {
     "data": {
      "text/plain": [
       "a     2.943736\n",
       "b     0.882208\n",
       "c     3.262153\n",
       "d    49.000000\n",
       "dtype: float64"
      ]
     },
     "execution_count": 16,
     "metadata": {},
     "output_type": "execute_result"
    }
   ],
   "source": [
    "ser*ser"
   ]
  },
  {
   "cell_type": "code",
   "execution_count": 17,
   "id": "c3a6fca9",
   "metadata": {
    "ExecuteTime": {
     "end_time": "2023-09-25T08:24:05.825514Z",
     "start_time": "2023-09-25T08:24:05.801667Z"
    }
   },
   "outputs": [
    {
     "data": {
      "text/plain": [
       "a         NaN\n",
       "b    1.878519\n",
       "c    3.612286\n",
       "d         NaN\n",
       "dtype: float64"
      ]
     },
     "execution_count": 17,
     "metadata": {},
     "output_type": "execute_result"
    }
   ],
   "source": [
    "ser[1:] + ser[:-1]"
   ]
  },
  {
   "cell_type": "code",
   "execution_count": 18,
   "id": "4291907e",
   "metadata": {
    "ExecuteTime": {
     "end_time": "2023-09-25T08:25:41.290944Z",
     "start_time": "2023-09-25T08:25:41.279473Z"
    }
   },
   "outputs": [
    {
     "data": {
      "text/plain": [
       "0   -0.338043\n",
       "1   -0.044983\n",
       "2   -1.174445\n",
       "3   -1.220589\n",
       "4    0.902448\n",
       "Name: seoul, dtype: float64"
      ]
     },
     "execution_count": 18,
     "metadata": {},
     "output_type": "execute_result"
    }
   ],
   "source": [
    "ser=pd.Series(np.random.randn(5), name = 'seoul')\n",
    "ser"
   ]
  },
  {
   "cell_type": "code",
   "execution_count": 19,
   "id": "a6ebf5d8",
   "metadata": {
    "ExecuteTime": {
     "end_time": "2023-09-25T08:28:19.765054Z",
     "start_time": "2023-09-25T08:28:19.752750Z"
    }
   },
   "outputs": [
    {
     "data": {
      "text/plain": [
       "0   -0.338043\n",
       "1   -0.044983\n",
       "2   -1.174445\n",
       "3   -1.220589\n",
       "4    0.902448\n",
       "Name: seoul, dtype: float64"
      ]
     },
     "execution_count": 19,
     "metadata": {},
     "output_type": "execute_result"
    }
   ],
   "source": [
    "ser"
   ]
  },
  {
   "cell_type": "code",
   "execution_count": 21,
   "id": "4f7f4f4d",
   "metadata": {
    "ExecuteTime": {
     "end_time": "2023-09-25T08:29:08.829939Z",
     "start_time": "2023-09-25T08:29:08.814988Z"
    }
   },
   "outputs": [],
   "source": [
    "ser = pd.Series(np.random.randn(4), index=['a','b','c','d'])"
   ]
  },
  {
   "cell_type": "code",
   "execution_count": 22,
   "id": "237955fb",
   "metadata": {
    "ExecuteTime": {
     "end_time": "2023-09-25T08:31:52.074190Z",
     "start_time": "2023-09-25T08:31:52.063132Z"
    }
   },
   "outputs": [],
   "source": [
    "# in, not in\n",
    "# 사전을 바로 시리즈 객체로 변환이 가능하다.\n",
    "# 사전의 키가 시리즈 인덱스가 된다.\n"
   ]
  },
  {
   "cell_type": "code",
   "execution_count": 23,
   "id": "858573cb",
   "metadata": {
    "ExecuteTime": {
     "end_time": "2023-09-25T08:33:02.284929Z",
     "start_time": "2023-09-25T08:33:02.269833Z"
    }
   },
   "outputs": [
    {
     "name": "stdout",
     "output_type": "stream",
     "text": [
      "a:1\n",
      "b:0\n",
      "c:0\n",
      "d:0\n"
     ]
    }
   ],
   "source": [
    "# 시리즈 객체를 사전 취급가능\n",
    "# 사전.keys()\n",
    "# 사전.values()\n",
    "# 사전.items()\n",
    "for key, value in ser.items():\n",
    "    print('%s:%d' % (key, value))"
   ]
  },
  {
   "cell_type": "code",
   "execution_count": 24,
   "id": "d6fc8e37",
   "metadata": {
    "ExecuteTime": {
     "end_time": "2023-09-25T08:35:03.450222Z",
     "start_time": "2023-09-25T08:35:03.434803Z"
    }
   },
   "outputs": [],
   "source": [
    "del ser['c']"
   ]
  },
  {
   "cell_type": "code",
   "execution_count": 25,
   "id": "dbbd784d",
   "metadata": {
    "ExecuteTime": {
     "end_time": "2023-09-25T08:35:07.268356Z",
     "start_time": "2023-09-25T08:35:07.258228Z"
    }
   },
   "outputs": [
    {
     "data": {
      "text/plain": [
       "a    1.284866\n",
       "b   -0.195839\n",
       "d   -0.327893\n",
       "dtype: float64"
      ]
     },
     "execution_count": 25,
     "metadata": {},
     "output_type": "execute_result"
    }
   ],
   "source": [
    "ser"
   ]
  },
  {
   "cell_type": "markdown",
   "id": "cd84182f",
   "metadata": {},
   "source": [
    "**DataFrame : 데이터프레임(2차원 표 형태의 자료)**\n",
    "- pd.DataFrame(data, index, columns)\n",
    "- 여러개의 Series가 결합된 형태"
   ]
  },
  {
   "cell_type": "code",
   "execution_count": 26,
   "id": "a7ce6895",
   "metadata": {
    "ExecuteTime": {
     "end_time": "2023-09-25T08:38:57.160212Z",
     "start_time": "2023-09-25T08:38:57.142782Z"
    }
   },
   "outputs": [],
   "source": [
    "a = pd.DataFrame([[10, 20, 30],[40, 50, 60],[70, 80, 90]])"
   ]
  },
  {
   "cell_type": "code",
   "execution_count": 27,
   "id": "f31471da",
   "metadata": {
    "ExecuteTime": {
     "end_time": "2023-09-25T08:38:58.580967Z",
     "start_time": "2023-09-25T08:38:58.556001Z"
    }
   },
   "outputs": [
    {
     "data": {
      "text/html": [
       "<div>\n",
       "<style scoped>\n",
       "    .dataframe tbody tr th:only-of-type {\n",
       "        vertical-align: middle;\n",
       "    }\n",
       "\n",
       "    .dataframe tbody tr th {\n",
       "        vertical-align: top;\n",
       "    }\n",
       "\n",
       "    .dataframe thead th {\n",
       "        text-align: right;\n",
       "    }\n",
       "</style>\n",
       "<table border=\"1\" class=\"dataframe\">\n",
       "  <thead>\n",
       "    <tr style=\"text-align: right;\">\n",
       "      <th></th>\n",
       "      <th>0</th>\n",
       "      <th>1</th>\n",
       "      <th>2</th>\n",
       "    </tr>\n",
       "  </thead>\n",
       "  <tbody>\n",
       "    <tr>\n",
       "      <th>0</th>\n",
       "      <td>10</td>\n",
       "      <td>20</td>\n",
       "      <td>30</td>\n",
       "    </tr>\n",
       "    <tr>\n",
       "      <th>1</th>\n",
       "      <td>40</td>\n",
       "      <td>50</td>\n",
       "      <td>60</td>\n",
       "    </tr>\n",
       "    <tr>\n",
       "      <th>2</th>\n",
       "      <td>70</td>\n",
       "      <td>80</td>\n",
       "      <td>90</td>\n",
       "    </tr>\n",
       "  </tbody>\n",
       "</table>\n",
       "</div>"
      ],
      "text/plain": [
       "    0   1   2\n",
       "0  10  20  30\n",
       "1  40  50  60\n",
       "2  70  80  90"
      ]
     },
     "execution_count": 27,
     "metadata": {},
     "output_type": "execute_result"
    }
   ],
   "source": [
    "a"
   ]
  },
  {
   "cell_type": "code",
   "execution_count": 28,
   "id": "a634865b",
   "metadata": {
    "ExecuteTime": {
     "end_time": "2023-09-25T08:39:26.715459Z",
     "start_time": "2023-09-25T08:39:26.704661Z"
    }
   },
   "outputs": [
    {
     "name": "stdout",
     "output_type": "stream",
     "text": [
      "<class 'pandas.core.frame.DataFrame'>\n"
     ]
    }
   ],
   "source": [
    "print(type(a))"
   ]
  },
  {
   "cell_type": "code",
   "execution_count": 29,
   "id": "69eb810b",
   "metadata": {
    "ExecuteTime": {
     "end_time": "2023-09-25T08:40:02.359878Z",
     "start_time": "2023-09-25T08:40:02.355808Z"
    }
   },
   "outputs": [
    {
     "data": {
      "text/plain": [
       "(3, 3)"
      ]
     },
     "execution_count": 29,
     "metadata": {},
     "output_type": "execute_result"
    }
   ],
   "source": [
    "a.shape"
   ]
  },
  {
   "cell_type": "code",
   "execution_count": 31,
   "id": "73be2447",
   "metadata": {
    "ExecuteTime": {
     "end_time": "2023-09-25T08:42:49.163962Z",
     "start_time": "2023-09-25T08:42:49.148468Z"
    }
   },
   "outputs": [
    {
     "data": {
      "text/html": [
       "<div>\n",
       "<style scoped>\n",
       "    .dataframe tbody tr th:only-of-type {\n",
       "        vertical-align: middle;\n",
       "    }\n",
       "\n",
       "    .dataframe tbody tr th {\n",
       "        vertical-align: top;\n",
       "    }\n",
       "\n",
       "    .dataframe thead th {\n",
       "        text-align: right;\n",
       "    }\n",
       "</style>\n",
       "<table border=\"1\" class=\"dataframe\">\n",
       "  <thead>\n",
       "    <tr style=\"text-align: right;\">\n",
       "      <th></th>\n",
       "      <th>weight</th>\n",
       "      <th>height</th>\n",
       "      <th>gender</th>\n",
       "    </tr>\n",
       "  </thead>\n",
       "  <tbody>\n",
       "    <tr>\n",
       "      <th>0</th>\n",
       "      <td>70.0</td>\n",
       "      <td>170</td>\n",
       "      <td>f</td>\n",
       "    </tr>\n",
       "    <tr>\n",
       "      <th>1</th>\n",
       "      <td>70.4</td>\n",
       "      <td>180</td>\n",
       "      <td>m</td>\n",
       "    </tr>\n",
       "    <tr>\n",
       "      <th>2</th>\n",
       "      <td>65.5</td>\n",
       "      <td>160</td>\n",
       "      <td>m</td>\n",
       "    </tr>\n",
       "    <tr>\n",
       "      <th>3</th>\n",
       "      <td>49.9</td>\n",
       "      <td>155</td>\n",
       "      <td>f</td>\n",
       "    </tr>\n",
       "    <tr>\n",
       "      <th>4</th>\n",
       "      <td>51.2</td>\n",
       "      <td>143</td>\n",
       "      <td>f</td>\n",
       "    </tr>\n",
       "  </tbody>\n",
       "</table>\n",
       "</div>"
      ],
      "text/plain": [
       "   weight  height gender\n",
       "0    70.0     170      f\n",
       "1    70.4     180      m\n",
       "2    65.5     160      m\n",
       "3    49.9     155      f\n",
       "4    51.2     143      f"
      ]
     },
     "execution_count": 31,
     "metadata": {},
     "output_type": "execute_result"
    }
   ],
   "source": [
    "# 데이터 사전을 이용한 데이터프레임 생성\n",
    "df = pd.DataFrame({'weight':[70, 70.4, 65.5, 49.9, 51.2],\n",
    "                   'height':[170, 180, 160, 155, 143],\n",
    "                   'gender':['f','m','m','f','f']\n",
    "                  })\n",
    "df"
   ]
  },
  {
   "cell_type": "code",
   "execution_count": 33,
   "id": "bb90bf93",
   "metadata": {
    "ExecuteTime": {
     "end_time": "2023-09-25T08:44:12.072308Z",
     "start_time": "2023-09-25T08:44:12.063054Z"
    }
   },
   "outputs": [
    {
     "name": "stdout",
     "output_type": "stream",
     "text": [
      "<class 'pandas.core.series.Series'>\n"
     ]
    }
   ],
   "source": [
    "print(type(df['weight']))"
   ]
  },
  {
   "cell_type": "code",
   "execution_count": 34,
   "id": "9ed67f64",
   "metadata": {
    "ExecuteTime": {
     "end_time": "2023-09-25T08:44:48.950755Z",
     "start_time": "2023-09-25T08:44:48.937539Z"
    }
   },
   "outputs": [
    {
     "data": {
      "text/plain": [
       "0    70.0\n",
       "1    70.4\n",
       "2    65.5\n",
       "3    49.9\n",
       "4    51.2\n",
       "Name: weight, dtype: float64"
      ]
     },
     "execution_count": 34,
     "metadata": {},
     "output_type": "execute_result"
    }
   ],
   "source": [
    "df['weight']"
   ]
  },
  {
   "cell_type": "code",
   "execution_count": 35,
   "id": "6733cd47",
   "metadata": {
    "ExecuteTime": {
     "end_time": "2023-09-25T08:45:18.493819Z",
     "start_time": "2023-09-25T08:45:18.471853Z"
    }
   },
   "outputs": [
    {
     "data": {
      "text/html": [
       "<div>\n",
       "<style scoped>\n",
       "    .dataframe tbody tr th:only-of-type {\n",
       "        vertical-align: middle;\n",
       "    }\n",
       "\n",
       "    .dataframe tbody tr th {\n",
       "        vertical-align: top;\n",
       "    }\n",
       "\n",
       "    .dataframe thead th {\n",
       "        text-align: right;\n",
       "    }\n",
       "</style>\n",
       "<table border=\"1\" class=\"dataframe\">\n",
       "  <thead>\n",
       "    <tr style=\"text-align: right;\">\n",
       "      <th></th>\n",
       "      <th>weight</th>\n",
       "      <th>gender</th>\n",
       "    </tr>\n",
       "  </thead>\n",
       "  <tbody>\n",
       "    <tr>\n",
       "      <th>0</th>\n",
       "      <td>70.0</td>\n",
       "      <td>f</td>\n",
       "    </tr>\n",
       "    <tr>\n",
       "      <th>1</th>\n",
       "      <td>70.4</td>\n",
       "      <td>m</td>\n",
       "    </tr>\n",
       "    <tr>\n",
       "      <th>2</th>\n",
       "      <td>65.5</td>\n",
       "      <td>m</td>\n",
       "    </tr>\n",
       "    <tr>\n",
       "      <th>3</th>\n",
       "      <td>49.9</td>\n",
       "      <td>f</td>\n",
       "    </tr>\n",
       "    <tr>\n",
       "      <th>4</th>\n",
       "      <td>51.2</td>\n",
       "      <td>f</td>\n",
       "    </tr>\n",
       "  </tbody>\n",
       "</table>\n",
       "</div>"
      ],
      "text/plain": [
       "   weight gender\n",
       "0    70.0      f\n",
       "1    70.4      m\n",
       "2    65.5      m\n",
       "3    49.9      f\n",
       "4    51.2      f"
      ]
     },
     "execution_count": 35,
     "metadata": {},
     "output_type": "execute_result"
    }
   ],
   "source": [
    "df[['weight','gender']]"
   ]
  },
  {
   "cell_type": "code",
   "execution_count": 36,
   "id": "0de42061",
   "metadata": {
    "ExecuteTime": {
     "end_time": "2023-09-25T08:48:34.011306Z",
     "start_time": "2023-09-25T08:48:33.983276Z"
    }
   },
   "outputs": [
    {
     "data": {
      "text/html": [
       "<div>\n",
       "<style scoped>\n",
       "    .dataframe tbody tr th:only-of-type {\n",
       "        vertical-align: middle;\n",
       "    }\n",
       "\n",
       "    .dataframe tbody tr th {\n",
       "        vertical-align: top;\n",
       "    }\n",
       "\n",
       "    .dataframe thead th {\n",
       "        text-align: right;\n",
       "    }\n",
       "</style>\n",
       "<table border=\"1\" class=\"dataframe\">\n",
       "  <thead>\n",
       "    <tr style=\"text-align: right;\">\n",
       "      <th></th>\n",
       "      <th>weight</th>\n",
       "      <th>height</th>\n",
       "      <th>gender</th>\n",
       "    </tr>\n",
       "  </thead>\n",
       "  <tbody>\n",
       "    <tr>\n",
       "      <th>0</th>\n",
       "      <td>70.0</td>\n",
       "      <td>170</td>\n",
       "      <td>f</td>\n",
       "    </tr>\n",
       "    <tr>\n",
       "      <th>1</th>\n",
       "      <td>70.4</td>\n",
       "      <td>180</td>\n",
       "      <td>m</td>\n",
       "    </tr>\n",
       "    <tr>\n",
       "      <th>2</th>\n",
       "      <td>65.5</td>\n",
       "      <td>160</td>\n",
       "      <td>m</td>\n",
       "    </tr>\n",
       "  </tbody>\n",
       "</table>\n",
       "</div>"
      ],
      "text/plain": [
       "   weight  height gender\n",
       "0    70.0     170      f\n",
       "1    70.4     180      m\n",
       "2    65.5     160      m"
      ]
     },
     "execution_count": 36,
     "metadata": {},
     "output_type": "execute_result"
    }
   ],
   "source": [
    "df[df['height']>=160][:]"
   ]
  },
  {
   "cell_type": "code",
   "execution_count": 38,
   "id": "c6218679",
   "metadata": {
    "ExecuteTime": {
     "end_time": "2023-09-25T08:50:41.116872Z",
     "start_time": "2023-09-25T08:50:41.103334Z"
    }
   },
   "outputs": [
    {
     "data": {
      "text/html": [
       "<div>\n",
       "<style scoped>\n",
       "    .dataframe tbody tr th:only-of-type {\n",
       "        vertical-align: middle;\n",
       "    }\n",
       "\n",
       "    .dataframe tbody tr th {\n",
       "        vertical-align: top;\n",
       "    }\n",
       "\n",
       "    .dataframe thead th {\n",
       "        text-align: right;\n",
       "    }\n",
       "</style>\n",
       "<table border=\"1\" class=\"dataframe\">\n",
       "  <thead>\n",
       "    <tr style=\"text-align: right;\">\n",
       "      <th></th>\n",
       "      <th>weight</th>\n",
       "      <th>height</th>\n",
       "      <th>gender</th>\n",
       "    </tr>\n",
       "  </thead>\n",
       "  <tbody>\n",
       "    <tr>\n",
       "      <th>0</th>\n",
       "      <td>70.0</td>\n",
       "      <td>170</td>\n",
       "      <td>f</td>\n",
       "    </tr>\n",
       "    <tr>\n",
       "      <th>3</th>\n",
       "      <td>49.9</td>\n",
       "      <td>155</td>\n",
       "      <td>f</td>\n",
       "    </tr>\n",
       "    <tr>\n",
       "      <th>4</th>\n",
       "      <td>51.2</td>\n",
       "      <td>143</td>\n",
       "      <td>f</td>\n",
       "    </tr>\n",
       "  </tbody>\n",
       "</table>\n",
       "</div>"
      ],
      "text/plain": [
       "   weight  height gender\n",
       "0    70.0     170      f\n",
       "3    49.9     155      f\n",
       "4    51.2     143      f"
      ]
     },
     "execution_count": 38,
     "metadata": {},
     "output_type": "execute_result"
    }
   ],
   "source": [
    "df[df.gender=='f'][:]"
   ]
  },
  {
   "cell_type": "code",
   "execution_count": null,
   "id": "4b51d4a8",
   "metadata": {},
   "outputs": [],
   "source": []
  }
 ],
 "metadata": {
  "kernelspec": {
   "display_name": "Python 3 (ipykernel)",
   "language": "python",
   "name": "python3"
  },
  "language_info": {
   "codemirror_mode": {
    "name": "ipython",
    "version": 3
   },
   "file_extension": ".py",
   "mimetype": "text/x-python",
   "name": "python",
   "nbconvert_exporter": "python",
   "pygments_lexer": "ipython3",
   "version": "3.9.17"
  },
  "toc": {
   "base_numbering": 1,
   "nav_menu": {},
   "number_sections": true,
   "sideBar": true,
   "skip_h1_title": false,
   "title_cell": "Table of Contents",
   "title_sidebar": "Contents",
   "toc_cell": false,
   "toc_position": {
    "height": "783px",
    "left": "23px",
    "top": "90px",
    "width": "384px"
   },
   "toc_section_display": true,
   "toc_window_display": true
  }
 },
 "nbformat": 4,
 "nbformat_minor": 5
}
