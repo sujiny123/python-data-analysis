{
 "cells": [
  {
   "cell_type": "markdown",
   "id": "52bb0f87",
   "metadata": {},
   "source": [
    "# 피봇테이블(Pivot Table)\n",
    "- 데이터 열중에서 두개의 열을 각각 행인덱스, 열인덱스로 사용하여 데이터의 조회기능을 높이는 것\n",
    "- pivot(행인덱스, 열인덱스, 데이터)"
   ]
  },
  {
   "cell_type": "code",
   "execution_count": 2,
   "id": "753f5d79",
   "metadata": {
    "ExecuteTime": {
     "end_time": "2023-09-27T00:02:24.340373Z",
     "start_time": "2023-09-27T00:02:23.987319Z"
    }
   },
   "outputs": [],
   "source": [
    "import numpy as np\n",
    "import pandas as pd"
   ]
  },
  {
   "cell_type": "code",
   "execution_count": 4,
   "id": "d6d8fa32",
   "metadata": {
    "ExecuteTime": {
     "end_time": "2023-09-27T00:03:12.510357Z",
     "start_time": "2023-09-27T00:03:12.470012Z"
    }
   },
   "outputs": [
    {
     "data": {
      "text/html": [
       "<div>\n",
       "<style scoped>\n",
       "    .dataframe tbody tr th:only-of-type {\n",
       "        vertical-align: middle;\n",
       "    }\n",
       "\n",
       "    .dataframe tbody tr th {\n",
       "        vertical-align: top;\n",
       "    }\n",
       "\n",
       "    .dataframe thead th {\n",
       "        text-align: right;\n",
       "    }\n",
       "</style>\n",
       "<table border=\"1\" class=\"dataframe\">\n",
       "  <thead>\n",
       "    <tr style=\"text-align: right;\">\n",
       "      <th></th>\n",
       "      <th>도시</th>\n",
       "      <th>연도</th>\n",
       "      <th>인구</th>\n",
       "      <th>지역</th>\n",
       "    </tr>\n",
       "  </thead>\n",
       "  <tbody>\n",
       "    <tr>\n",
       "      <th>0</th>\n",
       "      <td>서울</td>\n",
       "      <td>2015</td>\n",
       "      <td>9904312</td>\n",
       "      <td>수도권</td>\n",
       "    </tr>\n",
       "    <tr>\n",
       "      <th>1</th>\n",
       "      <td>서울</td>\n",
       "      <td>2010</td>\n",
       "      <td>9631482</td>\n",
       "      <td>수도권</td>\n",
       "    </tr>\n",
       "    <tr>\n",
       "      <th>2</th>\n",
       "      <td>서울</td>\n",
       "      <td>2005</td>\n",
       "      <td>9762546</td>\n",
       "      <td>수도권</td>\n",
       "    </tr>\n",
       "    <tr>\n",
       "      <th>3</th>\n",
       "      <td>부산</td>\n",
       "      <td>2015</td>\n",
       "      <td>3448737</td>\n",
       "      <td>경상권</td>\n",
       "    </tr>\n",
       "    <tr>\n",
       "      <th>4</th>\n",
       "      <td>부산</td>\n",
       "      <td>2010</td>\n",
       "      <td>3393191</td>\n",
       "      <td>경상권</td>\n",
       "    </tr>\n",
       "    <tr>\n",
       "      <th>5</th>\n",
       "      <td>부산</td>\n",
       "      <td>2005</td>\n",
       "      <td>3512547</td>\n",
       "      <td>경상권</td>\n",
       "    </tr>\n",
       "    <tr>\n",
       "      <th>6</th>\n",
       "      <td>인천</td>\n",
       "      <td>2015</td>\n",
       "      <td>2890451</td>\n",
       "      <td>수도권</td>\n",
       "    </tr>\n",
       "    <tr>\n",
       "      <th>7</th>\n",
       "      <td>인천</td>\n",
       "      <td>2010</td>\n",
       "      <td>263203</td>\n",
       "      <td>수도권</td>\n",
       "    </tr>\n",
       "  </tbody>\n",
       "</table>\n",
       "</div>"
      ],
      "text/plain": [
       "   도시    연도       인구   지역\n",
       "0  서울  2015  9904312  수도권\n",
       "1  서울  2010  9631482  수도권\n",
       "2  서울  2005  9762546  수도권\n",
       "3  부산  2015  3448737  경상권\n",
       "4  부산  2010  3393191  경상권\n",
       "5  부산  2005  3512547  경상권\n",
       "6  인천  2015  2890451  수도권\n",
       "7  인천  2010   263203  수도권"
      ]
     },
     "execution_count": 4,
     "metadata": {},
     "output_type": "execute_result"
    }
   ],
   "source": [
    "data = {\n",
    "    \"도시\": [\"서울\", \"서울\", \"서울\", \"부산\", \"부산\", \"부산\", \"인천\", \"인천\"],\n",
    "    \"연도\": [\"2015\", \"2010\", \"2005\", \"2015\", \"2010\", \"2005\", \"2015\", \"2010\"],\n",
    "    \"인구\": [9904312, 9631482, 9762546, 3448737, 3393191, 3512547, 2890451, 263203],\n",
    "    \"지역\": [\"수도권\", \"수도권\", \"수도권\", \"경상권\", \"경상권\", \"경상권\", \"수도권\", \"수도권\"]\n",
    "}\n",
    "columns = ['도시', '연도','인구','지역']\n",
    "df1 = pd.DataFrame(data, columns=columns)\n",
    "df1"
   ]
  },
  {
   "cell_type": "code",
   "execution_count": 5,
   "id": "6c08a5ed",
   "metadata": {
    "ExecuteTime": {
     "end_time": "2023-09-27T00:05:31.784771Z",
     "start_time": "2023-09-27T00:05:31.751366Z"
    }
   },
   "outputs": [
    {
     "data": {
      "text/html": [
       "<div>\n",
       "<style scoped>\n",
       "    .dataframe tbody tr th:only-of-type {\n",
       "        vertical-align: middle;\n",
       "    }\n",
       "\n",
       "    .dataframe tbody tr th {\n",
       "        vertical-align: top;\n",
       "    }\n",
       "\n",
       "    .dataframe thead th {\n",
       "        text-align: right;\n",
       "    }\n",
       "</style>\n",
       "<table border=\"1\" class=\"dataframe\">\n",
       "  <thead>\n",
       "    <tr style=\"text-align: right;\">\n",
       "      <th>연도</th>\n",
       "      <th>2005</th>\n",
       "      <th>2010</th>\n",
       "      <th>2015</th>\n",
       "    </tr>\n",
       "    <tr>\n",
       "      <th>도시</th>\n",
       "      <th></th>\n",
       "      <th></th>\n",
       "      <th></th>\n",
       "    </tr>\n",
       "  </thead>\n",
       "  <tbody>\n",
       "    <tr>\n",
       "      <th>부산</th>\n",
       "      <td>3512547.0</td>\n",
       "      <td>3393191.0</td>\n",
       "      <td>3448737.0</td>\n",
       "    </tr>\n",
       "    <tr>\n",
       "      <th>서울</th>\n",
       "      <td>9762546.0</td>\n",
       "      <td>9631482.0</td>\n",
       "      <td>9904312.0</td>\n",
       "    </tr>\n",
       "    <tr>\n",
       "      <th>인천</th>\n",
       "      <td>NaN</td>\n",
       "      <td>263203.0</td>\n",
       "      <td>2890451.0</td>\n",
       "    </tr>\n",
       "  </tbody>\n",
       "</table>\n",
       "</div>"
      ],
      "text/plain": [
       "연도       2005       2010       2015\n",
       "도시                                 \n",
       "부산  3512547.0  3393191.0  3448737.0\n",
       "서울  9762546.0  9631482.0  9904312.0\n",
       "인천        NaN   263203.0  2890451.0"
      ]
     },
     "execution_count": 5,
     "metadata": {},
     "output_type": "execute_result"
    }
   ],
   "source": [
    "df1.pivot('도시','연도','인구')"
   ]
  },
  {
   "cell_type": "markdown",
   "id": "57d56173",
   "metadata": {},
   "source": [
    "**set_index 명령과 unstack 명령을 이용해서 피봇테이블 생성 가능**"
   ]
  },
  {
   "cell_type": "code",
   "execution_count": 6,
   "id": "25eed95c",
   "metadata": {
    "ExecuteTime": {
     "end_time": "2023-09-27T00:08:28.632931Z",
     "start_time": "2023-09-27T00:08:28.607137Z"
    }
   },
   "outputs": [
    {
     "data": {
      "text/html": [
       "<div>\n",
       "<style scoped>\n",
       "    .dataframe tbody tr th:only-of-type {\n",
       "        vertical-align: middle;\n",
       "    }\n",
       "\n",
       "    .dataframe tbody tr th {\n",
       "        vertical-align: top;\n",
       "    }\n",
       "\n",
       "    .dataframe thead tr th {\n",
       "        text-align: left;\n",
       "    }\n",
       "\n",
       "    .dataframe thead tr:last-of-type th {\n",
       "        text-align: right;\n",
       "    }\n",
       "</style>\n",
       "<table border=\"1\" class=\"dataframe\">\n",
       "  <thead>\n",
       "    <tr>\n",
       "      <th></th>\n",
       "      <th colspan=\"3\" halign=\"left\">인구</th>\n",
       "    </tr>\n",
       "    <tr>\n",
       "      <th>연도</th>\n",
       "      <th>2005</th>\n",
       "      <th>2010</th>\n",
       "      <th>2015</th>\n",
       "    </tr>\n",
       "    <tr>\n",
       "      <th>도시</th>\n",
       "      <th></th>\n",
       "      <th></th>\n",
       "      <th></th>\n",
       "    </tr>\n",
       "  </thead>\n",
       "  <tbody>\n",
       "    <tr>\n",
       "      <th>부산</th>\n",
       "      <td>3512547.0</td>\n",
       "      <td>3393191.0</td>\n",
       "      <td>3448737.0</td>\n",
       "    </tr>\n",
       "    <tr>\n",
       "      <th>서울</th>\n",
       "      <td>9762546.0</td>\n",
       "      <td>9631482.0</td>\n",
       "      <td>9904312.0</td>\n",
       "    </tr>\n",
       "    <tr>\n",
       "      <th>인천</th>\n",
       "      <td>NaN</td>\n",
       "      <td>263203.0</td>\n",
       "      <td>2890451.0</td>\n",
       "    </tr>\n",
       "  </tbody>\n",
       "</table>\n",
       "</div>"
      ],
      "text/plain": [
       "           인구                      \n",
       "연도       2005       2010       2015\n",
       "도시                                 \n",
       "부산  3512547.0  3393191.0  3448737.0\n",
       "서울  9762546.0  9631482.0  9904312.0\n",
       "인천        NaN   263203.0  2890451.0"
      ]
     },
     "execution_count": 6,
     "metadata": {},
     "output_type": "execute_result"
    }
   ],
   "source": [
    "df1.set_index(['도시','연도'])[['인구']].unstack()"
   ]
  },
  {
   "cell_type": "code",
   "execution_count": 7,
   "id": "813cc590",
   "metadata": {
    "ExecuteTime": {
     "end_time": "2023-09-27T00:09:59.236972Z",
     "start_time": "2023-09-27T00:09:59.224689Z"
    }
   },
   "outputs": [
    {
     "data": {
      "text/html": [
       "<div>\n",
       "<style scoped>\n",
       "    .dataframe tbody tr th:only-of-type {\n",
       "        vertical-align: middle;\n",
       "    }\n",
       "\n",
       "    .dataframe tbody tr th {\n",
       "        vertical-align: top;\n",
       "    }\n",
       "\n",
       "    .dataframe thead th {\n",
       "        text-align: right;\n",
       "    }\n",
       "</style>\n",
       "<table border=\"1\" class=\"dataframe\">\n",
       "  <thead>\n",
       "    <tr style=\"text-align: right;\">\n",
       "      <th></th>\n",
       "      <th>연도</th>\n",
       "      <th>2005</th>\n",
       "      <th>2010</th>\n",
       "      <th>2015</th>\n",
       "    </tr>\n",
       "    <tr>\n",
       "      <th>지역</th>\n",
       "      <th>도시</th>\n",
       "      <th></th>\n",
       "      <th></th>\n",
       "      <th></th>\n",
       "    </tr>\n",
       "  </thead>\n",
       "  <tbody>\n",
       "    <tr>\n",
       "      <th>경상권</th>\n",
       "      <th>부산</th>\n",
       "      <td>3512547.0</td>\n",
       "      <td>3393191.0</td>\n",
       "      <td>3448737.0</td>\n",
       "    </tr>\n",
       "    <tr>\n",
       "      <th rowspan=\"2\" valign=\"top\">수도권</th>\n",
       "      <th>서울</th>\n",
       "      <td>9762546.0</td>\n",
       "      <td>9631482.0</td>\n",
       "      <td>9904312.0</td>\n",
       "    </tr>\n",
       "    <tr>\n",
       "      <th>인천</th>\n",
       "      <td>NaN</td>\n",
       "      <td>263203.0</td>\n",
       "      <td>2890451.0</td>\n",
       "    </tr>\n",
       "  </tbody>\n",
       "</table>\n",
       "</div>"
      ],
      "text/plain": [
       "연도           2005       2010       2015\n",
       "지역  도시                                 \n",
       "경상권 부산  3512547.0  3393191.0  3448737.0\n",
       "수도권 서울  9762546.0  9631482.0  9904312.0\n",
       "    인천        NaN   263203.0  2890451.0"
      ]
     },
     "execution_count": 7,
     "metadata": {},
     "output_type": "execute_result"
    }
   ],
   "source": [
    "df1.pivot(['지역','도시'],'연도','인구')"
   ]
  },
  {
   "cell_type": "markdown",
   "id": "913e972a",
   "metadata": {},
   "source": [
    "# 시계열 데이터 다루기\n",
    "1. DatetimeIndex 객체\n",
    "  - pd.to_datetime() : datetime 자료형으로 변환하는 메서드\n",
    "  - pd.date_range() : 날짜를 수열로 생성하는 메서드\n",
    "  "
   ]
  },
  {
   "cell_type": "code",
   "execution_count": 10,
   "id": "e51c7714",
   "metadata": {
    "ExecuteTime": {
     "end_time": "2023-09-27T00:16:46.056591Z",
     "start_time": "2023-09-27T00:16:46.051474Z"
    }
   },
   "outputs": [],
   "source": [
    "date_str = ['2023.09.27','2023.10.10', '2023.10.30', '2023.12.25']\n",
    "idx = pd.to_datetime(date_str)"
   ]
  },
  {
   "cell_type": "code",
   "execution_count": 11,
   "id": "035c0085",
   "metadata": {
    "ExecuteTime": {
     "end_time": "2023-09-27T00:16:47.462873Z",
     "start_time": "2023-09-27T00:16:47.454620Z"
    }
   },
   "outputs": [
    {
     "data": {
      "text/plain": [
       "DatetimeIndex(['2023-09-27', '2023-10-10', '2023-10-30', '2023-12-25'], dtype='datetime64[ns]', freq=None)"
      ]
     },
     "execution_count": 11,
     "metadata": {},
     "output_type": "execute_result"
    }
   ],
   "source": [
    "idx"
   ]
  },
  {
   "cell_type": "markdown",
   "id": "e69202ed",
   "metadata": {},
   "source": [
    "**pd.date_range() 모든날짜/시간을 일일이 입력할 필요없이 시작일과 종료일 또는 시작일과 기간을 입력하면 범위내에 인덱스를 자동으로 생성해주는 메서드**"
   ]
  },
  {
   "cell_type": "code",
   "execution_count": 12,
   "id": "91126041",
   "metadata": {
    "ExecuteTime": {
     "end_time": "2023-09-27T00:21:00.395168Z",
     "start_time": "2023-09-27T00:21:00.379370Z"
    }
   },
   "outputs": [
    {
     "data": {
      "text/plain": [
       "DatetimeIndex(['2023-09-27', '2023-09-28', '2023-09-29', '2023-09-30',\n",
       "               '2023-10-01', '2023-10-02', '2023-10-03', '2023-10-04',\n",
       "               '2023-10-05', '2023-10-06', '2023-10-07', '2023-10-08',\n",
       "               '2023-10-09', '2023-10-10', '2023-10-11', '2023-10-12',\n",
       "               '2023-10-13', '2023-10-14', '2023-10-15', '2023-10-16',\n",
       "               '2023-10-17', '2023-10-18', '2023-10-19', '2023-10-20',\n",
       "               '2023-10-21', '2023-10-22', '2023-10-23', '2023-10-24',\n",
       "               '2023-10-25', '2023-10-26', '2023-10-27'],\n",
       "              dtype='datetime64[ns]', freq='D')"
      ]
     },
     "execution_count": 12,
     "metadata": {},
     "output_type": "execute_result"
    }
   ],
   "source": [
    "pd.date_range('2023-09-27', '2023-10-27')"
   ]
  },
  {
   "cell_type": "code",
   "execution_count": 13,
   "id": "07c7896f",
   "metadata": {
    "ExecuteTime": {
     "end_time": "2023-09-27T00:22:13.156027Z",
     "start_time": "2023-09-27T00:22:13.140256Z"
    }
   },
   "outputs": [
    {
     "data": {
      "text/plain": [
       "DatetimeIndex(['2023-09-27', '2023-09-28', '2023-09-29', '2023-09-30',\n",
       "               '2023-10-01', '2023-10-02', '2023-10-03', '2023-10-04',\n",
       "               '2023-10-05', '2023-10-06', '2023-10-07', '2023-10-08',\n",
       "               '2023-10-09', '2023-10-10', '2023-10-11', '2023-10-12',\n",
       "               '2023-10-13', '2023-10-14', '2023-10-15', '2023-10-16',\n",
       "               '2023-10-17', '2023-10-18', '2023-10-19', '2023-10-20',\n",
       "               '2023-10-21', '2023-10-22', '2023-10-23', '2023-10-24',\n",
       "               '2023-10-25', '2023-10-26'],\n",
       "              dtype='datetime64[ns]', freq='D')"
      ]
     },
     "execution_count": 13,
     "metadata": {},
     "output_type": "execute_result"
    }
   ],
   "source": [
    "pd.date_range('2023-09-27', periods=30)"
   ]
  },
  {
   "cell_type": "markdown",
   "id": "f9f9a51a",
   "metadata": {},
   "source": [
    "**freq**\n",
    "- D(day) : 일\n",
    "- s(second) : 초\n",
    "- T : 분\n",
    "- H : 시간\n",
    "- B : 주말이 아닌 평일\n",
    "- W : weekday, 주(일요일)\n",
    "- W-MON : 주(월요일)\n",
    "- M : 매달의 마지막 날\n",
    "- https://pandas.pydata.org/pandas-docs/stable/user_guide/timeseries.html#dateoffset-objects"
   ]
  },
  {
   "cell_type": "code",
   "execution_count": 17,
   "id": "ea15a3a3",
   "metadata": {
    "ExecuteTime": {
     "end_time": "2023-09-27T00:28:43.849493Z",
     "start_time": "2023-09-27T00:28:43.842157Z"
    }
   },
   "outputs": [
    {
     "data": {
      "text/plain": [
       "DatetimeIndex(['2023-09-01', '2023-09-04', '2023-09-05', '2023-09-06',\n",
       "               '2023-09-07', '2023-09-08', '2023-09-11', '2023-09-12',\n",
       "               '2023-09-13', '2023-09-14', '2023-09-15', '2023-09-18',\n",
       "               '2023-09-19', '2023-09-20', '2023-09-21', '2023-09-22',\n",
       "               '2023-09-25', '2023-09-26', '2023-09-27', '2023-09-28',\n",
       "               '2023-09-29'],\n",
       "              dtype='datetime64[ns]', freq='B')"
      ]
     },
     "execution_count": 17,
     "metadata": {},
     "output_type": "execute_result"
    }
   ],
   "source": [
    "pd.date_range('2023-09-01', '2023-09-30', freq ='B')"
   ]
  },
  {
   "cell_type": "code",
   "execution_count": 19,
   "id": "10f79bbe",
   "metadata": {
    "ExecuteTime": {
     "end_time": "2023-09-27T00:29:11.934881Z",
     "start_time": "2023-09-27T00:29:11.923639Z"
    }
   },
   "outputs": [
    {
     "data": {
      "text/plain": [
       "DatetimeIndex(['2023-01-02', '2023-01-09', '2023-01-16', '2023-01-23',\n",
       "               '2023-01-30', '2023-02-06', '2023-02-13', '2023-02-20',\n",
       "               '2023-02-27', '2023-03-06', '2023-03-13', '2023-03-20',\n",
       "               '2023-03-27', '2023-04-03', '2023-04-10', '2023-04-17',\n",
       "               '2023-04-24', '2023-05-01', '2023-05-08', '2023-05-15',\n",
       "               '2023-05-22', '2023-05-29', '2023-06-05', '2023-06-12',\n",
       "               '2023-06-19', '2023-06-26', '2023-07-03', '2023-07-10',\n",
       "               '2023-07-17', '2023-07-24', '2023-07-31', '2023-08-07',\n",
       "               '2023-08-14', '2023-08-21', '2023-08-28', '2023-09-04',\n",
       "               '2023-09-11', '2023-09-18', '2023-09-25', '2023-10-02',\n",
       "               '2023-10-09', '2023-10-16', '2023-10-23', '2023-10-30',\n",
       "               '2023-11-06', '2023-11-13', '2023-11-20', '2023-11-27',\n",
       "               '2023-12-04', '2023-12-11', '2023-12-18', '2023-12-25'],\n",
       "              dtype='datetime64[ns]', freq='W-MON')"
      ]
     },
     "execution_count": 19,
     "metadata": {},
     "output_type": "execute_result"
    }
   ],
   "source": [
    "pd.date_range('2023-01-01','2023-12-31', freq='W-MON')"
   ]
  },
  {
   "cell_type": "markdown",
   "id": "dd7f36ca",
   "metadata": {},
   "source": [
    "**shift 연산**\n",
    "- 시계열 데이터를 이용하여 연산을 수행하는 것으로 인덱스는 그대로 두고 데이터만 이동하는 연산자"
   ]
  },
  {
   "cell_type": "code",
   "execution_count": 20,
   "id": "60da15e4",
   "metadata": {
    "ExecuteTime": {
     "end_time": "2023-09-27T00:30:59.263162Z",
     "start_time": "2023-09-27T00:30:59.241491Z"
    }
   },
   "outputs": [],
   "source": [
    "ts = pd.Series(np.random.randn(4), index = pd.date_range('2023-01-01',periods=4, freq ='M'))"
   ]
  },
  {
   "cell_type": "code",
   "execution_count": 21,
   "id": "ee55dd12",
   "metadata": {
    "ExecuteTime": {
     "end_time": "2023-09-27T00:31:01.368148Z",
     "start_time": "2023-09-27T00:31:01.350693Z"
    }
   },
   "outputs": [
    {
     "data": {
      "text/plain": [
       "2023-01-31   -0.187860\n",
       "2023-02-28    1.049696\n",
       "2023-03-31    1.064071\n",
       "2023-04-30   -1.246769\n",
       "Freq: M, dtype: float64"
      ]
     },
     "execution_count": 21,
     "metadata": {},
     "output_type": "execute_result"
    }
   ],
   "source": [
    "ts"
   ]
  },
  {
   "cell_type": "code",
   "execution_count": 22,
   "id": "a131865c",
   "metadata": {
    "ExecuteTime": {
     "end_time": "2023-09-27T00:31:46.749004Z",
     "start_time": "2023-09-27T00:31:46.724373Z"
    }
   },
   "outputs": [
    {
     "data": {
      "text/plain": [
       "2023-01-31         NaN\n",
       "2023-02-28   -0.187860\n",
       "2023-03-31    1.049696\n",
       "2023-04-30    1.064071\n",
       "Freq: M, dtype: float64"
      ]
     },
     "execution_count": 22,
     "metadata": {},
     "output_type": "execute_result"
    }
   ],
   "source": [
    "ts.shift(1)"
   ]
  },
  {
   "cell_type": "code",
   "execution_count": 23,
   "id": "b4688a20",
   "metadata": {
    "ExecuteTime": {
     "end_time": "2023-09-27T00:32:08.023509Z",
     "start_time": "2023-09-27T00:32:08.014432Z"
    }
   },
   "outputs": [
    {
     "data": {
      "text/plain": [
       "2023-01-31    1.049696\n",
       "2023-02-28    1.064071\n",
       "2023-03-31   -1.246769\n",
       "2023-04-30         NaN\n",
       "Freq: M, dtype: float64"
      ]
     },
     "execution_count": 23,
     "metadata": {},
     "output_type": "execute_result"
    }
   ],
   "source": [
    "ts.shift(-1)"
   ]
  },
  {
   "cell_type": "code",
   "execution_count": 24,
   "id": "cfb9334f",
   "metadata": {
    "ExecuteTime": {
     "end_time": "2023-09-27T00:32:43.145130Z",
     "start_time": "2023-09-27T00:32:43.124905Z"
    }
   },
   "outputs": [
    {
     "data": {
      "text/plain": [
       "2023-02-28   -0.187860\n",
       "2023-03-31    1.049696\n",
       "2023-04-30    1.064071\n",
       "2023-05-31   -1.246769\n",
       "Freq: M, dtype: float64"
      ]
     },
     "execution_count": 24,
     "metadata": {},
     "output_type": "execute_result"
    }
   ],
   "source": [
    "ts.shift(1, freq='M')"
   ]
  },
  {
   "cell_type": "markdown",
   "id": "c74612be",
   "metadata": {},
   "source": [
    "## dt 접근자\n",
    "- datetime 자료형 시리즈에 사용되는 접근자\n",
    "- year, month, day, weekday 속성에 이용된다."
   ]
  },
  {
   "cell_type": "code",
   "execution_count": 25,
   "id": "6ebf817a",
   "metadata": {
    "ExecuteTime": {
     "end_time": "2023-09-27T00:36:04.902184Z",
     "start_time": "2023-09-27T00:36:04.883432Z"
    }
   },
   "outputs": [],
   "source": [
    "s = pd.Series(pd.date_range('2020-12-25', periods=100, freq = 'D'))"
   ]
  },
  {
   "cell_type": "code",
   "execution_count": 27,
   "id": "1fe33608",
   "metadata": {
    "ExecuteTime": {
     "end_time": "2023-09-27T00:36:51.952393Z",
     "start_time": "2023-09-27T00:36:51.940129Z"
    }
   },
   "outputs": [
    {
     "data": {
      "text/plain": [
       "0    2020-12-25\n",
       "1    2020-12-26\n",
       "2    2020-12-27\n",
       "3    2020-12-28\n",
       "4    2020-12-29\n",
       "        ...    \n",
       "95   2021-03-30\n",
       "96   2021-03-31\n",
       "97   2021-04-01\n",
       "98   2021-04-02\n",
       "99   2021-04-03\n",
       "Length: 100, dtype: datetime64[ns]"
      ]
     },
     "execution_count": 27,
     "metadata": {},
     "output_type": "execute_result"
    }
   ],
   "source": [
    "s"
   ]
  },
  {
   "cell_type": "code",
   "execution_count": 28,
   "id": "d1f750eb",
   "metadata": {
    "ExecuteTime": {
     "end_time": "2023-09-27T00:36:58.203156Z",
     "start_time": "2023-09-27T00:36:58.188115Z"
    }
   },
   "outputs": [
    {
     "data": {
      "text/plain": [
       "0     2020\n",
       "1     2020\n",
       "2     2020\n",
       "3     2020\n",
       "4     2020\n",
       "      ... \n",
       "95    2021\n",
       "96    2021\n",
       "97    2021\n",
       "98    2021\n",
       "99    2021\n",
       "Length: 100, dtype: int64"
      ]
     },
     "execution_count": 28,
     "metadata": {},
     "output_type": "execute_result"
    }
   ],
   "source": [
    "s.dt.year"
   ]
  },
  {
   "cell_type": "code",
   "execution_count": 29,
   "id": "8287f090",
   "metadata": {
    "ExecuteTime": {
     "end_time": "2023-09-27T00:37:10.469028Z",
     "start_time": "2023-09-27T00:37:10.453065Z"
    }
   },
   "outputs": [
    {
     "data": {
      "text/plain": [
       "0     4\n",
       "1     5\n",
       "2     6\n",
       "3     0\n",
       "4     1\n",
       "     ..\n",
       "95    1\n",
       "96    2\n",
       "97    3\n",
       "98    4\n",
       "99    5\n",
       "Length: 100, dtype: int64"
      ]
     },
     "execution_count": 29,
     "metadata": {},
     "output_type": "execute_result"
    }
   ],
   "source": [
    "s.dt.weekday"
   ]
  },
  {
   "cell_type": "markdown",
   "id": "b0ee6413",
   "metadata": {},
   "source": [
    "- strtime : 날짜 시간데이터를 문자열로 변환하는 메서드"
   ]
  },
  {
   "cell_type": "code",
   "execution_count": 30,
   "id": "394d238e",
   "metadata": {
    "ExecuteTime": {
     "end_time": "2023-09-27T00:39:29.269464Z",
     "start_time": "2023-09-27T00:39:29.257097Z"
    }
   },
   "outputs": [
    {
     "data": {
      "text/plain": [
       "0     2020년 12월 25일\n",
       "1     2020년 12월 26일\n",
       "2     2020년 12월 27일\n",
       "3     2020년 12월 28일\n",
       "4     2020년 12월 29일\n",
       "          ...      \n",
       "95    2021년 03월 30일\n",
       "96    2021년 03월 31일\n",
       "97    2021년 04월 01일\n",
       "98    2021년 04월 02일\n",
       "99    2021년 04월 03일\n",
       "Length: 100, dtype: object"
      ]
     },
     "execution_count": 30,
     "metadata": {},
     "output_type": "execute_result"
    }
   ],
   "source": [
    "s.dt.strftime('%Y년 %m월 %d일')"
   ]
  },
  {
   "cell_type": "code",
   "execution_count": null,
   "id": "b013a502",
   "metadata": {},
   "outputs": [],
   "source": []
  }
 ],
 "metadata": {
  "kernelspec": {
   "display_name": "Python 3 (ipykernel)",
   "language": "python",
   "name": "python3"
  },
  "language_info": {
   "codemirror_mode": {
    "name": "ipython",
    "version": 3
   },
   "file_extension": ".py",
   "mimetype": "text/x-python",
   "name": "python",
   "nbconvert_exporter": "python",
   "pygments_lexer": "ipython3",
   "version": "3.9.17"
  },
  "toc": {
   "base_numbering": 1,
   "nav_menu": {},
   "number_sections": true,
   "sideBar": true,
   "skip_h1_title": false,
   "title_cell": "Table of Contents",
   "title_sidebar": "Contents",
   "toc_cell": false,
   "toc_position": {
    "height": "783px",
    "left": "21px",
    "top": "175px",
    "width": "384px"
   },
   "toc_section_display": true,
   "toc_window_display": true
  }
 },
 "nbformat": 4,
 "nbformat_minor": 5
}
