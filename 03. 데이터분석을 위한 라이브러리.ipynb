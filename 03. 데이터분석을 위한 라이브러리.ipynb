{
 "cells": [
  {
   "cell_type": "markdown",
   "id": "da7e35f5",
   "metadata": {},
   "source": [
    "# Python 데이터분석 라이브러리\n",
    "1. Numpy : 파이썬의 리스트를 확장한 개념, http://www.numpy.org\n",
    "  - Python 기반의 데이터분석에 필수 라이브러리(모듈, 기능)\n",
    "  - 벡터 및 행렬 연산과 관련된 편리한 기능을 제공\n",
    "2. Pandas : 표(table)을 활용하여 자료를 다룰 때 효과적인 라이브러리 https://pandas.pydata.org\n",
    "  - 데이터의 전처리, 핸들링에 트고하된 라이브러리들의 모임\n",
    "  - Series, DataFrame 등의 자료구조를 활용하여 데이터분석에 우수한 성능을 발휘\n",
    "  - 대량의 데이터를 빠른 속도로 처리할 수 있다.\n",
    "3. Matplotlib.pyplot : 시각화, https://matplotlib.org\n",
    "  - 데이터 분석 결과에 대한 시각화를 빠르고 직관적으로 수행\n",
    "  - 주로 주피터 노트북 환경에서 환경(구글 크롬)에서 사용할 경우 시각화 결과를 새창으로 표시하지 않고 현재 창에 결과를 띄울때\n",
    "  - %matplotlib inline : 주로 사용\n",
    "  - %matplotlib notebook\n"
   ]
  },
  {
   "cell_type": "code",
   "execution_count": 1,
   "id": "20e33774",
   "metadata": {
    "ExecuteTime": {
     "end_time": "2023-09-25T00:40:43.959030Z",
     "start_time": "2023-09-25T00:40:43.947562Z"
    }
   },
   "outputs": [
    {
     "name": "stdout",
     "output_type": "stream",
     "text": [
      "a\t b\t c\t \n"
     ]
    }
   ],
   "source": [
    "# 매직명령어(Magic Command) : %로 시작하는 명령어\n",
    "a = 10\n",
    "b = 100.5\n",
    "c = \"hello\"\n",
    "%who"
   ]
  },
  {
   "cell_type": "code",
   "execution_count": 2,
   "id": "aa2e17e1",
   "metadata": {
    "ExecuteTime": {
     "end_time": "2023-09-25T00:42:04.208782Z",
     "start_time": "2023-09-25T00:42:04.193899Z"
    }
   },
   "outputs": [],
   "source": [
    "#모든 매직명령어 목록\n",
    "%magic"
   ]
  },
  {
   "cell_type": "code",
   "execution_count": 30,
   "id": "912ede2a",
   "metadata": {
    "ExecuteTime": {
     "end_time": "2023-09-25T01:33:38.938179Z",
     "start_time": "2023-09-25T01:33:38.934314Z"
    }
   },
   "outputs": [],
   "source": [
    "# 필수 라이브러리 로딩\n",
    "import numpy as np\n",
    "import pandas as pd\n",
    "import matplotlib as mpl"
   ]
  },
  {
   "cell_type": "code",
   "execution_count": 5,
   "id": "75215795",
   "metadata": {
    "ExecuteTime": {
     "end_time": "2023-09-25T00:46:38.809343Z",
     "start_time": "2023-09-25T00:46:37.583834Z"
    }
   },
   "outputs": [],
   "source": [
    "%matplotlib inline"
   ]
  },
  {
   "cell_type": "code",
   "execution_count": 7,
   "id": "d02456f6",
   "metadata": {
    "ExecuteTime": {
     "end_time": "2023-09-25T00:47:06.935488Z",
     "start_time": "2023-09-25T00:47:06.924742Z"
    }
   },
   "outputs": [
    {
     "name": "stdout",
     "output_type": "stream",
     "text": [
      "<class 'numpy.ndarray'>\n"
     ]
    }
   ],
   "source": [
    "data = np.random.rand(50)\n",
    "print(type(data))"
   ]
  },
  {
   "cell_type": "code",
   "execution_count": 12,
   "id": "db6fcadd",
   "metadata": {
    "ExecuteTime": {
     "end_time": "2023-09-25T00:49:41.633377Z",
     "start_time": "2023-09-25T00:49:41.623212Z"
    }
   },
   "outputs": [
    {
     "data": {
      "text/plain": [
       "array([0, 0, 0, 0, 0, 0, 0, 0, 0, 0])"
      ]
     },
     "execution_count": 12,
     "metadata": {},
     "output_type": "execute_result"
    }
   ],
   "source": [
    "#10개의 zero값을 원소로 갖는 넘파이 배열을 생성\n",
    "data = np.array([0,0,0,0,0,0,0,0,0,0,])\n",
    "data"
   ]
  },
  {
   "cell_type": "code",
   "execution_count": 15,
   "id": "2f518180",
   "metadata": {
    "ExecuteTime": {
     "end_time": "2023-09-25T00:51:11.276240Z",
     "start_time": "2023-09-25T00:51:11.270584Z"
    }
   },
   "outputs": [
    {
     "data": {
      "text/plain": [
       "array([0, 0, 0, 0, 0, 0, 0, 0, 0, 0], dtype=int32)"
      ]
     },
     "execution_count": 15,
     "metadata": {},
     "output_type": "execute_result"
    }
   ],
   "source": [
    "data = np.zeros(10, dtype='i')\n",
    "data"
   ]
  },
  {
   "cell_type": "code",
   "execution_count": 16,
   "id": "fafbc9c7",
   "metadata": {
    "ExecuteTime": {
     "end_time": "2023-09-25T00:53:48.948828Z",
     "start_time": "2023-09-25T00:53:47.972749Z"
    }
   },
   "outputs": [],
   "source": [
    "!jt -t chesterish -f bitstream -fs 12 -tf roboto -tfs 13 -nf opensans -nfs 12 -ofs 12 -dfs 12 -cellw 95% -lineh 150 -T -N\n"
   ]
  },
  {
   "cell_type": "code",
   "execution_count": 6,
   "id": "b5e629b6",
   "metadata": {
    "ExecuteTime": {
     "end_time": "2023-09-25T01:00:19.904630Z",
     "start_time": "2023-09-25T01:00:19.872975Z"
    }
   },
   "outputs": [
    {
     "name": "stdout",
     "output_type": "stream",
     "text": [
      "[1, 2, 3, 4, 5, 6]\n"
     ]
    },
    {
     "ename": "TypeError",
     "evalue": "can't multiply sequence by non-int of type 'list'",
     "output_type": "error",
     "traceback": [
      "\u001b[1;31m---------------------------------------------------------------------------\u001b[0m",
      "\u001b[1;31mTypeError\u001b[0m                                 Traceback (most recent call last)",
      "Cell \u001b[1;32mIn[6], line 4\u001b[0m\n\u001b[0;32m      2\u001b[0m b\u001b[38;5;241m=\u001b[39m[\u001b[38;5;241m4\u001b[39m,\u001b[38;5;241m5\u001b[39m,\u001b[38;5;241m6\u001b[39m]\n\u001b[0;32m      3\u001b[0m \u001b[38;5;28mprint\u001b[39m(a\u001b[38;5;241m+\u001b[39mb)\n\u001b[1;32m----> 4\u001b[0m \u001b[38;5;28mprint\u001b[39m(\u001b[43ma\u001b[49m\u001b[38;5;241;43m*\u001b[39;49m\u001b[43mb\u001b[49m)\n",
      "\u001b[1;31mTypeError\u001b[0m: can't multiply sequence by non-int of type 'list'"
     ]
    }
   ],
   "source": [
    "a=[1,2,3]\n",
    "b=[4,5,6]\n",
    "print(a+b)\n",
    "print(a*b) #error"
   ]
  },
  {
   "cell_type": "code",
   "execution_count": 4,
   "id": "5051a283",
   "metadata": {
    "ExecuteTime": {
     "end_time": "2023-09-25T00:56:04.177501Z",
     "start_time": "2023-09-25T00:56:04.170612Z"
    }
   },
   "outputs": [
    {
     "name": "stdout",
     "output_type": "stream",
     "text": [
      "[0, 0, 0]\n",
      "[0, 0, 0]\n"
     ]
    }
   ],
   "source": [
    "c = [0] *3\n",
    "d = [0] *3\n",
    "print(c)\n",
    "print(d)"
   ]
  },
  {
   "cell_type": "code",
   "execution_count": 7,
   "id": "397028fd",
   "metadata": {
    "ExecuteTime": {
     "end_time": "2023-09-25T01:00:22.821516Z",
     "start_time": "2023-09-25T01:00:22.808507Z"
    }
   },
   "outputs": [
    {
     "name": "stdout",
     "output_type": "stream",
     "text": [
      "[5, 7, 9]\n",
      "[4, 10, 18]\n"
     ]
    }
   ],
   "source": [
    "# 리스트 a,b의 각 요소의 더한값과 곱한값을 각각 c,d변수에 대입하는 작업\n",
    "for i in range(3):\n",
    "    c[i] = a[i] + b[i]\n",
    "    d[i] = a[i] * b[i]\n",
    "    \n",
    "print(c)\n",
    "print(d)"
   ]
  },
  {
   "cell_type": "code",
   "execution_count": 11,
   "id": "1028ef7b",
   "metadata": {
    "ExecuteTime": {
     "end_time": "2023-09-25T01:01:35.916408Z",
     "start_time": "2023-09-25T01:01:35.905200Z"
    }
   },
   "outputs": [],
   "source": [
    "# 넘파이 배열 생성함수 np.array()\n",
    "arr1 = np.array(a)\n",
    "arr2 = np.array(b)"
   ]
  },
  {
   "cell_type": "code",
   "execution_count": 12,
   "id": "745e7acb",
   "metadata": {
    "ExecuteTime": {
     "end_time": "2023-09-25T01:01:59.705824Z",
     "start_time": "2023-09-25T01:01:59.692372Z"
    }
   },
   "outputs": [
    {
     "name": "stdout",
     "output_type": "stream",
     "text": [
      "[1 2 3]\n",
      "[4 5 6]\n"
     ]
    }
   ],
   "source": [
    "print(arr1)\n",
    "print(arr2)"
   ]
  },
  {
   "cell_type": "code",
   "execution_count": 13,
   "id": "49bc4d2c",
   "metadata": {
    "ExecuteTime": {
     "end_time": "2023-09-25T01:02:08.593074Z",
     "start_time": "2023-09-25T01:02:08.575683Z"
    }
   },
   "outputs": [
    {
     "name": "stdout",
     "output_type": "stream",
     "text": [
      "[5 7 9]\n"
     ]
    }
   ],
   "source": [
    "print(arr1+arr2)"
   ]
  },
  {
   "cell_type": "code",
   "execution_count": 14,
   "id": "3cbb4e45",
   "metadata": {
    "ExecuteTime": {
     "end_time": "2023-09-25T01:02:14.709305Z",
     "start_time": "2023-09-25T01:02:14.694223Z"
    }
   },
   "outputs": [
    {
     "name": "stdout",
     "output_type": "stream",
     "text": [
      "[ 4 10 18]\n"
     ]
    }
   ],
   "source": [
    "print(arr1*arr2)"
   ]
  },
  {
   "cell_type": "code",
   "execution_count": 18,
   "id": "ed666c7e",
   "metadata": {
    "ExecuteTime": {
     "end_time": "2023-09-25T01:19:04.749799Z",
     "start_time": "2023-09-25T01:19:04.736449Z"
    }
   },
   "outputs": [
    {
     "name": "stdout",
     "output_type": "stream",
     "text": [
      "[0. 0. 0.]\n",
      "[ 0.  0.  0.  0.  0. 10. 10. 10.  0.  0.]\n"
     ]
    }
   ],
   "source": [
    "#zero 10개를 저장하는 넘파이 배열\n",
    "a = np.zeros(10)\n",
    "#인덱스 5~7까지 출력\n",
    "print(a[5:8])\n",
    "# 인덱스 5~7까지 값을 10으로 변경\n",
    "a[5:8] = 10\n",
    "print(a)"
   ]
  },
  {
   "cell_type": "code",
   "execution_count": 22,
   "id": "155a881d",
   "metadata": {
    "ExecuteTime": {
     "end_time": "2023-09-25T01:22:24.733020Z",
     "start_time": "2023-09-25T01:22:24.724925Z"
    }
   },
   "outputs": [
    {
     "name": "stdout",
     "output_type": "stream",
     "text": [
      "[0, 0, 0, 0, 0, 0, 0, 0, 0, 0]\n",
      "[0, 0, 0]\n",
      "[0, 0, 0, 0, 0, 10, 10, 10, 0, 0]\n"
     ]
    }
   ],
   "source": [
    "a = [0] *10\n",
    "print(a)\n",
    "print(a[5:8])\n",
    "#a[5:8] = 10 #error\n",
    "for i in range(5,8):\n",
    "    a[i] = 10\n",
    "print(a)"
   ]
  },
  {
   "cell_type": "code",
   "execution_count": 24,
   "id": "b9a7e88d",
   "metadata": {
    "ExecuteTime": {
     "end_time": "2023-09-25T01:23:25.434192Z",
     "start_time": "2023-09-25T01:23:25.426276Z"
    }
   },
   "outputs": [
    {
     "name": "stdout",
     "output_type": "stream",
     "text": [
      "[1 2 3]\n",
      "[10  2  3]\n"
     ]
    }
   ],
   "source": [
    "a = np.array([1,2,3])\n",
    "print(a)\n",
    "a[0] = 10\n",
    "print(a)"
   ]
  },
  {
   "cell_type": "code",
   "execution_count": 25,
   "id": "a008a7c8",
   "metadata": {
    "ExecuteTime": {
     "end_time": "2023-09-25T01:25:23.924571Z",
     "start_time": "2023-09-25T01:25:23.916472Z"
    }
   },
   "outputs": [
    {
     "name": "stdout",
     "output_type": "stream",
     "text": [
      "[[1 2 3]\n",
      " [4 5 6]]\n",
      "[[10  2  3]\n",
      " [ 4  5  6]]\n"
     ]
    }
   ],
   "source": [
    "a = np.array([[1,2,3],[4,5,6]])\n",
    "print(a)\n",
    "a[0][0] = 10\n",
    "print(a)"
   ]
  },
  {
   "cell_type": "code",
   "execution_count": 27,
   "id": "9df829a8",
   "metadata": {
    "ExecuteTime": {
     "end_time": "2023-09-25T01:26:28.397699Z",
     "start_time": "2023-09-25T01:26:28.390702Z"
    }
   },
   "outputs": [
    {
     "name": "stdout",
     "output_type": "stream",
     "text": [
      "[[[ 1  2  3]\n",
      "  [ 4  5  6]]\n",
      "\n",
      " [[ 7  8  9]\n",
      "  [10 11 12]]]\n"
     ]
    }
   ],
   "source": [
    "a= np.array([[[1,2,3],[4,5,6]],[[7,8,9],[10,11,12]]])\n",
    "print(a)"
   ]
  },
  {
   "cell_type": "code",
   "execution_count": 28,
   "id": "4baa659f",
   "metadata": {
    "ExecuteTime": {
     "end_time": "2023-09-25T01:30:07.042153Z",
     "start_time": "2023-09-25T01:30:07.025293Z"
    }
   },
   "outputs": [
    {
     "name": "stdout",
     "output_type": "stream",
     "text": [
      "0     0.377032\n",
      "1     0.641743\n",
      "2     0.100939\n",
      "3     0.330878\n",
      "4     0.996401\n",
      "5     0.652671\n",
      "6     0.286251\n",
      "7     0.029867\n",
      "8     0.110488\n",
      "9     0.772242\n",
      "10    0.051081\n",
      "11    0.773379\n",
      "12    0.616389\n",
      "13    0.795353\n",
      "14    0.635554\n",
      "15    0.297906\n",
      "16    0.108736\n",
      "17    0.808333\n",
      "18    0.375524\n",
      "19    0.887070\n",
      "20    0.653361\n",
      "21    0.084851\n",
      "22    0.264462\n",
      "23    0.538314\n",
      "24    0.483512\n",
      "25    0.186683\n",
      "26    0.977157\n",
      "27    0.722486\n",
      "28    0.066025\n",
      "29    0.317455\n",
      "30    0.549634\n",
      "31    0.434776\n",
      "32    0.252815\n",
      "33    0.874165\n",
      "34    0.801446\n",
      "35    0.657559\n",
      "36    0.312469\n",
      "37    0.423800\n",
      "38    0.414588\n",
      "39    0.457012\n",
      "40    0.448636\n",
      "41    0.173157\n",
      "42    0.139392\n",
      "43    0.890584\n",
      "44    0.210967\n",
      "45    0.438156\n",
      "46    0.864252\n",
      "47    0.323723\n",
      "48    0.352738\n",
      "49    0.855491\n",
      "dtype: float64\n"
     ]
    }
   ],
   "source": [
    "# 판다스 시리즈형(필드가 1개인 자료) 데이터로 변환\n",
    "# Series(넘파이배열)\n",
    "data = np.random.rand(50)\n",
    "seri = pd.Series(data)\n",
    "print(seri)"
   ]
  },
  {
   "cell_type": "code",
   "execution_count": 32,
   "id": "b75705b4",
   "metadata": {
    "ExecuteTime": {
     "end_time": "2023-09-25T01:35:19.776101Z",
     "start_time": "2023-09-25T01:35:19.716232Z"
    }
   },
   "outputs": [
    {
     "ename": "AttributeError",
     "evalue": "module 'matplotlib' has no attribute 'style'",
     "output_type": "error",
     "traceback": [
      "\u001b[1;31m---------------------------------------------------------------------------\u001b[0m",
      "\u001b[1;31mAttributeError\u001b[0m                            Traceback (most recent call last)",
      "Cell \u001b[1;32mIn[32], line 4\u001b[0m\n\u001b[0;32m      1\u001b[0m \u001b[38;5;66;03m#pandas 라이브러리는 내장된 시각화지원\u001b[39;00m\n\u001b[0;32m      2\u001b[0m \u001b[38;5;66;03m#plot(y축)\u001b[39;00m\n\u001b[0;32m      3\u001b[0m \u001b[38;5;66;03m#plot(x,y)\u001b[39;00m\n\u001b[1;32m----> 4\u001b[0m \u001b[43mmpl\u001b[49m\u001b[38;5;241;43m.\u001b[39;49m\u001b[43mstyle\u001b[49m\u001b[38;5;241m.\u001b[39muse(\u001b[38;5;124m'\u001b[39m\u001b[38;5;124mggplot\u001b[39m\u001b[38;5;124m'\u001b[39m)\n\u001b[0;32m      5\u001b[0m seri\u001b[38;5;241m.\u001b[39mplot()\n",
      "File \u001b[1;32m~\\anaconda3\\lib\\site-packages\\matplotlib\\_api\\__init__.py:226\u001b[0m, in \u001b[0;36mcaching_module_getattr.<locals>.__getattr__\u001b[1;34m(name)\u001b[0m\n\u001b[0;32m    224\u001b[0m \u001b[38;5;28;01mif\u001b[39;00m name \u001b[38;5;129;01min\u001b[39;00m props:\n\u001b[0;32m    225\u001b[0m     \u001b[38;5;28;01mreturn\u001b[39;00m props[name]\u001b[38;5;241m.\u001b[39m\u001b[38;5;21m__get__\u001b[39m(instance)\n\u001b[1;32m--> 226\u001b[0m \u001b[38;5;28;01mraise\u001b[39;00m \u001b[38;5;167;01mAttributeError\u001b[39;00m(\n\u001b[0;32m    227\u001b[0m     \u001b[38;5;124mf\u001b[39m\u001b[38;5;124m\"\u001b[39m\u001b[38;5;124mmodule \u001b[39m\u001b[38;5;132;01m{\u001b[39;00m\u001b[38;5;28mcls\u001b[39m\u001b[38;5;241m.\u001b[39m\u001b[38;5;18m__module__\u001b[39m\u001b[38;5;132;01m!r}\u001b[39;00m\u001b[38;5;124m has no attribute \u001b[39m\u001b[38;5;132;01m{\u001b[39;00mname\u001b[38;5;132;01m!r}\u001b[39;00m\u001b[38;5;124m\"\u001b[39m)\n",
      "\u001b[1;31mAttributeError\u001b[0m: module 'matplotlib' has no attribute 'style'"
     ]
    }
   ],
   "source": [
    "#pandas 라이브러리는 내장된 시각화지원\n",
    "#plot(y축)\n",
    "#plot(x,y)\n",
    "mpl.style.use('ggplot')\n",
    "seri.plot()"
   ]
  },
  {
   "cell_type": "code",
   "execution_count": 36,
   "id": "f2b5b032",
   "metadata": {
    "ExecuteTime": {
     "end_time": "2023-09-25T01:37:54.617596Z",
     "start_time": "2023-09-25T01:37:54.605036Z"
    }
   },
   "outputs": [
    {
     "name": "stdout",
     "output_type": "stream",
     "text": [
      "[[0.79625939 0.68400052 0.61114853]\n",
      " [0.85087867 0.93136061 0.71863955]\n",
      " [0.83072544 0.8585458  0.11197275]\n",
      " [0.21678457 0.86198774 0.8241915 ]\n",
      " [0.49228192 0.90392414 0.48466731]\n",
      " [0.93047031 0.65910501 0.70893189]\n",
      " [0.87597139 0.87063369 0.07147084]\n",
      " [0.54831349 0.06928189 0.98350271]\n",
      " [0.05829305 0.97414739 0.11298139]\n",
      " [0.5783703  0.20965973 0.05486013]]\n",
      "(10, 3)\n"
     ]
    }
   ],
   "source": [
    "#넘파이로 난수 생성, 10행 3열 2차원 행렬(배열)\n",
    "data_set = np.random.rand(10, 3)\n",
    "print(data_set)\n",
    "print(data_set.shape)"
   ]
  },
  {
   "cell_type": "code",
   "execution_count": 38,
   "id": "b168efb4",
   "metadata": {
    "ExecuteTime": {
     "end_time": "2023-09-25T01:43:18.403085Z",
     "start_time": "2023-09-25T01:43:17.949173Z"
    }
   },
   "outputs": [
    {
     "data": {
      "text/plain": [
       "<Axes: >"
      ]
     },
     "execution_count": 38,
     "metadata": {},
     "output_type": "execute_result"
    },
    {
     "data": {
      "image/png": "[encoded data removed]",
      "text/plain": [
       "<Figure size 640x480 with 1 Axes>"
      ]
     },
     "metadata": {},
     "output_type": "display_data"
    },
    {
     "data": {
      "image/png": "[encoded data removed]",
      "text/plain": [
       "<Figure size 640x480 with 1 Axes>"
      ]
     },
     "metadata": {},
     "output_type": "display_data"
    },
    {
     "data": {
      "image/png": "[encoded data removed]",
      "text/plain": [
       "<Figure size 640x480 with 1 Axes>"
      ]
     },
     "metadata": {},
     "output_type": "display_data"
    }
   ],
   "source": [
    "# DataFrame(data, index, columns)\n",
    "df = pd.DataFrame(data_set)\n",
    "#막대그래프\n",
    "df.plot(kind=\"bar\")\n",
    "#수평막대\n",
    "df.plot(kind=\"barh\")\n",
    "#누적영역그래프\n",
    "df.plot(kind='area', stacked=False)"
   ]
  },
  {
   "cell_type": "code",
   "execution_count": 41,
   "id": "3882adec",
   "metadata": {
    "ExecuteTime": {
     "end_time": "2023-09-25T01:47:06.049434Z",
     "start_time": "2023-09-25T01:47:05.946311Z"
    }
   },
   "outputs": [
    {
     "name": "stdout",
     "output_type": "stream",
     "text": [
      "[0.82504853 0.15276309 0.02042242 0.64267281 0.00698032]\n"
     ]
    },
    {
     "data": {
      "text/plain": [
       "<Axes: ylabel='series'>"
      ]
     },
     "execution_count": 41,
     "metadata": {},
     "output_type": "execute_result"
    },
    {
     "data": {
      "image/png": "[encoded data removed]",
      "text/plain": [
       "<Figure size 700x700 with 1 Axes>"
      ]
     },
     "metadata": {},
     "output_type": "display_data"
    }
   ],
   "source": [
    "data = np.random.rand(5)\n",
    "print(data)\n",
    "\n",
    "#Series(data, index, title)\n",
    "s = pd.Series(data, index=list('abcde'), name = 'series')\n",
    "#파이차트\n",
    "s.plot(kind = 'pie', autopct ='%.1f', fontsize=20, figsize=(7,7))"
   ]
  },
  {
   "cell_type": "code",
   "execution_count": null,
   "id": "cb5ec1a7",
   "metadata": {},
   "outputs": [],
   "source": []
  }
 ],
 "metadata": {
  "kernelspec": {
   "display_name": "Python 3 (ipykernel)",
   "language": "python",
   "name": "python3"
  },
  "language_info": {
   "codemirror_mode": {
    "name": "ipython",
    "version": 3
   },
   "file_extension": ".py",
   "mimetype": "text/x-python",
   "name": "python",
   "nbconvert_exporter": "python",
   "pygments_lexer": "ipython3",
   "version": "3.9.17"
  },
  "toc": {
   "base_numbering": 1,
   "nav_menu": {},
   "number_sections": true,
   "sideBar": true,
   "skip_h1_title": false,
   "title_cell": "Table of Contents",
   "title_sidebar": "Contents",
   "toc_cell": false,
   "toc_position": {},
   "toc_section_display": true,
   "toc_window_display": true
  }
 },
 "nbformat": 4,
 "nbformat_minor": 5
}
