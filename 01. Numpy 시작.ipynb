{
 "cells": [
  {
   "cell_type": "markdown",
   "id": "95e3a9d6",
   "metadata": {},
   "source": [
    "# Numpy\n",
    "- C언어로 구현된 파이썬 라이브러리\n",
    "- 고성능 수치계산을 위해 제작\n",
    "- Numerical Python \n",
    "- 벡터 및 행렬 연산에 매우 편리한 기능 제공\n",
    "- Pandas와 matplotlib과 더불어 데이터분석에 필수 라이브러리\n",
    "- 기본적으로 array 단위로 데이터 처리\n",
    "- 대표적인 자료형 : ndarray 객체"
   ]
  },
  {
   "cell_type": "markdown",
   "id": "1df307e7",
   "metadata": {},
   "source": [
    "## Numpy"
   ]
  },
  {
   "cell_type": "code",
   "execution_count": 3,
   "id": "5d8b55eb",
   "metadata": {
    "ExecuteTime": {
     "end_time": "2023-09-22T05:30:00.983884Z",
     "start_time": "2023-09-22T05:30:00.897829Z"
    }
   },
   "outputs": [],
   "source": [
    "# numpy 모듈 불러오기\n",
    "import numpy as np"
   ]
  },
  {
   "cell_type": "code",
   "execution_count": 2,
   "id": "ffde8321",
   "metadata": {
    "ExecuteTime": {
     "end_time": "2023-09-22T03:11:14.837861Z",
     "start_time": "2023-09-22T03:11:14.820411Z"
    }
   },
   "outputs": [
    {
     "data": {
      "text/plain": [
       "[1, 2, 3, 4, 5]"
      ]
     },
     "execution_count": 2,
     "metadata": {},
     "output_type": "execute_result"
    }
   ],
   "source": [
    "# Python의 List 이용\n",
    "a = [1, 2, 3, 4, 5]\n",
    "a"
   ]
  },
  {
   "cell_type": "code",
   "execution_count": 3,
   "id": "568c54f8",
   "metadata": {
    "ExecuteTime": {
     "end_time": "2023-09-22T03:11:28.690721Z",
     "start_time": "2023-09-22T03:11:28.678345Z"
    }
   },
   "outputs": [],
   "source": [
    "arr1 = np.array(a)"
   ]
  },
  {
   "cell_type": "code",
   "execution_count": 4,
   "id": "27746667",
   "metadata": {
    "ExecuteTime": {
     "end_time": "2023-09-22T03:11:32.075896Z",
     "start_time": "2023-09-22T03:11:32.065081Z"
    }
   },
   "outputs": [
    {
     "data": {
      "text/plain": [
       "array([1, 2, 3, 4, 5])"
      ]
     },
     "execution_count": 4,
     "metadata": {},
     "output_type": "execute_result"
    }
   ],
   "source": [
    "arr1"
   ]
  },
  {
   "cell_type": "code",
   "execution_count": 6,
   "id": "ff5efcad",
   "metadata": {
    "ExecuteTime": {
     "end_time": "2023-09-22T03:12:23.381170Z",
     "start_time": "2023-09-22T03:12:23.375311Z"
    }
   },
   "outputs": [
    {
     "data": {
      "text/plain": [
       "array([1, 2, 3, 4, 5])"
      ]
     },
     "execution_count": 6,
     "metadata": {},
     "output_type": "execute_result"
    }
   ],
   "source": [
    "arr2 = np.array([1, 2, 3, 4, 5])\n",
    "arr2"
   ]
  },
  {
   "cell_type": "code",
   "execution_count": 7,
   "id": "324d05cb",
   "metadata": {
    "ExecuteTime": {
     "end_time": "2023-09-22T03:12:44.711169Z",
     "start_time": "2023-09-22T03:12:44.692788Z"
    }
   },
   "outputs": [
    {
     "data": {
      "text/plain": [
       "(5,)"
      ]
     },
     "execution_count": 7,
     "metadata": {},
     "output_type": "execute_result"
    }
   ],
   "source": [
    "# array 형태(크기) 확인\n",
    "arr1.shape"
   ]
  },
  {
   "cell_type": "code",
   "execution_count": 8,
   "id": "06887203",
   "metadata": {
    "ExecuteTime": {
     "end_time": "2023-09-22T03:13:06.117243Z",
     "start_time": "2023-09-22T03:13:06.109246Z"
    }
   },
   "outputs": [
    {
     "data": {
      "text/plain": [
       "dtype('int32')"
      ]
     },
     "execution_count": 8,
     "metadata": {},
     "output_type": "execute_result"
    }
   ],
   "source": [
    "#array 자료형 확인\n",
    "arr1.dtype"
   ]
  },
  {
   "cell_type": "markdown",
   "id": "e26821a5",
   "metadata": {},
   "source": [
    "## 배열 생성 : Numpy가 제공하는 함수를 이용한 단순 배열 생성\n",
    "- zeros, ones\n",
    "- zeros_like, ones_like\n",
    "- empty\n",
    "- arange\n",
    "- linspace, logspace"
   ]
  },
  {
   "cell_type": "code",
   "execution_count": 9,
   "id": "d9074f3b",
   "metadata": {
    "ExecuteTime": {
     "end_time": "2023-09-22T03:18:03.735783Z",
     "start_time": "2023-09-22T03:18:03.730266Z"
    }
   },
   "outputs": [
    {
     "data": {
      "text/plain": [
       "array([0., 0., 0., 0., 0.])"
      ]
     },
     "execution_count": 9,
     "metadata": {},
     "output_type": "execute_result"
    }
   ],
   "source": [
    "# 0인 배열 생성 : zeros(배열크기)\n",
    "a = np.zeros(5)\n",
    "a"
   ]
  },
  {
   "cell_type": "code",
   "execution_count": 11,
   "id": "7548869d",
   "metadata": {
    "ExecuteTime": {
     "end_time": "2023-09-22T03:18:43.909463Z",
     "start_time": "2023-09-22T03:18:43.900340Z"
    }
   },
   "outputs": [
    {
     "data": {
      "text/plain": [
       "array([0, 0, 0, 0, 0], dtype=int32)"
      ]
     },
     "execution_count": 11,
     "metadata": {},
     "output_type": "execute_result"
    }
   ],
   "source": [
    "b = np.zeros(5, dtype = \"i\")\n",
    "b"
   ]
  },
  {
   "cell_type": "markdown",
   "id": "35930ea5",
   "metadata": {},
   "source": [
    "- numpy 자료형, dtype의 접두사\n",
    "- \"i\": 정수형\n",
    "- \"u\": unit(unsign int), 부호가 없는 정수\n",
    "- \"f\": float\n",
    "- \"b\": 논리형(bool)\n",
    "- \"c\": 복소수(complex)\n",
    "- \"s\": 문자열(string)"
   ]
  },
  {
   "cell_type": "code",
   "execution_count": 12,
   "id": "57a231b4",
   "metadata": {
    "ExecuteTime": {
     "end_time": "2023-09-22T03:21:11.807546Z",
     "start_time": "2023-09-22T03:21:11.799488Z"
    }
   },
   "outputs": [
    {
     "data": {
      "text/plain": [
       "dtype('float32')"
      ]
     },
     "execution_count": 12,
     "metadata": {},
     "output_type": "execute_result"
    }
   ],
   "source": [
    "x = np.array([1,2,3], dtype='f')\n",
    "x.dtype"
   ]
  },
  {
   "cell_type": "code",
   "execution_count": 13,
   "id": "5c62b0ca",
   "metadata": {
    "ExecuteTime": {
     "end_time": "2023-09-22T03:22:09.739295Z",
     "start_time": "2023-09-22T03:22:09.719643Z"
    }
   },
   "outputs": [
    {
     "data": {
      "text/plain": [
       "array([[0., 0., 0.],\n",
       "       [0., 0., 0.]])"
      ]
     },
     "execution_count": 13,
     "metadata": {},
     "output_type": "execute_result"
    }
   ],
   "source": [
    "b = np.zeros((2,3))\n",
    "b"
   ]
  },
  {
   "cell_type": "code",
   "execution_count": 14,
   "id": "d90e5850",
   "metadata": {
    "ExecuteTime": {
     "end_time": "2023-09-22T03:22:45.758966Z",
     "start_time": "2023-09-22T03:22:45.752801Z"
    }
   },
   "outputs": [
    {
     "data": {
      "text/plain": [
       "array([[0, 0],\n",
       "       [0, 0],\n",
       "       [0, 0],\n",
       "       [0, 0],\n",
       "       [0, 0]], dtype=int32)"
      ]
     },
     "execution_count": 14,
     "metadata": {},
     "output_type": "execute_result"
    }
   ],
   "source": [
    "c = np.zeros((5,2), dtype= \"i\")\n",
    "c"
   ]
  },
  {
   "cell_type": "code",
   "execution_count": 15,
   "id": "b4fdf1aa",
   "metadata": {
    "ExecuteTime": {
     "end_time": "2023-09-22T03:23:31.747670Z",
     "start_time": "2023-09-22T03:23:31.737964Z"
    }
   },
   "outputs": [
    {
     "data": {
      "text/plain": [
       "array([[[1., 1., 1., 1.],\n",
       "        [1., 1., 1., 1.],\n",
       "        [1., 1., 1., 1.]],\n",
       "\n",
       "       [[1., 1., 1., 1.],\n",
       "        [1., 1., 1., 1.],\n",
       "        [1., 1., 1., 1.]]])"
      ]
     },
     "execution_count": 15,
     "metadata": {},
     "output_type": "execute_result"
    }
   ],
   "source": [
    "e = np.ones((2,3,4))\n",
    "e"
   ]
  },
  {
   "cell_type": "code",
   "execution_count": 16,
   "id": "37cdd940",
   "metadata": {
    "ExecuteTime": {
     "end_time": "2023-09-22T03:24:39.018215Z",
     "start_time": "2023-09-22T03:24:39.005842Z"
    }
   },
   "outputs": [],
   "source": [
    "# 기존의 배열의 크기를 그대로 사용하여 배열 생성\n",
    "# zeros_like\n",
    "# ones_like\n"
   ]
  },
  {
   "cell_type": "code",
   "execution_count": 18,
   "id": "12965e61",
   "metadata": {
    "ExecuteTime": {
     "end_time": "2023-09-22T03:25:04.571300Z",
     "start_time": "2023-09-22T03:25:04.563558Z"
    }
   },
   "outputs": [
    {
     "data": {
      "text/plain": [
       "array([[1., 1., 1.],\n",
       "       [1., 1., 1.]])"
      ]
     },
     "execution_count": 18,
     "metadata": {},
     "output_type": "execute_result"
    }
   ],
   "source": [
    "f = np.ones_like(b)\n",
    "f"
   ]
  },
  {
   "cell_type": "code",
   "execution_count": 19,
   "id": "66af5bf2",
   "metadata": {
    "ExecuteTime": {
     "end_time": "2023-09-22T03:25:57.057748Z",
     "start_time": "2023-09-22T03:25:57.050937Z"
    }
   },
   "outputs": [],
   "source": [
    "g = np.empty((4,3))"
   ]
  },
  {
   "cell_type": "code",
   "execution_count": 20,
   "id": "ec6fb458",
   "metadata": {
    "ExecuteTime": {
     "end_time": "2023-09-22T03:25:59.657242Z",
     "start_time": "2023-09-22T03:25:59.641228Z"
    }
   },
   "outputs": [
    {
     "data": {
      "text/plain": [
       "array([[1.02543565e-311, 2.81617418e-322, 0.00000000e+000],\n",
       "       [0.00000000e+000, 9.45737026e-308, 1.33664410e+160],\n",
       "       [5.20172218e-090, 9.33114435e+164, 4.31809829e-038],\n",
       "       [1.53154680e-047, 6.48224660e+170, 4.93432906e+257]])"
      ]
     },
     "execution_count": 20,
     "metadata": {},
     "output_type": "execute_result"
    }
   ],
   "source": [
    "g"
   ]
  },
  {
   "cell_type": "code",
   "execution_count": 21,
   "id": "1af403f8",
   "metadata": {
    "ExecuteTime": {
     "end_time": "2023-09-22T03:28:55.397799Z",
     "start_time": "2023-09-22T03:28:55.387435Z"
    }
   },
   "outputs": [],
   "source": [
    "# range() : 순차리스트, 수열생성함수\n",
    "# range(5) : 0, 1, 2, 3, 4\n",
    "# range(1, 10) : 1, 2, 3, 4, 5, 6 ,7, 8, 9\n",
    "# arange() : Numpy의 range명령어이다."
   ]
  },
  {
   "cell_type": "code",
   "execution_count": 23,
   "id": "ba0b3d0f",
   "metadata": {
    "ExecuteTime": {
     "end_time": "2023-09-22T03:29:07.932456Z",
     "start_time": "2023-09-22T03:29:07.925546Z"
    }
   },
   "outputs": [
    {
     "data": {
      "text/plain": [
       "array([0, 1, 2, 3, 4])"
      ]
     },
     "execution_count": 23,
     "metadata": {},
     "output_type": "execute_result"
    }
   ],
   "source": [
    "np.arange(5)"
   ]
  },
  {
   "cell_type": "code",
   "execution_count": 24,
   "id": "bdc6f8fe",
   "metadata": {
    "ExecuteTime": {
     "end_time": "2023-09-22T03:29:53.003958Z",
     "start_time": "2023-09-22T03:29:52.987437Z"
    }
   },
   "outputs": [
    {
     "data": {
      "text/plain": [
       "array([  0.,  25.,  50.,  75., 100.])"
      ]
     },
     "execution_count": 24,
     "metadata": {},
     "output_type": "execute_result"
    }
   ],
   "source": [
    "np.linspace(0, 100, 5)"
   ]
  },
  {
   "cell_type": "code",
   "execution_count": 26,
   "id": "169f1348",
   "metadata": {
    "ExecuteTime": {
     "end_time": "2023-09-22T03:30:38.479609Z",
     "start_time": "2023-09-22T03:30:38.465030Z"
    }
   },
   "outputs": [
    {
     "data": {
      "text/plain": [
       "array([ 1.25892541,  1.58489319,  1.99526231,  2.51188643,  3.16227766,\n",
       "        3.98107171,  5.01187234,  6.30957344,  7.94328235, 10.        ])"
      ]
     },
     "execution_count": 26,
     "metadata": {},
     "output_type": "execute_result"
    }
   ],
   "source": [
    "np.logspace(0.1, 1, 10)"
   ]
  },
  {
   "cell_type": "markdown",
   "id": "154b94b8",
   "metadata": {},
   "source": [
    "## 전치행렬\n",
    "- 행과 열을 바꾸는 기능\n",
    "- T"
   ]
  },
  {
   "cell_type": "code",
   "execution_count": 27,
   "id": "4ebe618d",
   "metadata": {
    "ExecuteTime": {
     "end_time": "2023-09-22T03:31:55.474361Z",
     "start_time": "2023-09-22T03:31:55.454500Z"
    }
   },
   "outputs": [
    {
     "data": {
      "text/plain": [
       "array([[1, 2, 3],\n",
       "       [4, 5, 6]])"
      ]
     },
     "execution_count": 27,
     "metadata": {},
     "output_type": "execute_result"
    }
   ],
   "source": [
    "A = np.array([[1, 2 ,3],[4, 5, 6]])\n",
    "A"
   ]
  },
  {
   "cell_type": "code",
   "execution_count": 28,
   "id": "c6f6692e",
   "metadata": {
    "ExecuteTime": {
     "end_time": "2023-09-22T03:31:59.744014Z",
     "start_time": "2023-09-22T03:31:59.729956Z"
    }
   },
   "outputs": [
    {
     "data": {
      "text/plain": [
       "array([[1, 4],\n",
       "       [2, 5],\n",
       "       [3, 6]])"
      ]
     },
     "execution_count": 28,
     "metadata": {},
     "output_type": "execute_result"
    }
   ],
   "source": [
    "A.T"
   ]
  },
  {
   "cell_type": "markdown",
   "id": "9ce96790",
   "metadata": {},
   "source": [
    "## 배열의 크기 변형\n",
    "- 배열의 크기 속성 : shape, 배열명.속성\n",
    "- 배열의 크기 변경 : reshape"
   ]
  },
  {
   "cell_type": "code",
   "execution_count": 29,
   "id": "8ee2cd74",
   "metadata": {
    "ExecuteTime": {
     "end_time": "2023-09-22T03:33:29.221786Z",
     "start_time": "2023-09-22T03:33:29.212790Z"
    }
   },
   "outputs": [
    {
     "data": {
      "text/plain": [
       "array([ 0,  1,  2,  3,  4,  5,  6,  7,  8,  9, 10, 11])"
      ]
     },
     "execution_count": 29,
     "metadata": {},
     "output_type": "execute_result"
    }
   ],
   "source": [
    "a = np.arange(12)\n",
    "a"
   ]
  },
  {
   "cell_type": "code",
   "execution_count": 30,
   "id": "00e19fd7",
   "metadata": {
    "ExecuteTime": {
     "end_time": "2023-09-22T03:33:47.400449Z",
     "start_time": "2023-09-22T03:33:47.382951Z"
    }
   },
   "outputs": [
    {
     "data": {
      "text/plain": [
       "(12,)"
      ]
     },
     "execution_count": 30,
     "metadata": {},
     "output_type": "execute_result"
    }
   ],
   "source": [
    "a.shape"
   ]
  },
  {
   "cell_type": "code",
   "execution_count": 31,
   "id": "e3710a39",
   "metadata": {
    "ExecuteTime": {
     "end_time": "2023-09-22T03:34:12.429483Z",
     "start_time": "2023-09-22T03:34:12.425797Z"
    }
   },
   "outputs": [],
   "source": [
    "b = a.reshape(3,4)"
   ]
  },
  {
   "cell_type": "code",
   "execution_count": 32,
   "id": "c60c273b",
   "metadata": {
    "ExecuteTime": {
     "end_time": "2023-09-22T03:34:14.631203Z",
     "start_time": "2023-09-22T03:34:14.615262Z"
    }
   },
   "outputs": [
    {
     "data": {
      "text/plain": [
       "array([[ 0,  1,  2,  3],\n",
       "       [ 4,  5,  6,  7],\n",
       "       [ 8,  9, 10, 11]])"
      ]
     },
     "execution_count": 32,
     "metadata": {},
     "output_type": "execute_result"
    }
   ],
   "source": [
    "b"
   ]
  },
  {
   "cell_type": "code",
   "execution_count": 33,
   "id": "644aac65",
   "metadata": {
    "ExecuteTime": {
     "end_time": "2023-09-22T03:34:59.636618Z",
     "start_time": "2023-09-22T03:34:59.624213Z"
    }
   },
   "outputs": [
    {
     "data": {
      "text/plain": [
       "array([[ 0,  1,  2,  3],\n",
       "       [ 4,  5,  6,  7],\n",
       "       [ 8,  9, 10, 11]])"
      ]
     },
     "execution_count": 33,
     "metadata": {},
     "output_type": "execute_result"
    }
   ],
   "source": [
    "a.reshape(3, -1)"
   ]
  },
  {
   "cell_type": "code",
   "execution_count": 34,
   "id": "1b8f6520",
   "metadata": {
    "ExecuteTime": {
     "end_time": "2023-09-22T03:35:54.922459Z",
     "start_time": "2023-09-22T03:35:54.903812Z"
    }
   },
   "outputs": [
    {
     "data": {
      "text/plain": [
       "array([[[ 0,  1,  2],\n",
       "        [ 3,  4,  5]],\n",
       "\n",
       "       [[ 6,  7,  8],\n",
       "        [ 9, 10, 11]]])"
      ]
     },
     "execution_count": 34,
     "metadata": {},
     "output_type": "execute_result"
    }
   ],
   "source": [
    "a.reshape(2,2,-1)"
   ]
  },
  {
   "cell_type": "code",
   "execution_count": 35,
   "id": "93f0f4e5",
   "metadata": {
    "ExecuteTime": {
     "end_time": "2023-09-22T03:36:33.993625Z",
     "start_time": "2023-09-22T03:36:33.974782Z"
    }
   },
   "outputs": [
    {
     "data": {
      "text/plain": [
       "array([[[ 0,  1],\n",
       "        [ 2,  3],\n",
       "        [ 4,  5]],\n",
       "\n",
       "       [[ 6,  7],\n",
       "        [ 8,  9],\n",
       "        [10, 11]]])"
      ]
     },
     "execution_count": 35,
     "metadata": {},
     "output_type": "execute_result"
    }
   ],
   "source": [
    "a.reshape(2, -1, 2)"
   ]
  },
  {
   "cell_type": "code",
   "execution_count": 39,
   "id": "9540aaf2",
   "metadata": {
    "ExecuteTime": {
     "end_time": "2023-09-22T03:38:37.723757Z",
     "start_time": "2023-09-22T03:38:37.711881Z"
    }
   },
   "outputs": [
    {
     "data": {
      "text/plain": [
       "array([[ 0,  1,  2,  3],\n",
       "       [ 4,  5,  6,  7],\n",
       "       [ 8,  9, 10, 11]])"
      ]
     },
     "execution_count": 39,
     "metadata": {},
     "output_type": "execute_result"
    }
   ],
   "source": [
    "#다차원 배열을 1차원 배열로 생성하는 flatten, ravel 메서드\n",
    "a"
   ]
  },
  {
   "cell_type": "code",
   "execution_count": 37,
   "id": "55bc563e",
   "metadata": {
    "ExecuteTime": {
     "end_time": "2023-09-22T03:37:57.932660Z",
     "start_time": "2023-09-22T03:37:57.924868Z"
    }
   },
   "outputs": [],
   "source": [
    "a = a.reshape(3,4)"
   ]
  },
  {
   "cell_type": "code",
   "execution_count": 38,
   "id": "b221f594",
   "metadata": {
    "ExecuteTime": {
     "end_time": "2023-09-22T03:38:13.772842Z",
     "start_time": "2023-09-22T03:38:13.759325Z"
    }
   },
   "outputs": [
    {
     "data": {
      "text/plain": [
       "array([ 0,  1,  2,  3,  4,  5,  6,  7,  8,  9, 10, 11])"
      ]
     },
     "execution_count": 38,
     "metadata": {},
     "output_type": "execute_result"
    }
   ],
   "source": [
    "a.flatten()"
   ]
  },
  {
   "cell_type": "code",
   "execution_count": 40,
   "id": "ba7d4bc1",
   "metadata": {
    "ExecuteTime": {
     "end_time": "2023-09-22T03:38:44.099282Z",
     "start_time": "2023-09-22T03:38:44.083795Z"
    }
   },
   "outputs": [
    {
     "data": {
      "text/plain": [
       "array([ 0,  1,  2,  3,  4,  5,  6,  7,  8,  9, 10, 11])"
      ]
     },
     "execution_count": 40,
     "metadata": {},
     "output_type": "execute_result"
    }
   ],
   "source": [
    "a.ravel()"
   ]
  },
  {
   "cell_type": "code",
   "execution_count": 41,
   "id": "c94a9ff3",
   "metadata": {
    "ExecuteTime": {
     "end_time": "2023-09-22T03:39:35.755081Z",
     "start_time": "2023-09-22T03:39:35.744435Z"
    }
   },
   "outputs": [
    {
     "data": {
      "text/plain": [
       "array([0, 1, 2, 3, 4])"
      ]
     },
     "execution_count": 41,
     "metadata": {},
     "output_type": "execute_result"
    }
   ],
   "source": [
    "x = np.arange(5)\n",
    "x"
   ]
  },
  {
   "cell_type": "code",
   "execution_count": 42,
   "id": "bf624e96",
   "metadata": {
    "ExecuteTime": {
     "end_time": "2023-09-22T03:39:44.339059Z",
     "start_time": "2023-09-22T03:39:44.329792Z"
    }
   },
   "outputs": [
    {
     "data": {
      "text/plain": [
       "(5,)"
      ]
     },
     "execution_count": 42,
     "metadata": {},
     "output_type": "execute_result"
    }
   ],
   "source": [
    "x.shape"
   ]
  },
  {
   "cell_type": "code",
   "execution_count": 43,
   "id": "752e341f",
   "metadata": {
    "ExecuteTime": {
     "end_time": "2023-09-22T03:39:59.139825Z",
     "start_time": "2023-09-22T03:39:59.134054Z"
    }
   },
   "outputs": [
    {
     "data": {
      "text/plain": [
       "array([[0, 1, 2, 3, 4]])"
      ]
     },
     "execution_count": 43,
     "metadata": {},
     "output_type": "execute_result"
    }
   ],
   "source": [
    "x.reshape(1,5)"
   ]
  },
  {
   "cell_type": "code",
   "execution_count": 44,
   "id": "f17acf8b",
   "metadata": {
    "ExecuteTime": {
     "end_time": "2023-09-22T03:40:27.490804Z",
     "start_time": "2023-09-22T03:40:27.480384Z"
    }
   },
   "outputs": [
    {
     "data": {
      "text/plain": [
       "array([[0],\n",
       "       [1],\n",
       "       [2],\n",
       "       [3],\n",
       "       [4]])"
      ]
     },
     "execution_count": 44,
     "metadata": {},
     "output_type": "execute_result"
    }
   ],
   "source": [
    "x.reshape(5,1)"
   ]
  },
  {
   "cell_type": "code",
   "execution_count": 45,
   "id": "8aa7fab6",
   "metadata": {
    "ExecuteTime": {
     "end_time": "2023-09-22T03:41:37.877493Z",
     "start_time": "2023-09-22T03:41:37.870789Z"
    }
   },
   "outputs": [
    {
     "data": {
      "text/plain": [
       "array([0, 1, 2, 3, 4])"
      ]
     },
     "execution_count": 45,
     "metadata": {},
     "output_type": "execute_result"
    }
   ],
   "source": [
    "# 차원만 증가시키는 newaxis\n",
    "x"
   ]
  },
  {
   "cell_type": "code",
   "execution_count": 46,
   "id": "64936606",
   "metadata": {
    "ExecuteTime": {
     "end_time": "2023-09-22T03:42:02.410661Z",
     "start_time": "2023-09-22T03:42:02.403542Z"
    }
   },
   "outputs": [
    {
     "data": {
      "text/plain": [
       "array([[0],\n",
       "       [1],\n",
       "       [2],\n",
       "       [3],\n",
       "       [4]])"
      ]
     },
     "execution_count": 46,
     "metadata": {},
     "output_type": "execute_result"
    }
   ],
   "source": [
    "x[:,np.newaxis]"
   ]
  },
  {
   "cell_type": "markdown",
   "id": "21c55b87",
   "metadata": {},
   "source": [
    "# Numpy 배열의 연산"
   ]
  },
  {
   "cell_type": "code",
   "execution_count": 48,
   "id": "c219e27b",
   "metadata": {
    "ExecuteTime": {
     "end_time": "2023-09-22T05:04:09.497615Z",
     "start_time": "2023-09-22T05:04:09.488220Z"
    }
   },
   "outputs": [],
   "source": [
    "x = np.arange(1,10001)\n",
    "y = np.arange(1001,2001)"
   ]
  },
  {
   "cell_type": "code",
   "execution_count": 49,
   "id": "104ab058",
   "metadata": {
    "ExecuteTime": {
     "end_time": "2023-09-22T05:05:09.197957Z",
     "start_time": "2023-09-22T05:05:09.182493Z"
    }
   },
   "outputs": [
    {
     "name": "stdout",
     "output_type": "stream",
     "text": [
      "CPU times: total: 0 ns\n",
      "Wall time: 0 ns\n"
     ]
    }
   ],
   "source": [
    "%%time\n",
    "res= np.zeros_like(x)"
   ]
  },
  {
   "cell_type": "code",
   "execution_count": 50,
   "id": "a94fcd3e",
   "metadata": {
    "ExecuteTime": {
     "end_time": "2023-09-22T05:05:51.017332Z",
     "start_time": "2023-09-22T05:05:51.000316Z"
    }
   },
   "outputs": [
    {
     "data": {
      "text/plain": [
       "array([0, 0, 0, 0, 0, 0, 0, 0, 0, 0])"
      ]
     },
     "execution_count": 50,
     "metadata": {},
     "output_type": "execute_result"
    }
   ],
   "source": [
    "res[:10]"
   ]
  },
  {
   "cell_type": "code",
   "execution_count": 86,
   "id": "f24d866a",
   "metadata": {
    "ExecuteTime": {
     "end_time": "2023-09-22T05:27:35.911846Z",
     "start_time": "2023-09-22T05:27:35.896408Z"
    }
   },
   "outputs": [
    {
     "ename": "TypeError",
     "evalue": "'list' object is not callable",
     "output_type": "error",
     "traceback": [
      "\u001b[1;31m---------------------------------------------------------------------------\u001b[0m",
      "\u001b[1;31mTypeError\u001b[0m                                 Traceback (most recent call last)",
      "Cell \u001b[1;32mIn[86], line 1\u001b[0m\n\u001b[1;32m----> 1\u001b[0m np\u001b[38;5;241m.\u001b[39marray\u001b[38;5;241m=\u001b[39m\u001b[43mnp\u001b[49m\u001b[38;5;241;43m.\u001b[39;49m\u001b[43marray\u001b[49m\u001b[43m(\u001b[49m\u001b[43m[\u001b[49m\u001b[38;5;241;43m1\u001b[39;49m\u001b[43m,\u001b[49m\u001b[38;5;241;43m2\u001b[39;49m\u001b[43m,\u001b[49m\u001b[43m \u001b[49m\u001b[38;5;241;43m3\u001b[39;49m\u001b[43m,\u001b[49m\u001b[43m \u001b[49m\u001b[38;5;241;43m4\u001b[39;49m\u001b[43m]\u001b[49m\u001b[43m)\u001b[49m\n",
      "\u001b[1;31mTypeError\u001b[0m: 'list' object is not callable"
     ]
    }
   ],
   "source": []
  },
  {
   "cell_type": "code",
   "execution_count": 55,
   "id": "4d67e7a8",
   "metadata": {
    "ExecuteTime": {
     "end_time": "2023-09-22T05:09:55.007391Z",
     "start_time": "2023-09-22T05:09:54.999741Z"
    }
   },
   "outputs": [
    {
     "data": {
      "text/plain": [
       "True"
      ]
     },
     "execution_count": 55,
     "metadata": {},
     "output_type": "execute_result"
    }
   ],
   "source": [
    "np.all(a==b)"
   ]
  },
  {
   "cell_type": "code",
   "execution_count": 56,
   "id": "b5318e2f",
   "metadata": {
    "ExecuteTime": {
     "end_time": "2023-09-22T05:10:29.287165Z",
     "start_time": "2023-09-22T05:10:29.274152Z"
    }
   },
   "outputs": [],
   "source": [
    "a = np.arange(5)"
   ]
  },
  {
   "cell_type": "code",
   "execution_count": 57,
   "id": "232103bd",
   "metadata": {
    "ExecuteTime": {
     "end_time": "2023-09-22T05:10:31.249583Z",
     "start_time": "2023-09-22T05:10:31.234087Z"
    }
   },
   "outputs": [
    {
     "data": {
      "text/plain": [
       "array([0, 1, 2, 3, 4])"
      ]
     },
     "execution_count": 57,
     "metadata": {},
     "output_type": "execute_result"
    }
   ],
   "source": [
    "a"
   ]
  },
  {
   "cell_type": "code",
   "execution_count": 58,
   "id": "3d17e94a",
   "metadata": {
    "ExecuteTime": {
     "end_time": "2023-09-22T05:10:58.818106Z",
     "start_time": "2023-09-22T05:10:58.789702Z"
    }
   },
   "outputs": [
    {
     "data": {
      "text/plain": [
       "array([[1.00000000e+00, 2.71828183e+00, 7.38905610e+00, 2.00855369e+01],\n",
       "       [5.45981500e+01, 1.48413159e+02, 4.03428793e+02, 1.09663316e+03],\n",
       "       [2.98095799e+03, 8.10308393e+03, 2.20264658e+04, 5.98741417e+04]])"
      ]
     },
     "execution_count": 58,
     "metadata": {},
     "output_type": "execute_result"
    }
   ],
   "source": [
    "np.exp(b)"
   ]
  },
  {
   "cell_type": "code",
   "execution_count": 59,
   "id": "9eb16f31",
   "metadata": {
    "ExecuteTime": {
     "end_time": "2023-09-22T05:11:37.880636Z",
     "start_time": "2023-09-22T05:11:37.865783Z"
    }
   },
   "outputs": [
    {
     "data": {
      "text/plain": [
       "array([0.        , 0.69314718, 1.09861229, 1.38629436, 1.60943791])"
      ]
     },
     "execution_count": 59,
     "metadata": {},
     "output_type": "execute_result"
    }
   ],
   "source": [
    "np.log(a+1)"
   ]
  },
  {
   "cell_type": "code",
   "execution_count": 60,
   "id": "89033deb",
   "metadata": {
    "ExecuteTime": {
     "end_time": "2023-09-22T05:11:56.844124Z",
     "start_time": "2023-09-22T05:11:56.835528Z"
    }
   },
   "outputs": [
    {
     "data": {
      "text/plain": [
       "array([0, 1, 2, 3, 4, 5, 6, 7, 8, 9])"
      ]
     },
     "execution_count": 60,
     "metadata": {},
     "output_type": "execute_result"
    }
   ],
   "source": [
    "x = np.arange(10)\n",
    "x"
   ]
  },
  {
   "cell_type": "code",
   "execution_count": 61,
   "id": "6a7eca09",
   "metadata": {
    "ExecuteTime": {
     "end_time": "2023-09-22T05:12:06.771965Z",
     "start_time": "2023-09-22T05:12:06.755531Z"
    }
   },
   "outputs": [
    {
     "data": {
      "text/plain": [
       "array([  0, 100, 200, 300, 400, 500, 600, 700, 800, 900])"
      ]
     },
     "execution_count": 61,
     "metadata": {},
     "output_type": "execute_result"
    }
   ],
   "source": [
    "100*x"
   ]
  },
  {
   "cell_type": "code",
   "execution_count": 62,
   "id": "655c0eae",
   "metadata": {
    "ExecuteTime": {
     "end_time": "2023-09-22T05:12:52.541075Z",
     "start_time": "2023-09-22T05:12:52.522695Z"
    }
   },
   "outputs": [],
   "source": [
    "x = np.arange(12).reshape(3,4)"
   ]
  },
  {
   "cell_type": "code",
   "execution_count": 63,
   "id": "91d28d09",
   "metadata": {
    "ExecuteTime": {
     "end_time": "2023-09-22T05:12:54.458891Z",
     "start_time": "2023-09-22T05:12:54.451677Z"
    }
   },
   "outputs": [
    {
     "data": {
      "text/plain": [
       "array([[ 0,  1,  2,  3],\n",
       "       [ 4,  5,  6,  7],\n",
       "       [ 8,  9, 10, 11]])"
      ]
     },
     "execution_count": 63,
     "metadata": {},
     "output_type": "execute_result"
    }
   ],
   "source": [
    "x"
   ]
  },
  {
   "cell_type": "code",
   "execution_count": 64,
   "id": "736445d8",
   "metadata": {
    "ExecuteTime": {
     "end_time": "2023-09-22T05:13:20.710444Z",
     "start_time": "2023-09-22T05:13:20.698253Z"
    }
   },
   "outputs": [
    {
     "data": {
      "text/plain": [
       "array([[   0,  100,  200,  300],\n",
       "       [ 400,  500,  600,  700],\n",
       "       [ 800,  900, 1000, 1100]])"
      ]
     },
     "execution_count": 64,
     "metadata": {},
     "output_type": "execute_result"
    }
   ],
   "source": [
    "100*x"
   ]
  },
  {
   "cell_type": "markdown",
   "id": "f3430797",
   "metadata": {},
   "source": [
    "## 브로드캐스팅(broadcasting)\n",
    "- 서로 크기가 다른 배열의 사칙연산을 수행하는 기능\n",
    "- 크기가 작은 배열이 자동적으로 큰 배열의 크기로 맞춰지는 기능"
   ]
  },
  {
   "cell_type": "code",
   "execution_count": 65,
   "id": "1170e46a",
   "metadata": {
    "ExecuteTime": {
     "end_time": "2023-09-22T05:14:46.893875Z",
     "start_time": "2023-09-22T05:14:46.885245Z"
    }
   },
   "outputs": [],
   "source": [
    "x=np.arange(5)"
   ]
  },
  {
   "cell_type": "code",
   "execution_count": 66,
   "id": "e7ebaffd",
   "metadata": {
    "ExecuteTime": {
     "end_time": "2023-09-22T05:14:50.547684Z",
     "start_time": "2023-09-22T05:14:50.530568Z"
    }
   },
   "outputs": [
    {
     "data": {
      "text/plain": [
       "array([0, 1, 2, 3, 4])"
      ]
     },
     "execution_count": 66,
     "metadata": {},
     "output_type": "execute_result"
    }
   ],
   "source": [
    "x"
   ]
  },
  {
   "cell_type": "code",
   "execution_count": 67,
   "id": "6a2d45de",
   "metadata": {
    "ExecuteTime": {
     "end_time": "2023-09-22T05:15:05.030298Z",
     "start_time": "2023-09-22T05:15:05.024166Z"
    }
   },
   "outputs": [],
   "source": [
    "y = np.ones_like(x)"
   ]
  },
  {
   "cell_type": "code",
   "execution_count": 68,
   "id": "8c6de786",
   "metadata": {
    "ExecuteTime": {
     "end_time": "2023-09-22T05:15:06.548535Z",
     "start_time": "2023-09-22T05:15:06.530012Z"
    }
   },
   "outputs": [
    {
     "data": {
      "text/plain": [
       "array([1, 1, 1, 1, 1])"
      ]
     },
     "execution_count": 68,
     "metadata": {},
     "output_type": "execute_result"
    }
   ],
   "source": [
    "y"
   ]
  },
  {
   "cell_type": "code",
   "execution_count": 69,
   "id": "1d90cb63",
   "metadata": {
    "ExecuteTime": {
     "end_time": "2023-09-22T05:15:24.717511Z",
     "start_time": "2023-09-22T05:15:24.710601Z"
    }
   },
   "outputs": [
    {
     "data": {
      "text/plain": [
       "array([1, 2, 3, 4, 5])"
      ]
     },
     "execution_count": 69,
     "metadata": {},
     "output_type": "execute_result"
    }
   ],
   "source": [
    "x + 1"
   ]
  },
  {
   "cell_type": "code",
   "execution_count": 71,
   "id": "812693fa",
   "metadata": {
    "ExecuteTime": {
     "end_time": "2023-09-22T05:16:51.053980Z",
     "start_time": "2023-09-22T05:16:51.040673Z"
    }
   },
   "outputs": [],
   "source": [
    "y = np.arange(12).reshape(3,4)"
   ]
  },
  {
   "cell_type": "code",
   "execution_count": 72,
   "id": "85e9bb09",
   "metadata": {
    "ExecuteTime": {
     "end_time": "2023-09-22T05:17:04.523751Z",
     "start_time": "2023-09-22T05:17:04.507482Z"
    }
   },
   "outputs": [
    {
     "data": {
      "text/plain": [
       "array([[ 0,  1,  2,  3],\n",
       "       [ 4,  5,  6,  7],\n",
       "       [ 8,  9, 10, 11]])"
      ]
     },
     "execution_count": 72,
     "metadata": {},
     "output_type": "execute_result"
    }
   ],
   "source": [
    "y"
   ]
  },
  {
   "cell_type": "code",
   "execution_count": 73,
   "id": "295002d3",
   "metadata": {
    "ExecuteTime": {
     "end_time": "2023-09-22T05:17:18.240666Z",
     "start_time": "2023-09-22T05:17:18.226104Z"
    }
   },
   "outputs": [
    {
     "data": {
      "text/plain": [
       "array([[ 1,  2,  3,  4],\n",
       "       [ 5,  6,  7,  8],\n",
       "       [ 9, 10, 11, 12]])"
      ]
     },
     "execution_count": 73,
     "metadata": {},
     "output_type": "execute_result"
    }
   ],
   "source": [
    "y +1"
   ]
  },
  {
   "cell_type": "code",
   "execution_count": 74,
   "id": "eb7e2c56",
   "metadata": {
    "ExecuteTime": {
     "end_time": "2023-09-22T05:17:38.791816Z",
     "start_time": "2023-09-22T05:17:38.786286Z"
    }
   },
   "outputs": [],
   "source": [
    "z = np.ones_like(y)"
   ]
  },
  {
   "cell_type": "code",
   "execution_count": 75,
   "id": "ef95831d",
   "metadata": {
    "ExecuteTime": {
     "end_time": "2023-09-22T05:17:40.554608Z",
     "start_time": "2023-09-22T05:17:40.550539Z"
    }
   },
   "outputs": [
    {
     "data": {
      "text/plain": [
       "array([[1, 1, 1, 1],\n",
       "       [1, 1, 1, 1],\n",
       "       [1, 1, 1, 1]])"
      ]
     },
     "execution_count": 75,
     "metadata": {},
     "output_type": "execute_result"
    }
   ],
   "source": [
    "z"
   ]
  },
  {
   "cell_type": "markdown",
   "id": "5afbc3f2",
   "metadata": {},
   "source": [
    "## 그룹함수 or 자원축소연산\n",
    "- 최대/최소 : min, max, argmin,argmax\n",
    "- 기초통계 : sum, mean, medium, std, var\n",
    "- 논리연산 : all, any"
   ]
  },
  {
   "cell_type": "code",
   "execution_count": 82,
   "id": "3bea6173",
   "metadata": {
    "ExecuteTime": {
     "end_time": "2023-09-22T05:24:32.354003Z",
     "start_time": "2023-09-22T05:24:32.342793Z"
    }
   },
   "outputs": [
    {
     "data": {
      "text/plain": [
       "2.0"
      ]
     },
     "execution_count": 82,
     "metadata": {},
     "output_type": "execute_result"
    }
   ],
   "source": [
    "np.median(x)"
   ]
  },
  {
   "cell_type": "code",
   "execution_count": 4,
   "id": "0320f0b2",
   "metadata": {
    "ExecuteTime": {
     "end_time": "2023-09-22T05:30:06.721380Z",
     "start_time": "2023-09-22T05:30:06.705854Z"
    }
   },
   "outputs": [],
   "source": [
    "a = np.zeros((100,100), dtype='i')"
   ]
  },
  {
   "cell_type": "code",
   "execution_count": 92,
   "id": "be527912",
   "metadata": {
    "ExecuteTime": {
     "end_time": "2023-09-22T05:29:07.888566Z",
     "start_time": "2023-09-22T05:29:07.878939Z"
    }
   },
   "outputs": [
    {
     "data": {
      "text/plain": [
       "array([[0, 0, 0, ..., 0, 0, 0],\n",
       "       [0, 0, 0, ..., 0, 0, 0],\n",
       "       [0, 0, 0, ..., 0, 0, 0],\n",
       "       ...,\n",
       "       [0, 0, 0, ..., 0, 0, 0],\n",
       "       [0, 0, 0, ..., 0, 0, 0],\n",
       "       [0, 0, 0, ..., 0, 0, 0]], dtype=int32)"
      ]
     },
     "execution_count": 92,
     "metadata": {},
     "output_type": "execute_result"
    }
   ],
   "source": [
    "a"
   ]
  },
  {
   "cell_type": "code",
   "execution_count": 5,
   "id": "b4b0f1f3",
   "metadata": {
    "ExecuteTime": {
     "end_time": "2023-09-22T05:30:09.133718Z",
     "start_time": "2023-09-22T05:30:09.125645Z"
    }
   },
   "outputs": [
    {
     "data": {
      "text/plain": [
       "False"
      ]
     },
     "execution_count": 5,
     "metadata": {},
     "output_type": "execute_result"
    }
   ],
   "source": [
    "np.any(a!=0)"
   ]
  },
  {
   "cell_type": "code",
   "execution_count": 6,
   "id": "5d614d3b",
   "metadata": {
    "ExecuteTime": {
     "end_time": "2023-09-22T05:30:20.733942Z",
     "start_time": "2023-09-22T05:30:20.717203Z"
    }
   },
   "outputs": [],
   "source": [
    "a = np.array([1,2,3,2])"
   ]
  },
  {
   "cell_type": "code",
   "execution_count": 7,
   "id": "d004a6c8",
   "metadata": {
    "ExecuteTime": {
     "end_time": "2023-09-22T05:30:56.370469Z",
     "start_time": "2023-09-22T05:30:56.365016Z"
    }
   },
   "outputs": [],
   "source": [
    "b = np.array([2, 2, 3, 4])\n",
    "c = np.array([6, 4, 4, 5])"
   ]
  },
  {
   "cell_type": "code",
   "execution_count": 12,
   "id": "f2a5d573",
   "metadata": {
    "ExecuteTime": {
     "end_time": "2023-09-22T05:32:48.876899Z",
     "start_time": "2023-09-22T05:32:48.870832Z"
    }
   },
   "outputs": [
    {
     "data": {
      "text/plain": [
       "True"
      ]
     },
     "execution_count": 12,
     "metadata": {},
     "output_type": "execute_result"
    }
   ],
   "source": [
    "((a<=b) & (b<= c)).all()"
   ]
  },
  {
   "cell_type": "markdown",
   "id": "b2a670ab",
   "metadata": {},
   "source": [
    "-축(axis) : axis = 0(열), axis = 1(행), default(axis=0)"
   ]
  },
  {
   "cell_type": "code",
   "execution_count": 13,
   "id": "078b0623",
   "metadata": {
    "ExecuteTime": {
     "end_time": "2023-09-22T05:34:24.978701Z",
     "start_time": "2023-09-22T05:34:24.969732Z"
    }
   },
   "outputs": [
    {
     "data": {
      "text/plain": [
       "array([[1, 1],\n",
       "       [2, 2]])"
      ]
     },
     "execution_count": 13,
     "metadata": {},
     "output_type": "execute_result"
    }
   ],
   "source": [
    "x = np.array([[1,1],[2,2]])\n",
    "x"
   ]
  },
  {
   "cell_type": "code",
   "execution_count": 14,
   "id": "1a4089ba",
   "metadata": {
    "ExecuteTime": {
     "end_time": "2023-09-22T05:34:43.365405Z",
     "start_time": "2023-09-22T05:34:43.358368Z"
    }
   },
   "outputs": [
    {
     "data": {
      "text/plain": [
       "6"
      ]
     },
     "execution_count": 14,
     "metadata": {},
     "output_type": "execute_result"
    }
   ],
   "source": [
    "x.sum()"
   ]
  },
  {
   "cell_type": "code",
   "execution_count": 15,
   "id": "da3315be",
   "metadata": {
    "ExecuteTime": {
     "end_time": "2023-09-22T05:35:08.879494Z",
     "start_time": "2023-09-22T05:35:08.872951Z"
    }
   },
   "outputs": [
    {
     "data": {
      "text/plain": [
       "array([3, 3])"
      ]
     },
     "execution_count": 15,
     "metadata": {},
     "output_type": "execute_result"
    }
   ],
   "source": [
    "x.sum(axis=0)"
   ]
  },
  {
   "cell_type": "code",
   "execution_count": 16,
   "id": "3644514a",
   "metadata": {
    "ExecuteTime": {
     "end_time": "2023-09-22T05:35:33.369609Z",
     "start_time": "2023-09-22T05:35:33.361111Z"
    }
   },
   "outputs": [
    {
     "data": {
      "text/plain": [
       "array([2, 4])"
      ]
     },
     "execution_count": 16,
     "metadata": {},
     "output_type": "execute_result"
    }
   ],
   "source": [
    "x.sum(axis=1)"
   ]
  },
  {
   "cell_type": "markdown",
   "id": "a823e40b",
   "metadata": {},
   "source": [
    "## 정렬(sort)\n",
    "- 2차원 이상일 경우 행이나 열을 각각 따로 정렬한다.\n",
    "- axis = 0이면 각 열을 기준으로 정렬, axis = 1이면 각 행을 기준으로 정렬\n",
    "- 생략은 axis = 1\n",
    "- axis = -1이면 안쪽차원이 기준(axis = 1)"
   ]
  },
  {
   "cell_type": "code",
   "execution_count": 23,
   "id": "6efe947f",
   "metadata": {
    "ExecuteTime": {
     "end_time": "2023-09-22T05:44:36.229565Z",
     "start_time": "2023-09-22T05:44:36.214155Z"
    }
   },
   "outputs": [],
   "source": [
    "a = np.array([[4, 5, 6, 7],[1, 13, 11, 9],[2, 5, 15, 7]])"
   ]
  },
  {
   "cell_type": "code",
   "execution_count": 18,
   "id": "ad125de5",
   "metadata": {
    "ExecuteTime": {
     "end_time": "2023-09-22T05:38:13.851430Z",
     "start_time": "2023-09-22T05:38:13.846314Z"
    }
   },
   "outputs": [
    {
     "data": {
      "text/plain": [
       "array([[ 4,  5,  6,  7],\n",
       "       [ 1, 13, 11,  9],\n",
       "       [ 2,  5, 15,  7]])"
      ]
     },
     "execution_count": 18,
     "metadata": {},
     "output_type": "execute_result"
    }
   ],
   "source": [
    "a"
   ]
  },
  {
   "cell_type": "code",
   "execution_count": 19,
   "id": "5b232b9a",
   "metadata": {
    "ExecuteTime": {
     "end_time": "2023-09-22T05:42:17.370880Z",
     "start_time": "2023-09-22T05:42:17.352879Z"
    }
   },
   "outputs": [
    {
     "data": {
      "text/plain": [
       "array([[ 1,  5,  6,  7],\n",
       "       [ 2,  5, 11,  7],\n",
       "       [ 4, 13, 15,  9]])"
      ]
     },
     "execution_count": 19,
     "metadata": {},
     "output_type": "execute_result"
    }
   ],
   "source": [
    "np.sort(a, axis=0)"
   ]
  },
  {
   "cell_type": "code",
   "execution_count": 20,
   "id": "c27b587a",
   "metadata": {
    "ExecuteTime": {
     "end_time": "2023-09-22T05:42:52.110141Z",
     "start_time": "2023-09-22T05:42:52.092970Z"
    }
   },
   "outputs": [
    {
     "data": {
      "text/plain": [
       "array([[ 4,  5,  6,  7],\n",
       "       [ 1,  9, 11, 13],\n",
       "       [ 2,  5,  7, 15]])"
      ]
     },
     "execution_count": 20,
     "metadata": {},
     "output_type": "execute_result"
    }
   ],
   "source": [
    "np.sort(a, axis=-1)"
   ]
  },
  {
   "cell_type": "code",
   "execution_count": 22,
   "id": "ed8bfbee",
   "metadata": {
    "ExecuteTime": {
     "end_time": "2023-09-22T05:44:12.546250Z",
     "start_time": "2023-09-22T05:44:12.535400Z"
    }
   },
   "outputs": [
    {
     "data": {
      "text/plain": [
       "array([[ 4,  5,  6,  7],\n",
       "       [ 1,  9, 11, 13],\n",
       "       [ 2,  5,  7, 15]])"
      ]
     },
     "execution_count": 22,
     "metadata": {},
     "output_type": "execute_result"
    }
   ],
   "source": [
    "a.sort()\n",
    "a"
   ]
  },
  {
   "cell_type": "code",
   "execution_count": 24,
   "id": "ab71b1da",
   "metadata": {
    "ExecuteTime": {
     "end_time": "2023-09-22T05:44:52.083039Z",
     "start_time": "2023-09-22T05:44:52.063859Z"
    }
   },
   "outputs": [
    {
     "data": {
      "text/plain": [
       "array([[ 4,  5,  6,  7],\n",
       "       [ 1,  9, 11, 13],\n",
       "       [ 2,  5,  7, 15]])"
      ]
     },
     "execution_count": 24,
     "metadata": {},
     "output_type": "execute_result"
    }
   ],
   "source": [
    "a.sort(axis=1)\n",
    "a"
   ]
  },
  {
   "cell_type": "code",
   "execution_count": 25,
   "id": "765cdd43",
   "metadata": {
    "ExecuteTime": {
     "end_time": "2023-09-22T05:46:36.823901Z",
     "start_time": "2023-09-22T05:46:36.816515Z"
    }
   },
   "outputs": [
    {
     "data": {
      "text/plain": [
       "array([1, 2, 0, 3], dtype=int64)"
      ]
     },
     "execution_count": 25,
     "metadata": {},
     "output_type": "execute_result"
    }
   ],
   "source": [
    "# 정렬을 하지 않고 순서만 알고싶다면 argsort 명령을 한다.\n",
    "a = np.array([4,2,3,8])\n",
    "b = np.argsort(a)\n",
    "b"
   ]
  },
  {
   "cell_type": "code",
   "execution_count": 26,
   "id": "ccb658af",
   "metadata": {
    "ExecuteTime": {
     "end_time": "2023-09-22T05:47:15.348890Z",
     "start_time": "2023-09-22T05:47:15.331344Z"
    }
   },
   "outputs": [
    {
     "data": {
      "text/plain": [
       "array([2, 3, 4, 8])"
      ]
     },
     "execution_count": 26,
     "metadata": {},
     "output_type": "execute_result"
    }
   ],
   "source": [
    "a[b]"
   ]
  },
  {
   "cell_type": "code",
   "execution_count": 27,
   "id": "8733bb70",
   "metadata": {
    "ExecuteTime": {
     "end_time": "2023-09-22T05:47:34.142404Z",
     "start_time": "2023-09-22T05:47:34.126351Z"
    }
   },
   "outputs": [
    {
     "data": {
      "text/plain": [
       "array([2, 3, 4, 8])"
      ]
     },
     "execution_count": 27,
     "metadata": {},
     "output_type": "execute_result"
    }
   ],
   "source": [
    "np.sort(a)"
   ]
  },
  {
   "cell_type": "markdown",
   "id": "773c3c60",
   "metadata": {},
   "source": [
    "## Fancy Indexing : 펜시인덱싱\n",
    "- boolean 인덱싱을 이용하는 것\n",
    "- 마스크 인덱싱\n",
    "- 규칙이 일정하지 않지만 원하는 데이터를 추출하고자 할때 사용한다."
   ]
  },
  {
   "cell_type": "code",
   "execution_count": 28,
   "id": "458360c5",
   "metadata": {
    "ExecuteTime": {
     "end_time": "2023-09-22T05:51:21.398956Z",
     "start_time": "2023-09-22T05:51:21.390227Z"
    }
   },
   "outputs": [],
   "source": [
    "names = np.array(['park','park','kim','joan','lee','park','hong','park'])"
   ]
  },
  {
   "cell_type": "code",
   "execution_count": 29,
   "id": "c74e6ba7",
   "metadata": {
    "ExecuteTime": {
     "end_time": "2023-09-22T05:51:25.784174Z",
     "start_time": "2023-09-22T05:51:25.775381Z"
    }
   },
   "outputs": [
    {
     "data": {
      "text/plain": [
       "array(['park', 'park', 'kim', 'joan', 'lee', 'park', 'hong', 'park'],\n",
       "      dtype='<U4')"
      ]
     },
     "execution_count": 29,
     "metadata": {},
     "output_type": "execute_result"
    }
   ],
   "source": [
    "names"
   ]
  },
  {
   "cell_type": "code",
   "execution_count": 30,
   "id": "178716ee",
   "metadata": {
    "ExecuteTime": {
     "end_time": "2023-09-22T05:51:45.674019Z",
     "start_time": "2023-09-22T05:51:45.658784Z"
    }
   },
   "outputs": [
    {
     "data": {
      "text/plain": [
       "(8,)"
      ]
     },
     "execution_count": 30,
     "metadata": {},
     "output_type": "execute_result"
    }
   ],
   "source": [
    "names.shape"
   ]
  },
  {
   "cell_type": "code",
   "execution_count": 32,
   "id": "2f7c5212",
   "metadata": {
    "ExecuteTime": {
     "end_time": "2023-09-22T05:53:24.197278Z",
     "start_time": "2023-09-22T05:53:24.190842Z"
    }
   },
   "outputs": [],
   "source": [
    "# 정규분포 : np.random.randn(), 평균 = 0, 표준편차 = 1\n",
    "# 0~1 사이의 난수\n",
    "data = np.random.randn(8,4)"
   ]
  },
  {
   "cell_type": "code",
   "execution_count": 33,
   "id": "9fd94c03",
   "metadata": {
    "ExecuteTime": {
     "end_time": "2023-09-22T05:53:32.064207Z",
     "start_time": "2023-09-22T05:53:32.056054Z"
    }
   },
   "outputs": [
    {
     "data": {
      "text/plain": [
       "array([[ 0.55342959,  0.30102088,  1.55375108,  0.63871031],\n",
       "       [-1.86749275,  2.51666243,  2.71762633, -0.929189  ],\n",
       "       [-0.28926574, -1.28957392, -0.75132033, -0.33970197],\n",
       "       [ 0.79699018,  1.20946978,  0.10268288, -0.77352104],\n",
       "       [-0.48022052,  0.47515436,  0.64918256, -0.32026489],\n",
       "       [-0.59369323,  0.94892446, -1.78110959,  0.66724738],\n",
       "       [ 0.54227259, -0.0858003 , -1.11940864, -0.32919689],\n",
       "       [-0.4535945 , -0.95494005,  0.96462653,  1.31579678]])"
      ]
     },
     "execution_count": 33,
     "metadata": {},
     "output_type": "execute_result"
    }
   ],
   "source": [
    "data"
   ]
  },
  {
   "cell_type": "code",
   "execution_count": 34,
   "id": "9df1762d",
   "metadata": {
    "ExecuteTime": {
     "end_time": "2023-09-22T05:56:19.039771Z",
     "start_time": "2023-09-22T05:56:19.024077Z"
    }
   },
   "outputs": [
    {
     "data": {
      "text/plain": [
       "(8, 4)"
      ]
     },
     "execution_count": 34,
     "metadata": {},
     "output_type": "execute_result"
    }
   ],
   "source": [
    "data.shape"
   ]
  },
  {
   "cell_type": "code",
   "execution_count": 35,
   "id": "3db4825e",
   "metadata": {
    "ExecuteTime": {
     "end_time": "2023-09-22T05:58:22.059134Z",
     "start_time": "2023-09-22T05:58:22.047934Z"
    }
   },
   "outputs": [
    {
     "data": {
      "text/plain": [
       "array([[ 0.55342959,  0.30102088,  1.55375108,  0.63871031],\n",
       "       [-1.86749275,  2.51666243,  2.71762633, -0.929189  ],\n",
       "       [-0.59369323,  0.94892446, -1.78110959,  0.66724738],\n",
       "       [-0.4535945 , -0.95494005,  0.96462653,  1.31579678]])"
      ]
     },
     "execution_count": 35,
     "metadata": {},
     "output_type": "execute_result"
    }
   ],
   "source": [
    "index = (names == 'park')\n",
    "data[index,:]"
   ]
  },
  {
   "cell_type": "code",
   "execution_count": 36,
   "id": "311fe7c1",
   "metadata": {
    "ExecuteTime": {
     "end_time": "2023-09-22T05:59:53.721026Z",
     "start_time": "2023-09-22T05:59:53.710716Z"
    }
   },
   "outputs": [
    {
     "data": {
      "text/plain": [
       "array([[-0.28926574, -1.28957392, -0.75132033, -0.33970197]])"
      ]
     },
     "execution_count": 36,
     "metadata": {},
     "output_type": "execute_result"
    }
   ],
   "source": [
    "#요소가 'kim'인 행의 데이터만 추출\n",
    "data[names=='kim',:]"
   ]
  },
  {
   "cell_type": "code",
   "execution_count": 37,
   "id": "d86dbde0",
   "metadata": {
    "ExecuteTime": {
     "end_time": "2023-09-22T06:01:30.257392Z",
     "start_time": "2023-09-22T06:01:30.241372Z"
    }
   },
   "outputs": [
    {
     "data": {
      "text/plain": [
       "array([[-0.28926574, -1.28957392, -0.75132033, -0.33970197],\n",
       "       [ 0.54227259, -0.0858003 , -1.11940864, -0.32919689]])"
      ]
     },
     "execution_count": 37,
     "metadata": {},
     "output_type": "execute_result"
    }
   ],
   "source": [
    "#'kim''hong'\n",
    "data[(names =='kim')| (names =='hong'),:]"
   ]
  },
  {
   "cell_type": "code",
   "execution_count": 41,
   "id": "95cbb516",
   "metadata": {
    "ExecuteTime": {
     "end_time": "2023-09-22T06:05:51.687517Z",
     "start_time": "2023-09-22T06:05:51.676372Z"
    }
   },
   "outputs": [
    {
     "data": {
      "text/plain": [
       "array([False,  True,  True, False,  True,  True, False,  True])"
      ]
     },
     "execution_count": 41,
     "metadata": {},
     "output_type": "execute_result"
    }
   ],
   "source": [
    "#0번째 열의 값이 0보다 작은 행을 추출\n",
    "data[:,0] < 0"
   ]
  },
  {
   "cell_type": "code",
   "execution_count": 42,
   "id": "6f2ce5d8",
   "metadata": {
    "ExecuteTime": {
     "end_time": "2023-09-22T06:06:02.549402Z",
     "start_time": "2023-09-22T06:06:02.541265Z"
    }
   },
   "outputs": [
    {
     "data": {
      "text/plain": [
       "array([[-1.86749275,  2.51666243,  2.71762633, -0.929189  ],\n",
       "       [-0.28926574, -1.28957392, -0.75132033, -0.33970197],\n",
       "       [-0.48022052,  0.47515436,  0.64918256, -0.32026489],\n",
       "       [-0.59369323,  0.94892446, -1.78110959,  0.66724738],\n",
       "       [-0.4535945 , -0.95494005,  0.96462653,  1.31579678]])"
      ]
     },
     "execution_count": 42,
     "metadata": {},
     "output_type": "execute_result"
    }
   ],
   "source": [
    "data[data[:,0] < 0, :]"
   ]
  },
  {
   "cell_type": "code",
   "execution_count": 43,
   "id": "1b5d7c66",
   "metadata": {
    "ExecuteTime": {
     "end_time": "2023-09-22T06:07:14.293288Z",
     "start_time": "2023-09-22T06:07:14.276981Z"
    }
   },
   "outputs": [
    {
     "data": {
      "text/plain": [
       "array([[ 2.71762633, -0.929189  ],\n",
       "       [-0.75132033, -0.33970197],\n",
       "       [ 0.64918256, -0.32026489],\n",
       "       [-1.78110959,  0.66724738],\n",
       "       [ 0.96462653,  1.31579678]])"
      ]
     },
     "execution_count": 43,
     "metadata": {},
     "output_type": "execute_result"
    }
   ],
   "source": [
    "#0번째 열의 값이 0보다 작은 행의 2,3번째 열의 값만 추출\n",
    "data[data[:,0]<0,2:4]"
   ]
  },
  {
   "cell_type": "markdown",
   "id": "afce7741",
   "metadata": {},
   "source": [
    "# 기술통계분석"
   ]
  },
  {
   "cell_type": "code",
   "execution_count": 44,
   "id": "8aecb45e",
   "metadata": {
    "ExecuteTime": {
     "end_time": "2023-09-22T06:20:15.224304Z",
     "start_time": "2023-09-22T06:20:15.207249Z"
    }
   },
   "outputs": [
    {
     "data": {
      "text/plain": [
       "array([ 18,   5,  10,  23,  19,  -8,  10,   0,   0,   5,   2,  15,   8,\n",
       "         2,   5,   4,  15,  -1,   4,  -7, -24,   7,   9,  -6,  23, -13])"
      ]
     },
     "execution_count": 44,
     "metadata": {},
     "output_type": "execute_result"
    }
   ],
   "source": [
    "x = np.array([18, 5, 10, 23, 19, -8, 10, 0, 0, 5, 2, 15, 8, 2, 5, 4, 15, -1, 4, -7, -24, 7, 9, -6, 23, -13])\n",
    "x"
   ]
  },
  {
   "cell_type": "markdown",
   "id": "06981618",
   "metadata": {},
   "source": [
    "## 데이터의 개수 : len"
   ]
  },
  {
   "cell_type": "code",
   "execution_count": 45,
   "id": "544d1981",
   "metadata": {
    "ExecuteTime": {
     "end_time": "2023-09-22T06:20:43.640533Z",
     "start_time": "2023-09-22T06:20:43.629928Z"
    }
   },
   "outputs": [
    {
     "data": {
      "text/plain": [
       "26"
      ]
     },
     "execution_count": 45,
     "metadata": {},
     "output_type": "execute_result"
    }
   ],
   "source": [
    "len(x)"
   ]
  },
  {
   "cell_type": "markdown",
   "id": "f73c4e3c",
   "metadata": {},
   "source": [
    "## 평균: mean"
   ]
  },
  {
   "cell_type": "code",
   "execution_count": 46,
   "id": "95eb4350",
   "metadata": {
    "ExecuteTime": {
     "end_time": "2023-09-22T06:21:22.444390Z",
     "start_time": "2023-09-22T06:21:22.435919Z"
    }
   },
   "outputs": [
    {
     "data": {
      "text/plain": [
       "4.8076923076923075"
      ]
     },
     "execution_count": 46,
     "metadata": {},
     "output_type": "execute_result"
    }
   ],
   "source": [
    "np.mean(x)"
   ]
  },
  {
   "cell_type": "markdown",
   "id": "ca5f233e",
   "metadata": {},
   "source": [
    "## 분산 : var"
   ]
  },
  {
   "cell_type": "code",
   "execution_count": 47,
   "id": "b04d7135",
   "metadata": {
    "ExecuteTime": {
     "end_time": "2023-09-22T06:21:50.878756Z",
     "start_time": "2023-09-22T06:21:50.847799Z"
    }
   },
   "outputs": [
    {
     "data": {
      "text/plain": [
       "115.23224852071006"
      ]
     },
     "execution_count": 47,
     "metadata": {},
     "output_type": "execute_result"
    }
   ],
   "source": [
    "np.var(x)"
   ]
  },
  {
   "cell_type": "markdown",
   "id": "6af3b7cd",
   "metadata": {},
   "source": [
    "## 표준편차 : std"
   ]
  },
  {
   "cell_type": "code",
   "execution_count": 48,
   "id": "0f0ab32a",
   "metadata": {
    "ExecuteTime": {
     "end_time": "2023-09-22T06:23:51.983391Z",
     "start_time": "2023-09-22T06:23:51.964212Z"
    }
   },
   "outputs": [
    {
     "data": {
      "text/plain": [
       "10.734628476137871"
      ]
     },
     "execution_count": 48,
     "metadata": {},
     "output_type": "execute_result"
    }
   ],
   "source": [
    "np.std(x)"
   ]
  },
  {
   "cell_type": "markdown",
   "id": "3cc56e29",
   "metadata": {},
   "source": [
    "## 최대값과 최소값 : max, min"
   ]
  },
  {
   "cell_type": "code",
   "execution_count": 49,
   "id": "6f6a6d38",
   "metadata": {
    "ExecuteTime": {
     "end_time": "2023-09-22T06:24:26.384866Z",
     "start_time": "2023-09-22T06:24:26.368611Z"
    }
   },
   "outputs": [
    {
     "data": {
      "text/plain": [
       "-24"
      ]
     },
     "execution_count": 49,
     "metadata": {},
     "output_type": "execute_result"
    }
   ],
   "source": [
    "np.max(x)\n",
    "np.min(x)"
   ]
  },
  {
   "cell_type": "markdown",
   "id": "d06bb0ad",
   "metadata": {},
   "source": [
    "## 중앙값 : median"
   ]
  },
  {
   "cell_type": "code",
   "execution_count": 50,
   "id": "1da40a84",
   "metadata": {
    "ExecuteTime": {
     "end_time": "2023-09-22T06:24:53.086594Z",
     "start_time": "2023-09-22T06:24:53.068925Z"
    }
   },
   "outputs": [
    {
     "data": {
      "text/plain": [
       "5.0"
      ]
     },
     "execution_count": 50,
     "metadata": {},
     "output_type": "execute_result"
    }
   ],
   "source": [
    "np.median(x)"
   ]
  },
  {
   "cell_type": "markdown",
   "id": "8db39ce6",
   "metadata": {},
   "source": [
    "## 사분위수 : quantile"
   ]
  },
  {
   "cell_type": "code",
   "execution_count": 51,
   "id": "6e53dd62",
   "metadata": {
    "ExecuteTime": {
     "end_time": "2023-09-22T06:25:53.606511Z",
     "start_time": "2023-09-22T06:25:53.596336Z"
    }
   },
   "outputs": [
    {
     "data": {
      "text/plain": [
       "-24.0"
      ]
     },
     "execution_count": 51,
     "metadata": {},
     "output_type": "execute_result"
    }
   ],
   "source": [
    "np.percentile(x,0) #최소값"
   ]
  },
  {
   "cell_type": "code",
   "execution_count": 52,
   "id": "ac6b29e3",
   "metadata": {
    "ExecuteTime": {
     "end_time": "2023-09-22T06:26:14.689592Z",
     "start_time": "2023-09-22T06:26:14.683531Z"
    }
   },
   "outputs": [
    {
     "data": {
      "text/plain": [
       "0.0"
      ]
     },
     "execution_count": 52,
     "metadata": {},
     "output_type": "execute_result"
    }
   ],
   "source": [
    "np.percentile(x,25)"
   ]
  },
  {
   "cell_type": "markdown",
   "id": "48a8961f",
   "metadata": {},
   "source": [
    "# 난수(rendom number)"
   ]
  },
  {
   "cell_type": "markdown",
   "id": "cfc3c071",
   "metadata": {},
   "source": [
    "## 시드설정(seed) : 0과 같거나 큰 정수\n"
   ]
  },
  {
   "cell_type": "code",
   "execution_count": 53,
   "id": "9abc5327",
   "metadata": {
    "ExecuteTime": {
     "end_time": "2023-09-22T06:30:10.939395Z",
     "start_time": "2023-09-22T06:30:10.926386Z"
    }
   },
   "outputs": [],
   "source": [
    "np.random.seed(0)"
   ]
  },
  {
   "cell_type": "code",
   "execution_count": 54,
   "id": "dd81f424",
   "metadata": {
    "ExecuteTime": {
     "end_time": "2023-09-22T06:31:04.791321Z",
     "start_time": "2023-09-22T06:31:04.776228Z"
    }
   },
   "outputs": [
    {
     "data": {
      "text/plain": [
       "array([0.5488135 , 0.71518937, 0.60276338, 0.54488318, 0.4236548 ])"
      ]
     },
     "execution_count": 54,
     "metadata": {},
     "output_type": "execute_result"
    }
   ],
   "source": [
    "np.random.rand(5)"
   ]
  },
  {
   "cell_type": "code",
   "execution_count": 55,
   "id": "5a6a22b8",
   "metadata": {
    "ExecuteTime": {
     "end_time": "2023-09-22T06:31:14.664349Z",
     "start_time": "2023-09-22T06:31:14.651607Z"
    }
   },
   "outputs": [
    {
     "data": {
      "text/plain": [
       "array([0.64589411, 0.43758721, 0.891773  , 0.96366276, 0.38344152,\n",
       "       0.79172504, 0.52889492, 0.56804456, 0.92559664, 0.07103606])"
      ]
     },
     "execution_count": 55,
     "metadata": {},
     "output_type": "execute_result"
    }
   ],
   "source": [
    "np.random.rand(10)"
   ]
  },
  {
   "cell_type": "code",
   "execution_count": 56,
   "id": "e55d4841",
   "metadata": {
    "ExecuteTime": {
     "end_time": "2023-09-22T06:32:10.861704Z",
     "start_time": "2023-09-22T06:32:10.846243Z"
    }
   },
   "outputs": [],
   "source": [
    "np.random.seed(0)"
   ]
  },
  {
   "cell_type": "code",
   "execution_count": 57,
   "id": "52e9f60a",
   "metadata": {
    "ExecuteTime": {
     "end_time": "2023-09-22T06:32:20.255682Z",
     "start_time": "2023-09-22T06:32:20.241587Z"
    }
   },
   "outputs": [
    {
     "data": {
      "text/plain": [
       "array([0.5488135 , 0.71518937, 0.60276338, 0.54488318, 0.4236548 ])"
      ]
     },
     "execution_count": 57,
     "metadata": {},
     "output_type": "execute_result"
    }
   ],
   "source": [
    "np.random.rand(5)"
   ]
  },
  {
   "cell_type": "code",
   "execution_count": 58,
   "id": "5edaf8a0",
   "metadata": {
    "ExecuteTime": {
     "end_time": "2023-09-22T06:32:32.777980Z",
     "start_time": "2023-09-22T06:32:32.762830Z"
    }
   },
   "outputs": [
    {
     "data": {
      "text/plain": [
       "array([0.64589411, 0.43758721, 0.891773  , 0.96366276, 0.38344152,\n",
       "       0.79172504, 0.52889492, 0.56804456, 0.92559664, 0.07103606])"
      ]
     },
     "execution_count": 58,
     "metadata": {},
     "output_type": "execute_result"
    }
   ],
   "source": [
    "np.random.rand(10)"
   ]
  },
  {
   "cell_type": "code",
   "execution_count": 59,
   "id": "5bc9d3c5",
   "metadata": {
    "ExecuteTime": {
     "end_time": "2023-09-22T06:32:47.497257Z",
     "start_time": "2023-09-22T06:32:47.481750Z"
    }
   },
   "outputs": [
    {
     "data": {
      "text/plain": [
       "array([0.0871293 , 0.0202184 , 0.83261985, 0.77815675, 0.87001215,\n",
       "       0.97861834, 0.79915856, 0.46147936, 0.78052918, 0.11827443])"
      ]
     },
     "execution_count": 59,
     "metadata": {},
     "output_type": "execute_result"
    }
   ],
   "source": [
    "np.random.rand(10)"
   ]
  },
  {
   "cell_type": "code",
   "execution_count": 60,
   "id": "2420da52",
   "metadata": {
    "ExecuteTime": {
     "end_time": "2023-09-22T06:35:41.184425Z",
     "start_time": "2023-09-22T06:35:41.178227Z"
    }
   },
   "outputs": [],
   "source": [
    "arr1 = np.random.random((3,3))"
   ]
  },
  {
   "cell_type": "code",
   "execution_count": 61,
   "id": "b1076b9f",
   "metadata": {
    "ExecuteTime": {
     "end_time": "2023-09-22T06:36:32.394348Z",
     "start_time": "2023-09-22T06:36:32.386345Z"
    }
   },
   "outputs": [],
   "source": [
    "arr2 = np.random.normal(2,1,(3,2))"
   ]
  },
  {
   "cell_type": "code",
   "execution_count": 62,
   "id": "0be044c0",
   "metadata": {
    "ExecuteTime": {
     "end_time": "2023-09-22T06:36:34.984140Z",
     "start_time": "2023-09-22T06:36:34.969750Z"
    }
   },
   "outputs": [
    {
     "data": {
      "text/plain": [
       "array([[0.63992102, 0.14335329, 0.94466892],\n",
       "       [0.52184832, 0.41466194, 0.26455561],\n",
       "       [0.77423369, 0.45615033, 0.56843395]])"
      ]
     },
     "execution_count": 62,
     "metadata": {},
     "output_type": "execute_result"
    }
   ],
   "source": [
    "arr1"
   ]
  },
  {
   "cell_type": "code",
   "execution_count": 63,
   "id": "1f3e979f",
   "metadata": {
    "ExecuteTime": {
     "end_time": "2023-09-22T06:36:37.310101Z",
     "start_time": "2023-09-22T06:36:37.291771Z"
    }
   },
   "outputs": [
    {
     "data": {
      "text/plain": [
       "array([[2.04575852, 1.81281615],\n",
       "       [3.53277921, 3.46935877],\n",
       "       [2.15494743, 2.37816252]])"
      ]
     },
     "execution_count": 63,
     "metadata": {},
     "output_type": "execute_result"
    }
   ],
   "source": [
    "arr2"
   ]
  },
  {
   "cell_type": "code",
   "execution_count": 66,
   "id": "36cd8471",
   "metadata": {
    "ExecuteTime": {
     "end_time": "2023-09-22T06:39:27.371112Z",
     "start_time": "2023-09-22T06:39:27.363661Z"
    }
   },
   "outputs": [],
   "source": [
    "arr3=np.random.randn(2,3) # 표준정규분포, 평균(0) 편차(1)\n"
   ]
  },
  {
   "cell_type": "markdown",
   "id": "01c38647",
   "metadata": {},
   "source": [
    "## 데이터 샘플링(sampling), shuffle 명령과 같다.\n",
    "- np.choice(배열, size, reqlace, p)\n",
    "- 배열 : arange(n)\n"
   ]
  },
  {
   "cell_type": "code",
   "execution_count": 68,
   "id": "d0d0550c",
   "metadata": {
    "ExecuteTime": {
     "end_time": "2023-09-22T06:41:59.843821Z",
     "start_time": "2023-09-22T06:41:59.830624Z"
    }
   },
   "outputs": [
    {
     "data": {
      "text/plain": [
       "array([4, 2, 3, 1, 0])"
      ]
     },
     "execution_count": 68,
     "metadata": {},
     "output_type": "execute_result"
    }
   ],
   "source": [
    "np.random.choice(5, 5, replace=False)"
   ]
  },
  {
   "cell_type": "code",
   "execution_count": 69,
   "id": "361ab172",
   "metadata": {
    "ExecuteTime": {
     "end_time": "2023-09-22T06:42:31.707776Z",
     "start_time": "2023-09-22T06:42:31.693736Z"
    }
   },
   "outputs": [
    {
     "data": {
      "text/plain": [
       "array([2, 4, 1])"
      ]
     },
     "execution_count": 69,
     "metadata": {},
     "output_type": "execute_result"
    }
   ],
   "source": [
    "np.random.choice(5, 3, replace=False)"
   ]
  },
  {
   "cell_type": "code",
   "execution_count": 72,
   "id": "ea83f145",
   "metadata": {
    "ExecuteTime": {
     "end_time": "2023-09-22T06:44:18.436257Z",
     "start_time": "2023-09-22T06:44:18.421300Z"
    }
   },
   "outputs": [
    {
     "data": {
      "text/plain": [
       "array([0, 3, 0, 3, 3, 3, 3, 3, 0, 2])"
      ]
     },
     "execution_count": 72,
     "metadata": {},
     "output_type": "execute_result"
    }
   ],
   "source": [
    "np.random.choice(5, 10, p=[0.1,0, 0.3,0.6,0])"
   ]
  },
  {
   "cell_type": "code",
   "execution_count": 73,
   "id": "86f66818",
   "metadata": {
    "ExecuteTime": {
     "end_time": "2023-09-22T06:45:13.920615Z",
     "start_time": "2023-09-22T06:45:13.915279Z"
    }
   },
   "outputs": [
    {
     "data": {
      "text/plain": [
       "array([0.12019656, 0.2961402 , 0.11872772, 0.31798318, 0.41426299,\n",
       "       0.0641475 , 0.69247212, 0.56660145, 0.26538949, 0.52324805])"
      ]
     },
     "execution_count": 73,
     "metadata": {},
     "output_type": "execute_result"
    }
   ],
   "source": [
    "#0과 1사이 균일분포\n",
    "np.random.rand(10)"
   ]
  },
  {
   "cell_type": "code",
   "execution_count": 74,
   "id": "ed08b66d",
   "metadata": {
    "ExecuteTime": {
     "end_time": "2023-09-22T06:46:19.333016Z",
     "start_time": "2023-09-22T06:46:19.322340Z"
    }
   },
   "outputs": [
    {
     "data": {
      "text/plain": [
       "9"
      ]
     },
     "execution_count": 74,
     "metadata": {},
     "output_type": "execute_result"
    }
   ],
   "source": [
    "np.random.randint(10)"
   ]
  },
  {
   "cell_type": "code",
   "execution_count": 75,
   "id": "6b1417d3",
   "metadata": {
    "ExecuteTime": {
     "end_time": "2023-09-22T06:47:26.741365Z",
     "start_time": "2023-09-22T06:47:26.724095Z"
    }
   },
   "outputs": [
    {
     "data": {
      "text/plain": [
       "array([1, 4, 6, 8, 2, 3, 0, 0, 6, 0])"
      ]
     },
     "execution_count": 75,
     "metadata": {},
     "output_type": "execute_result"
    }
   ],
   "source": [
    "np.random.randint(10, size=10)"
   ]
  },
  {
   "cell_type": "code",
   "execution_count": 76,
   "id": "9b4ae34a",
   "metadata": {
    "ExecuteTime": {
     "end_time": "2023-09-22T06:47:42.595959Z",
     "start_time": "2023-09-22T06:47:42.582964Z"
    }
   },
   "outputs": [
    {
     "data": {
      "text/plain": [
       "array([16, 13, 13, 18, 18, 18, 12, 13, 12, 10])"
      ]
     },
     "execution_count": 76,
     "metadata": {},
     "output_type": "execute_result"
    }
   ],
   "source": [
    "np.random.randint(10,20,size=10)"
   ]
  },
  {
   "cell_type": "code",
   "execution_count": 77,
   "id": "35d720c1",
   "metadata": {
    "ExecuteTime": {
     "end_time": "2023-09-22T06:48:03.127423Z",
     "start_time": "2023-09-22T06:48:03.112465Z"
    }
   },
   "outputs": [
    {
     "data": {
      "text/plain": [
       "array([[18, 18, 13, 18, 12],\n",
       "       [18, 14, 13, 10, 14],\n",
       "       [13, 16, 19, 18, 10]])"
      ]
     },
     "execution_count": 77,
     "metadata": {},
     "output_type": "execute_result"
    }
   ],
   "source": [
    "np.random.randint(10,20,size=(3,5))"
   ]
  },
  {
   "cell_type": "markdown",
   "id": "6fc7cd81",
   "metadata": {},
   "source": [
    "## 정수 데이터 카운팅\n",
    "- unique : 중복 제거 중복되지 않은 값\n",
    "- return_counts = True, 각 값의 개수"
   ]
  },
  {
   "cell_type": "code",
   "execution_count": 78,
   "id": "e201db4d",
   "metadata": {
    "ExecuteTime": {
     "end_time": "2023-09-22T06:49:40.188162Z",
     "start_time": "2023-09-22T06:49:40.170819Z"
    }
   },
   "outputs": [
    {
     "data": {
      "text/plain": [
       "array([ 2,  3, 11])"
      ]
     },
     "execution_count": 78,
     "metadata": {},
     "output_type": "execute_result"
    }
   ],
   "source": [
    "np.unique([11,11,2,2,3,3])"
   ]
  },
  {
   "cell_type": "code",
   "execution_count": 80,
   "id": "70a89af0",
   "metadata": {
    "ExecuteTime": {
     "end_time": "2023-09-22T06:51:27.090336Z",
     "start_time": "2023-09-22T06:51:27.070005Z"
    }
   },
   "outputs": [
    {
     "data": {
      "text/plain": [
       "array(['a', 'b', 'b', 'c', 'a'], dtype='<U1')"
      ]
     },
     "execution_count": 80,
     "metadata": {},
     "output_type": "execute_result"
    }
   ],
   "source": [
    "a = np.array(['a', 'b', 'b', 'c', 'a'])\n",
    "a"
   ]
  },
  {
   "cell_type": "code",
   "execution_count": 81,
   "id": "3f1bcd2e",
   "metadata": {
    "ExecuteTime": {
     "end_time": "2023-09-22T06:51:37.694819Z",
     "start_time": "2023-09-22T06:51:37.682730Z"
    }
   },
   "outputs": [
    {
     "data": {
      "text/plain": [
       "array(['a', 'b', 'c'], dtype='<U1')"
      ]
     },
     "execution_count": 81,
     "metadata": {},
     "output_type": "execute_result"
    }
   ],
   "source": [
    "np.unique(a)"
   ]
  },
  {
   "cell_type": "code",
   "execution_count": 82,
   "id": "3a6c5f25",
   "metadata": {
    "ExecuteTime": {
     "end_time": "2023-09-22T06:52:23.607266Z",
     "start_time": "2023-09-22T06:52:23.589273Z"
    }
   },
   "outputs": [],
   "source": [
    "index, count = np.unique(a, return_counts=True)"
   ]
  },
  {
   "cell_type": "code",
   "execution_count": 83,
   "id": "85ee5ecb",
   "metadata": {
    "ExecuteTime": {
     "end_time": "2023-09-22T06:52:30.624665Z",
     "start_time": "2023-09-22T06:52:30.616246Z"
    }
   },
   "outputs": [
    {
     "data": {
      "text/plain": [
       "array(['a', 'b', 'c'], dtype='<U1')"
      ]
     },
     "execution_count": 83,
     "metadata": {},
     "output_type": "execute_result"
    }
   ],
   "source": [
    "index"
   ]
  },
  {
   "cell_type": "code",
   "execution_count": 84,
   "id": "5878cd86",
   "metadata": {
    "ExecuteTime": {
     "end_time": "2023-09-22T06:52:34.008075Z",
     "start_time": "2023-09-22T06:52:34.000818Z"
    }
   },
   "outputs": [
    {
     "data": {
      "text/plain": [
       "array([2, 2, 1], dtype=int64)"
      ]
     },
     "execution_count": 84,
     "metadata": {},
     "output_type": "execute_result"
    }
   ],
   "source": [
    "count"
   ]
  },
  {
   "cell_type": "markdown",
   "id": "fc3e3c34",
   "metadata": {},
   "source": [
    "# Data Analysis - 2nd"
   ]
  },
  {
   "cell_type": "code",
   "execution_count": 85,
   "id": "b698ec68",
   "metadata": {
    "ExecuteTime": {
     "end_time": "2023-09-22T07:04:50.622636Z",
     "start_time": "2023-09-22T07:04:50.608499Z"
    }
   },
   "outputs": [],
   "source": [
    "#zeros, ones, full, eye\n",
    "a = np.full((2,3),5)"
   ]
  },
  {
   "cell_type": "code",
   "execution_count": 86,
   "id": "081bf03a",
   "metadata": {
    "ExecuteTime": {
     "end_time": "2023-09-22T07:04:52.741227Z",
     "start_time": "2023-09-22T07:04:52.726227Z"
    }
   },
   "outputs": [
    {
     "data": {
      "text/plain": [
       "array([[5, 5, 5],\n",
       "       [5, 5, 5]])"
      ]
     },
     "execution_count": 86,
     "metadata": {},
     "output_type": "execute_result"
    }
   ],
   "source": [
    "a"
   ]
  },
  {
   "cell_type": "code",
   "execution_count": 87,
   "id": "fe884c6e",
   "metadata": {
    "ExecuteTime": {
     "end_time": "2023-09-22T07:05:43.543351Z",
     "start_time": "2023-09-22T07:05:43.524504Z"
    }
   },
   "outputs": [],
   "source": [
    "#정방행렬\n",
    "b = np.eye(3)"
   ]
  },
  {
   "cell_type": "code",
   "execution_count": 89,
   "id": "57fc0096",
   "metadata": {
    "ExecuteTime": {
     "end_time": "2023-09-22T07:05:49.159446Z",
     "start_time": "2023-09-22T07:05:49.143302Z"
    }
   },
   "outputs": [
    {
     "data": {
      "text/plain": [
       "array([[1., 0., 0.],\n",
       "       [0., 1., 0.],\n",
       "       [0., 0., 1.]])"
      ]
     },
     "execution_count": 89,
     "metadata": {},
     "output_type": "execute_result"
    }
   ],
   "source": [
    "b"
   ]
  },
  {
   "cell_type": "code",
   "execution_count": 90,
   "id": "300699e6",
   "metadata": {
    "ExecuteTime": {
     "end_time": "2023-09-22T07:11:34.962922Z",
     "start_time": "2023-09-22T07:11:34.955650Z"
    }
   },
   "outputs": [],
   "source": [
    "arr2d = np.array([[1,2,3],[4,5,6],[7,8,9]])"
   ]
  },
  {
   "cell_type": "code",
   "execution_count": 91,
   "id": "3a95a36e",
   "metadata": {
    "ExecuteTime": {
     "end_time": "2023-09-22T07:11:39.098645Z",
     "start_time": "2023-09-22T07:11:39.081803Z"
    }
   },
   "outputs": [
    {
     "data": {
      "text/plain": [
       "array([[1, 2, 3],\n",
       "       [4, 5, 6],\n",
       "       [7, 8, 9]])"
      ]
     },
     "execution_count": 91,
     "metadata": {},
     "output_type": "execute_result"
    }
   ],
   "source": [
    "arr2d"
   ]
  },
  {
   "cell_type": "code",
   "execution_count": 92,
   "id": "ff48dc26",
   "metadata": {
    "ExecuteTime": {
     "end_time": "2023-09-22T07:11:56.532093Z",
     "start_time": "2023-09-22T07:11:56.520135Z"
    }
   },
   "outputs": [
    {
     "data": {
      "text/plain": [
       "7"
      ]
     },
     "execution_count": 92,
     "metadata": {},
     "output_type": "execute_result"
    }
   ],
   "source": [
    "arr2d[2][0]"
   ]
  },
  {
   "cell_type": "code",
   "execution_count": 93,
   "id": "e5db1697",
   "metadata": {
    "ExecuteTime": {
     "end_time": "2023-09-22T07:12:17.592752Z",
     "start_time": "2023-09-22T07:12:17.585620Z"
    }
   },
   "outputs": [
    {
     "data": {
      "text/plain": [
       "7"
      ]
     },
     "execution_count": 93,
     "metadata": {},
     "output_type": "execute_result"
    }
   ],
   "source": [
    "arr2d[2,0]"
   ]
  },
  {
   "cell_type": "code",
   "execution_count": 94,
   "id": "b5da8545",
   "metadata": {
    "ExecuteTime": {
     "end_time": "2023-09-22T07:27:42.708473Z",
     "start_time": "2023-09-22T07:27:42.690183Z"
    }
   },
   "outputs": [],
   "source": [
    "a = np.array([[1,2,3,4],[5,6,7,8],[9,10,11,12]])"
   ]
  },
  {
   "cell_type": "code",
   "execution_count": 95,
   "id": "98b32edb",
   "metadata": {
    "ExecuteTime": {
     "end_time": "2023-09-22T07:27:44.142514Z",
     "start_time": "2023-09-22T07:27:44.137347Z"
    }
   },
   "outputs": [
    {
     "data": {
      "text/plain": [
       "array([[ 1,  2,  3,  4],\n",
       "       [ 5,  6,  7,  8],\n",
       "       [ 9, 10, 11, 12]])"
      ]
     },
     "execution_count": 95,
     "metadata": {},
     "output_type": "execute_result"
    }
   ],
   "source": [
    "a"
   ]
  },
  {
   "cell_type": "code",
   "execution_count": 96,
   "id": "ecaac120",
   "metadata": {
    "ExecuteTime": {
     "end_time": "2023-09-22T07:27:50.710999Z",
     "start_time": "2023-09-22T07:27:50.703420Z"
    }
   },
   "outputs": [],
   "source": [
    "b = a"
   ]
  },
  {
   "cell_type": "code",
   "execution_count": 97,
   "id": "51d55fe2",
   "metadata": {
    "ExecuteTime": {
     "end_time": "2023-09-22T07:27:53.433088Z",
     "start_time": "2023-09-22T07:27:53.421981Z"
    }
   },
   "outputs": [
    {
     "data": {
      "text/plain": [
       "array([[ 1,  2,  3,  4],\n",
       "       [ 5,  6,  7,  8],\n",
       "       [ 9, 10, 11, 12]])"
      ]
     },
     "execution_count": 97,
     "metadata": {},
     "output_type": "execute_result"
    }
   ],
   "source": [
    "b"
   ]
  },
  {
   "cell_type": "code",
   "execution_count": 98,
   "id": "4168cb87",
   "metadata": {
    "ExecuteTime": {
     "end_time": "2023-09-22T07:28:41.217972Z",
     "start_time": "2023-09-22T07:28:41.207182Z"
    }
   },
   "outputs": [],
   "source": [
    "a[0,0]=100"
   ]
  },
  {
   "cell_type": "code",
   "execution_count": 99,
   "id": "bd1a305a",
   "metadata": {
    "ExecuteTime": {
     "end_time": "2023-09-22T07:28:44.039295Z",
     "start_time": "2023-09-22T07:28:44.023443Z"
    }
   },
   "outputs": [
    {
     "data": {
      "text/plain": [
       "array([[100,   2,   3,   4],\n",
       "       [  5,   6,   7,   8],\n",
       "       [  9,  10,  11,  12]])"
      ]
     },
     "execution_count": 99,
     "metadata": {},
     "output_type": "execute_result"
    }
   ],
   "source": [
    "a"
   ]
  },
  {
   "cell_type": "code",
   "execution_count": 100,
   "id": "9d5a18fb",
   "metadata": {
    "ExecuteTime": {
     "end_time": "2023-09-22T07:28:47.254480Z",
     "start_time": "2023-09-22T07:28:47.234431Z"
    }
   },
   "outputs": [
    {
     "data": {
      "text/plain": [
       "array([[100,   2,   3,   4],\n",
       "       [  5,   6,   7,   8],\n",
       "       [  9,  10,  11,  12]])"
      ]
     },
     "execution_count": 100,
     "metadata": {},
     "output_type": "execute_result"
    }
   ],
   "source": [
    "b"
   ]
  },
  {
   "cell_type": "code",
   "execution_count": 101,
   "id": "a3e1fbcd",
   "metadata": {
    "ExecuteTime": {
     "end_time": "2023-09-22T07:29:25.356861Z",
     "start_time": "2023-09-22T07:29:25.340177Z"
    }
   },
   "outputs": [],
   "source": [
    "#copy() : 깊은복사\n",
    "c = a.copy()"
   ]
  },
  {
   "cell_type": "code",
   "execution_count": 102,
   "id": "ed3cdf52",
   "metadata": {
    "ExecuteTime": {
     "end_time": "2023-09-22T07:29:27.557521Z",
     "start_time": "2023-09-22T07:29:27.549409Z"
    }
   },
   "outputs": [
    {
     "data": {
      "text/plain": [
       "array([[100,   2,   3,   4],\n",
       "       [  5,   6,   7,   8],\n",
       "       [  9,  10,  11,  12]])"
      ]
     },
     "execution_count": 102,
     "metadata": {},
     "output_type": "execute_result"
    }
   ],
   "source": [
    "c"
   ]
  },
  {
   "cell_type": "code",
   "execution_count": 103,
   "id": "3ffff91d",
   "metadata": {
    "ExecuteTime": {
     "end_time": "2023-09-22T07:29:45.540945Z",
     "start_time": "2023-09-22T07:29:45.532172Z"
    }
   },
   "outputs": [],
   "source": [
    "c[0,0]=1"
   ]
  },
  {
   "cell_type": "code",
   "execution_count": 104,
   "id": "42f9a305",
   "metadata": {
    "ExecuteTime": {
     "end_time": "2023-09-22T07:29:47.374729Z",
     "start_time": "2023-09-22T07:29:47.359220Z"
    }
   },
   "outputs": [
    {
     "data": {
      "text/plain": [
       "array([[ 1,  2,  3,  4],\n",
       "       [ 5,  6,  7,  8],\n",
       "       [ 9, 10, 11, 12]])"
      ]
     },
     "execution_count": 104,
     "metadata": {},
     "output_type": "execute_result"
    }
   ],
   "source": [
    "c"
   ]
  },
  {
   "cell_type": "code",
   "execution_count": 105,
   "id": "c61c2b20",
   "metadata": {
    "ExecuteTime": {
     "end_time": "2023-09-22T07:29:49.823473Z",
     "start_time": "2023-09-22T07:29:49.813624Z"
    }
   },
   "outputs": [
    {
     "data": {
      "text/plain": [
       "array([[100,   2,   3,   4],\n",
       "       [  5,   6,   7,   8],\n",
       "       [  9,  10,  11,  12]])"
      ]
     },
     "execution_count": 105,
     "metadata": {},
     "output_type": "execute_result"
    }
   ],
   "source": [
    "a"
   ]
  },
  {
   "cell_type": "code",
   "execution_count": 108,
   "id": "4a9d561a",
   "metadata": {
    "ExecuteTime": {
     "end_time": "2023-09-22T07:32:00.293153Z",
     "start_time": "2023-09-22T07:32:00.279622Z"
    }
   },
   "outputs": [],
   "source": [
    "arr=np.array([[[1,2,3],[4,5,6]],[[7,8,9],[10,11,12]]])"
   ]
  },
  {
   "cell_type": "code",
   "execution_count": 109,
   "id": "99d5248b",
   "metadata": {
    "ExecuteTime": {
     "end_time": "2023-09-22T07:32:22.050745Z",
     "start_time": "2023-09-22T07:32:22.036449Z"
    }
   },
   "outputs": [],
   "source": [
    "arr1 = arr[0].copy()"
   ]
  },
  {
   "cell_type": "code",
   "execution_count": 110,
   "id": "d9c4990b",
   "metadata": {
    "ExecuteTime": {
     "end_time": "2023-09-22T07:32:24.417743Z",
     "start_time": "2023-09-22T07:32:24.400654Z"
    }
   },
   "outputs": [
    {
     "data": {
      "text/plain": [
       "array([[1, 2, 3],\n",
       "       [4, 5, 6]])"
      ]
     },
     "execution_count": 110,
     "metadata": {},
     "output_type": "execute_result"
    }
   ],
   "source": [
    "arr1"
   ]
  },
  {
   "cell_type": "code",
   "execution_count": 112,
   "id": "c546e9a5",
   "metadata": {
    "ExecuteTime": {
     "end_time": "2023-09-22T07:32:46.568940Z",
     "start_time": "2023-09-22T07:32:46.549279Z"
    }
   },
   "outputs": [
    {
     "data": {
      "text/plain": [
       "array([4, 5, 6])"
      ]
     },
     "execution_count": 112,
     "metadata": {},
     "output_type": "execute_result"
    }
   ],
   "source": [
    "arr[0][1]"
   ]
  },
  {
   "cell_type": "code",
   "execution_count": 113,
   "id": "7940bf7e",
   "metadata": {
    "ExecuteTime": {
     "end_time": "2023-09-22T07:33:19.819105Z",
     "start_time": "2023-09-22T07:33:19.811010Z"
    }
   },
   "outputs": [
    {
     "data": {
      "text/plain": [
       "array([4, 5, 6])"
      ]
     },
     "execution_count": 113,
     "metadata": {},
     "output_type": "execute_result"
    }
   ],
   "source": [
    "arr[0,1,:]"
   ]
  },
  {
   "cell_type": "code",
   "execution_count": null,
   "id": "22dc8174",
   "metadata": {},
   "outputs": [],
   "source": []
  }
 ],
 "metadata": {
  "kernelspec": {
   "display_name": "Python 3 (ipykernel)",
   "language": "python",
   "name": "python3"
  },
  "language_info": {
   "codemirror_mode": {
    "name": "ipython",
    "version": 3
   },
   "file_extension": ".py",
   "mimetype": "text/x-python",
   "name": "python",
   "nbconvert_exporter": "python",
   "pygments_lexer": "ipython3",
   "version": "3.9.17"
  },
  "toc": {
   "base_numbering": 1,
   "nav_menu": {},
   "number_sections": true,
   "sideBar": true,
   "skip_h1_title": false,
   "title_cell": "Table of Contents",
   "title_sidebar": "Contents",
   "toc_cell": false,
   "toc_position": {
    "height": "calc(100% - 180px)",
    "left": "10px",
    "top": "150px",
    "width": "384px"
   },
   "toc_section_display": true,
   "toc_window_display": true
  }
 },
 "nbformat": 4,
 "nbformat_minor": 5
}
